{
 "cells": [
  {
   "cell_type": "code",
   "execution_count": 58,
   "metadata": {},
   "outputs": [],
   "source": [
    "import numpy as np\n",
    "import pandas as pd\n",
    "import seaborn as sns\n",
    "from matplotlib import pyplot as plt\n",
    "from sklearn.preprocessing import StandardScaler\n",
    "from sklearn.model_selection import KFold\n",
    "from sklearn.model_selection import cross_validate\n",
    "from sklearn.linear_model import LinearRegression\n",
    "from sklearn.tree import DecisionTreeRegressor\n",
    "from sklearn.ensemble import RandomForestRegressor\n",
    "from xgboost import XGBRegressor\n",
    "from sklearn.model_selection import train_test_split\n",
    "from sklearn.preprocessing import OneHotEncoder, LabelEncoder\n",
    "from sklearn.metrics import mean_squared_error,r2_score\n",
    "SEED=42"
   ]
  },
  {
   "cell_type": "code",
   "execution_count": 2,
   "metadata": {},
   "outputs": [
    {
     "data": {
      "text/html": [
       "<div>\n",
       "<style scoped>\n",
       "    .dataframe tbody tr th:only-of-type {\n",
       "        vertical-align: middle;\n",
       "    }\n",
       "\n",
       "    .dataframe tbody tr th {\n",
       "        vertical-align: top;\n",
       "    }\n",
       "\n",
       "    .dataframe thead th {\n",
       "        text-align: right;\n",
       "    }\n",
       "</style>\n",
       "<table border=\"1\" class=\"dataframe\">\n",
       "  <thead>\n",
       "    <tr style=\"text-align: right;\">\n",
       "      <th></th>\n",
       "      <th>Unnamed: 0</th>\n",
       "      <th>carat</th>\n",
       "      <th>cut</th>\n",
       "      <th>color</th>\n",
       "      <th>clarity</th>\n",
       "      <th>depth</th>\n",
       "      <th>table</th>\n",
       "      <th>price</th>\n",
       "      <th>x</th>\n",
       "      <th>y</th>\n",
       "      <th>z</th>\n",
       "    </tr>\n",
       "  </thead>\n",
       "  <tbody>\n",
       "    <tr>\n",
       "      <th>0</th>\n",
       "      <td>1</td>\n",
       "      <td>0.23</td>\n",
       "      <td>Ideal</td>\n",
       "      <td>E</td>\n",
       "      <td>SI2</td>\n",
       "      <td>61.5</td>\n",
       "      <td>55.0</td>\n",
       "      <td>326</td>\n",
       "      <td>3.95</td>\n",
       "      <td>3.98</td>\n",
       "      <td>2.43</td>\n",
       "    </tr>\n",
       "    <tr>\n",
       "      <th>1</th>\n",
       "      <td>2</td>\n",
       "      <td>0.21</td>\n",
       "      <td>Premium</td>\n",
       "      <td>E</td>\n",
       "      <td>SI1</td>\n",
       "      <td>59.8</td>\n",
       "      <td>61.0</td>\n",
       "      <td>326</td>\n",
       "      <td>3.89</td>\n",
       "      <td>3.84</td>\n",
       "      <td>2.31</td>\n",
       "    </tr>\n",
       "    <tr>\n",
       "      <th>2</th>\n",
       "      <td>3</td>\n",
       "      <td>0.23</td>\n",
       "      <td>Good</td>\n",
       "      <td>E</td>\n",
       "      <td>VS1</td>\n",
       "      <td>56.9</td>\n",
       "      <td>65.0</td>\n",
       "      <td>327</td>\n",
       "      <td>4.05</td>\n",
       "      <td>4.07</td>\n",
       "      <td>2.31</td>\n",
       "    </tr>\n",
       "    <tr>\n",
       "      <th>3</th>\n",
       "      <td>4</td>\n",
       "      <td>0.29</td>\n",
       "      <td>Premium</td>\n",
       "      <td>I</td>\n",
       "      <td>VS2</td>\n",
       "      <td>62.4</td>\n",
       "      <td>58.0</td>\n",
       "      <td>334</td>\n",
       "      <td>4.20</td>\n",
       "      <td>4.23</td>\n",
       "      <td>2.63</td>\n",
       "    </tr>\n",
       "    <tr>\n",
       "      <th>4</th>\n",
       "      <td>5</td>\n",
       "      <td>0.31</td>\n",
       "      <td>Good</td>\n",
       "      <td>J</td>\n",
       "      <td>SI2</td>\n",
       "      <td>63.3</td>\n",
       "      <td>58.0</td>\n",
       "      <td>335</td>\n",
       "      <td>4.34</td>\n",
       "      <td>4.35</td>\n",
       "      <td>2.75</td>\n",
       "    </tr>\n",
       "  </tbody>\n",
       "</table>\n",
       "</div>"
      ],
      "text/plain": [
       "   Unnamed: 0  carat      cut color clarity  depth  table  price     x     y  \\\n",
       "0           1   0.23    Ideal     E     SI2   61.5   55.0    326  3.95  3.98   \n",
       "1           2   0.21  Premium     E     SI1   59.8   61.0    326  3.89  3.84   \n",
       "2           3   0.23     Good     E     VS1   56.9   65.0    327  4.05  4.07   \n",
       "3           4   0.29  Premium     I     VS2   62.4   58.0    334  4.20  4.23   \n",
       "4           5   0.31     Good     J     SI2   63.3   58.0    335  4.34  4.35   \n",
       "\n",
       "      z  \n",
       "0  2.43  \n",
       "1  2.31  \n",
       "2  2.31  \n",
       "3  2.63  \n",
       "4  2.75  "
      ]
     },
     "execution_count": 2,
     "metadata": {},
     "output_type": "execute_result"
    }
   ],
   "source": [
    "path=r\"C:\\Users\\JAYADEVA JAVALI\\Desktop\\cs\\diamonds.csv\"\n",
    "df = pd.read_csv(path)\n",
    "df.head()"
   ]
  },
  {
   "cell_type": "markdown",
   "metadata": {},
   "source": [
    "* **carat** - Carat weight of the diamond.\n",
    "* **cut** - Describes the cut quality of the diamond (from the best to worst: Ideal, Premium, Very Good, Good and Fair).\n",
    "* **color** - Color of the diamond (from the best to worst: D, E, F, G, H, I and J).\n",
    "* **clarity** - A measurement of how clear the diamond is (from the best to worst: IF, VVS1, VVS2, VS1, VS2, SI1, SI2 and I1).\n",
    "* **depth** - The height of a diamond, measured from the culet to the table, divided by the average girdle diameter (%).\n",
    "* **table** - The width of a diamond table expressed as a percentage of the average diameter (%).\n",
    "* **x** - Diamond length (mm).\n",
    "* **y** - Diamond width (mm).\n",
    "* **z** - Diamond depth (mm).\n",
    "* **price** - Diamond price. "
   ]
  },
  {
   "cell_type": "code",
   "execution_count": 3,
   "metadata": {},
   "outputs": [
    {
     "name": "stdout",
     "output_type": "stream",
     "text": [
      "<class 'pandas.core.frame.DataFrame'>\n",
      "RangeIndex: 53940 entries, 0 to 53939\n",
      "Data columns (total 11 columns):\n",
      " #   Column      Non-Null Count  Dtype  \n",
      "---  ------      --------------  -----  \n",
      " 0   Unnamed: 0  53940 non-null  int64  \n",
      " 1   carat       53940 non-null  float64\n",
      " 2   cut         53940 non-null  object \n",
      " 3   color       53940 non-null  object \n",
      " 4   clarity     53940 non-null  object \n",
      " 5   depth       53940 non-null  float64\n",
      " 6   table       53940 non-null  float64\n",
      " 7   price       53940 non-null  int64  \n",
      " 8   x           53940 non-null  float64\n",
      " 9   y           53940 non-null  float64\n",
      " 10  z           53940 non-null  float64\n",
      "dtypes: float64(6), int64(2), object(3)\n",
      "memory usage: 4.5+ MB\n"
     ]
    }
   ],
   "source": [
    "df.info()"
   ]
  },
  {
   "cell_type": "code",
   "execution_count": 4,
   "metadata": {},
   "outputs": [
    {
     "data": {
      "text/plain": [
       "(53940, 11)"
      ]
     },
     "execution_count": 4,
     "metadata": {},
     "output_type": "execute_result"
    }
   ],
   "source": [
    "df.shape"
   ]
  },
  {
   "cell_type": "markdown",
   "metadata": {},
   "source": [
    "### Missing Values"
   ]
  },
  {
   "cell_type": "code",
   "execution_count": 5,
   "metadata": {},
   "outputs": [
    {
     "data": {
      "text/plain": [
       "Unnamed: 0    0\n",
       "carat         0\n",
       "cut           0\n",
       "color         0\n",
       "clarity       0\n",
       "depth         0\n",
       "table         0\n",
       "price         0\n",
       "x             0\n",
       "y             0\n",
       "z             0\n",
       "dtype: int64"
      ]
     },
     "execution_count": 5,
     "metadata": {},
     "output_type": "execute_result"
    }
   ],
   "source": [
    "df.isnull().sum()"
   ]
  },
  {
   "cell_type": "code",
   "execution_count": 6,
   "metadata": {},
   "outputs": [
    {
     "name": "stdout",
     "output_type": "stream",
     "text": [
      "There are no missing values\n"
     ]
    }
   ],
   "source": [
    "if df.isnull().sum().any() == False:\n",
    "    print(\"There are no missing values\")\n",
    "else:\n",
    "    print(\"There are missing values\")"
   ]
  },
  {
   "cell_type": "markdown",
   "metadata": {},
   "source": [
    "### Checking for duplicate rows and removing unnecessary columns  "
   ]
  },
  {
   "cell_type": "code",
   "execution_count": 7,
   "metadata": {},
   "outputs": [],
   "source": [
    "# Dropping \"Unnamed: 0\" column\n",
    "df = df.drop([\"Unnamed: 0\"], axis = 1)"
   ]
  },
  {
   "cell_type": "code",
   "execution_count": 8,
   "metadata": {},
   "outputs": [
    {
     "name": "stdout",
     "output_type": "stream",
     "text": [
      "number of duplicate rows:  146\n"
     ]
    }
   ],
   "source": [
    "# Checking for duplicate rows\n",
    "print(\"number of duplicate rows: \", df.duplicated().sum())"
   ]
  },
  {
   "cell_type": "code",
   "execution_count": 9,
   "metadata": {},
   "outputs": [
    {
     "data": {
      "text/html": [
       "<div>\n",
       "<style scoped>\n",
       "    .dataframe tbody tr th:only-of-type {\n",
       "        vertical-align: middle;\n",
       "    }\n",
       "\n",
       "    .dataframe tbody tr th {\n",
       "        vertical-align: top;\n",
       "    }\n",
       "\n",
       "    .dataframe thead th {\n",
       "        text-align: right;\n",
       "    }\n",
       "</style>\n",
       "<table border=\"1\" class=\"dataframe\">\n",
       "  <thead>\n",
       "    <tr style=\"text-align: right;\">\n",
       "      <th></th>\n",
       "      <th>carat</th>\n",
       "      <th>cut</th>\n",
       "      <th>color</th>\n",
       "      <th>clarity</th>\n",
       "      <th>depth</th>\n",
       "      <th>table</th>\n",
       "      <th>price</th>\n",
       "      <th>x</th>\n",
       "      <th>y</th>\n",
       "      <th>z</th>\n",
       "    </tr>\n",
       "  </thead>\n",
       "  <tbody>\n",
       "    <tr>\n",
       "      <th>0</th>\n",
       "      <td>0.23</td>\n",
       "      <td>Ideal</td>\n",
       "      <td>E</td>\n",
       "      <td>SI2</td>\n",
       "      <td>61.5</td>\n",
       "      <td>55.0</td>\n",
       "      <td>326</td>\n",
       "      <td>3.95</td>\n",
       "      <td>3.98</td>\n",
       "      <td>2.43</td>\n",
       "    </tr>\n",
       "    <tr>\n",
       "      <th>1</th>\n",
       "      <td>0.21</td>\n",
       "      <td>Premium</td>\n",
       "      <td>E</td>\n",
       "      <td>SI1</td>\n",
       "      <td>59.8</td>\n",
       "      <td>61.0</td>\n",
       "      <td>326</td>\n",
       "      <td>3.89</td>\n",
       "      <td>3.84</td>\n",
       "      <td>2.31</td>\n",
       "    </tr>\n",
       "    <tr>\n",
       "      <th>2</th>\n",
       "      <td>0.23</td>\n",
       "      <td>Good</td>\n",
       "      <td>E</td>\n",
       "      <td>VS1</td>\n",
       "      <td>56.9</td>\n",
       "      <td>65.0</td>\n",
       "      <td>327</td>\n",
       "      <td>4.05</td>\n",
       "      <td>4.07</td>\n",
       "      <td>2.31</td>\n",
       "    </tr>\n",
       "    <tr>\n",
       "      <th>3</th>\n",
       "      <td>0.29</td>\n",
       "      <td>Premium</td>\n",
       "      <td>I</td>\n",
       "      <td>VS2</td>\n",
       "      <td>62.4</td>\n",
       "      <td>58.0</td>\n",
       "      <td>334</td>\n",
       "      <td>4.20</td>\n",
       "      <td>4.23</td>\n",
       "      <td>2.63</td>\n",
       "    </tr>\n",
       "    <tr>\n",
       "      <th>4</th>\n",
       "      <td>0.31</td>\n",
       "      <td>Good</td>\n",
       "      <td>J</td>\n",
       "      <td>SI2</td>\n",
       "      <td>63.3</td>\n",
       "      <td>58.0</td>\n",
       "      <td>335</td>\n",
       "      <td>4.34</td>\n",
       "      <td>4.35</td>\n",
       "      <td>2.75</td>\n",
       "    </tr>\n",
       "  </tbody>\n",
       "</table>\n",
       "</div>"
      ],
      "text/plain": [
       "   carat      cut color clarity  depth  table  price     x     y     z\n",
       "0   0.23    Ideal     E     SI2   61.5   55.0    326  3.95  3.98  2.43\n",
       "1   0.21  Premium     E     SI1   59.8   61.0    326  3.89  3.84  2.31\n",
       "2   0.23     Good     E     VS1   56.9   65.0    327  4.05  4.07  2.31\n",
       "3   0.29  Premium     I     VS2   62.4   58.0    334  4.20  4.23  2.63\n",
       "4   0.31     Good     J     SI2   63.3   58.0    335  4.34  4.35  2.75"
      ]
     },
     "execution_count": 9,
     "metadata": {},
     "output_type": "execute_result"
    }
   ],
   "source": [
    "df.head()"
   ]
  },
  {
   "cell_type": "markdown",
   "metadata": {},
   "source": [
    "### High Level Information "
   ]
  },
  {
   "cell_type": "code",
   "execution_count": 10,
   "metadata": {},
   "outputs": [
    {
     "data": {
      "text/html": [
       "<div>\n",
       "<style scoped>\n",
       "    .dataframe tbody tr th:only-of-type {\n",
       "        vertical-align: middle;\n",
       "    }\n",
       "\n",
       "    .dataframe tbody tr th {\n",
       "        vertical-align: top;\n",
       "    }\n",
       "\n",
       "    .dataframe thead th {\n",
       "        text-align: right;\n",
       "    }\n",
       "</style>\n",
       "<table border=\"1\" class=\"dataframe\">\n",
       "  <thead>\n",
       "    <tr style=\"text-align: right;\">\n",
       "      <th></th>\n",
       "      <th>count</th>\n",
       "      <th>mean</th>\n",
       "      <th>std</th>\n",
       "      <th>min</th>\n",
       "      <th>25%</th>\n",
       "      <th>50%</th>\n",
       "      <th>75%</th>\n",
       "      <th>max</th>\n",
       "    </tr>\n",
       "  </thead>\n",
       "  <tbody>\n",
       "    <tr>\n",
       "      <th>carat</th>\n",
       "      <td>53940.0</td>\n",
       "      <td>0.797940</td>\n",
       "      <td>0.474011</td>\n",
       "      <td>0.2</td>\n",
       "      <td>0.40</td>\n",
       "      <td>0.70</td>\n",
       "      <td>1.04</td>\n",
       "      <td>5.01</td>\n",
       "    </tr>\n",
       "    <tr>\n",
       "      <th>depth</th>\n",
       "      <td>53940.0</td>\n",
       "      <td>61.749405</td>\n",
       "      <td>1.432621</td>\n",
       "      <td>43.0</td>\n",
       "      <td>61.00</td>\n",
       "      <td>61.80</td>\n",
       "      <td>62.50</td>\n",
       "      <td>79.00</td>\n",
       "    </tr>\n",
       "    <tr>\n",
       "      <th>table</th>\n",
       "      <td>53940.0</td>\n",
       "      <td>57.457184</td>\n",
       "      <td>2.234491</td>\n",
       "      <td>43.0</td>\n",
       "      <td>56.00</td>\n",
       "      <td>57.00</td>\n",
       "      <td>59.00</td>\n",
       "      <td>95.00</td>\n",
       "    </tr>\n",
       "    <tr>\n",
       "      <th>price</th>\n",
       "      <td>53940.0</td>\n",
       "      <td>3932.799722</td>\n",
       "      <td>3989.439738</td>\n",
       "      <td>326.0</td>\n",
       "      <td>950.00</td>\n",
       "      <td>2401.00</td>\n",
       "      <td>5324.25</td>\n",
       "      <td>18823.00</td>\n",
       "    </tr>\n",
       "    <tr>\n",
       "      <th>x</th>\n",
       "      <td>53940.0</td>\n",
       "      <td>5.731157</td>\n",
       "      <td>1.121761</td>\n",
       "      <td>0.0</td>\n",
       "      <td>4.71</td>\n",
       "      <td>5.70</td>\n",
       "      <td>6.54</td>\n",
       "      <td>10.74</td>\n",
       "    </tr>\n",
       "    <tr>\n",
       "      <th>y</th>\n",
       "      <td>53940.0</td>\n",
       "      <td>5.734526</td>\n",
       "      <td>1.142135</td>\n",
       "      <td>0.0</td>\n",
       "      <td>4.72</td>\n",
       "      <td>5.71</td>\n",
       "      <td>6.54</td>\n",
       "      <td>58.90</td>\n",
       "    </tr>\n",
       "    <tr>\n",
       "      <th>z</th>\n",
       "      <td>53940.0</td>\n",
       "      <td>3.538734</td>\n",
       "      <td>0.705699</td>\n",
       "      <td>0.0</td>\n",
       "      <td>2.91</td>\n",
       "      <td>3.53</td>\n",
       "      <td>4.04</td>\n",
       "      <td>31.80</td>\n",
       "    </tr>\n",
       "  </tbody>\n",
       "</table>\n",
       "</div>"
      ],
      "text/plain": [
       "         count         mean          std    min     25%      50%      75%  \\\n",
       "carat  53940.0     0.797940     0.474011    0.2    0.40     0.70     1.04   \n",
       "depth  53940.0    61.749405     1.432621   43.0   61.00    61.80    62.50   \n",
       "table  53940.0    57.457184     2.234491   43.0   56.00    57.00    59.00   \n",
       "price  53940.0  3932.799722  3989.439738  326.0  950.00  2401.00  5324.25   \n",
       "x      53940.0     5.731157     1.121761    0.0    4.71     5.70     6.54   \n",
       "y      53940.0     5.734526     1.142135    0.0    4.72     5.71     6.54   \n",
       "z      53940.0     3.538734     0.705699    0.0    2.91     3.53     4.04   \n",
       "\n",
       "            max  \n",
       "carat      5.01  \n",
       "depth     79.00  \n",
       "table     95.00  \n",
       "price  18823.00  \n",
       "x         10.74  \n",
       "y         58.90  \n",
       "z         31.80  "
      ]
     },
     "execution_count": 10,
     "metadata": {},
     "output_type": "execute_result"
    }
   ],
   "source": [
    "df.describe().T\n",
    "#df.describe()\n",
    "#Numerical Data"
   ]
  },
  {
   "cell_type": "code",
   "execution_count": 11,
   "metadata": {},
   "outputs": [
    {
     "data": {
      "text/html": [
       "<div>\n",
       "<style scoped>\n",
       "    .dataframe tbody tr th:only-of-type {\n",
       "        vertical-align: middle;\n",
       "    }\n",
       "\n",
       "    .dataframe tbody tr th {\n",
       "        vertical-align: top;\n",
       "    }\n",
       "\n",
       "    .dataframe thead th {\n",
       "        text-align: right;\n",
       "    }\n",
       "</style>\n",
       "<table border=\"1\" class=\"dataframe\">\n",
       "  <thead>\n",
       "    <tr style=\"text-align: right;\">\n",
       "      <th></th>\n",
       "      <th>count</th>\n",
       "      <th>unique</th>\n",
       "      <th>top</th>\n",
       "      <th>freq</th>\n",
       "    </tr>\n",
       "  </thead>\n",
       "  <tbody>\n",
       "    <tr>\n",
       "      <th>cut</th>\n",
       "      <td>53940</td>\n",
       "      <td>5</td>\n",
       "      <td>Ideal</td>\n",
       "      <td>21551</td>\n",
       "    </tr>\n",
       "    <tr>\n",
       "      <th>color</th>\n",
       "      <td>53940</td>\n",
       "      <td>7</td>\n",
       "      <td>G</td>\n",
       "      <td>11292</td>\n",
       "    </tr>\n",
       "    <tr>\n",
       "      <th>clarity</th>\n",
       "      <td>53940</td>\n",
       "      <td>8</td>\n",
       "      <td>SI1</td>\n",
       "      <td>13065</td>\n",
       "    </tr>\n",
       "  </tbody>\n",
       "</table>\n",
       "</div>"
      ],
      "text/plain": [
       "         count unique    top   freq\n",
       "cut      53940      5  Ideal  21551\n",
       "color    53940      7      G  11292\n",
       "clarity  53940      8    SI1  13065"
      ]
     },
     "execution_count": 11,
     "metadata": {},
     "output_type": "execute_result"
    }
   ],
   "source": [
    "# Categorical data\n",
    "df.describe(include = \"O\").T"
   ]
  },
  {
   "cell_type": "code",
   "execution_count": 12,
   "metadata": {},
   "outputs": [],
   "source": [
    "format_dict = {\"carat\" : \"{:.2f}\", \"depth\" : \"{:.1f}\", \"table\" : \"{:.1f}\", \"x\" : \"{:.2f}\", \"y\" : \"{:.2f}\", \"z\" : \"{:.2f}\"}"
   ]
  },
  {
   "cell_type": "code",
   "execution_count": 13,
   "metadata": {},
   "outputs": [
    {
     "data": {
      "text/html": [
       "<style  type=\"text/css\" >\n",
       "#T_80018479_04df_11ec_baa1_9828a60a01e2row0_col9,#T_80018479_04df_11ec_baa1_9828a60a01e2row1_col9,#T_80018479_04df_11ec_baa1_9828a60a01e2row2_col9,#T_80018479_04df_11ec_baa1_9828a60a01e2row3_col9,#T_80018479_04df_11ec_baa1_9828a60a01e2row4_col9,#T_80018479_04df_11ec_baa1_9828a60a01e2row5_col7,#T_80018479_04df_11ec_baa1_9828a60a01e2row5_col9,#T_80018479_04df_11ec_baa1_9828a60a01e2row6_col7,#T_80018479_04df_11ec_baa1_9828a60a01e2row6_col8,#T_80018479_04df_11ec_baa1_9828a60a01e2row6_col9,#T_80018479_04df_11ec_baa1_9828a60a01e2row7_col9,#T_80018479_04df_11ec_baa1_9828a60a01e2row8_col7,#T_80018479_04df_11ec_baa1_9828a60a01e2row8_col8,#T_80018479_04df_11ec_baa1_9828a60a01e2row8_col9,#T_80018479_04df_11ec_baa1_9828a60a01e2row9_col9,#T_80018479_04df_11ec_baa1_9828a60a01e2row10_col7,#T_80018479_04df_11ec_baa1_9828a60a01e2row10_col8,#T_80018479_04df_11ec_baa1_9828a60a01e2row10_col9,#T_80018479_04df_11ec_baa1_9828a60a01e2row11_col9,#T_80018479_04df_11ec_baa1_9828a60a01e2row12_col7,#T_80018479_04df_11ec_baa1_9828a60a01e2row12_col8,#T_80018479_04df_11ec_baa1_9828a60a01e2row12_col9,#T_80018479_04df_11ec_baa1_9828a60a01e2row13_col9,#T_80018479_04df_11ec_baa1_9828a60a01e2row14_col7,#T_80018479_04df_11ec_baa1_9828a60a01e2row14_col8,#T_80018479_04df_11ec_baa1_9828a60a01e2row14_col9,#T_80018479_04df_11ec_baa1_9828a60a01e2row15_col9,#T_80018479_04df_11ec_baa1_9828a60a01e2row16_col9,#T_80018479_04df_11ec_baa1_9828a60a01e2row17_col7,#T_80018479_04df_11ec_baa1_9828a60a01e2row17_col8,#T_80018479_04df_11ec_baa1_9828a60a01e2row17_col9,#T_80018479_04df_11ec_baa1_9828a60a01e2row18_col7,#T_80018479_04df_11ec_baa1_9828a60a01e2row18_col8,#T_80018479_04df_11ec_baa1_9828a60a01e2row18_col9,#T_80018479_04df_11ec_baa1_9828a60a01e2row19_col9{\n",
       "            background:  yellow;\n",
       "        }</style><table id=\"T_80018479_04df_11ec_baa1_9828a60a01e2\" ><thead>    <tr>        <th class=\"blank level0\" ></th>        <th class=\"col_heading level0 col0\" >carat</th>        <th class=\"col_heading level0 col1\" >cut</th>        <th class=\"col_heading level0 col2\" >color</th>        <th class=\"col_heading level0 col3\" >clarity</th>        <th class=\"col_heading level0 col4\" >depth</th>        <th class=\"col_heading level0 col5\" >table</th>        <th class=\"col_heading level0 col6\" >price</th>        <th class=\"col_heading level0 col7\" >x</th>        <th class=\"col_heading level0 col8\" >y</th>        <th class=\"col_heading level0 col9\" >z</th>    </tr></thead><tbody>\n",
       "                <tr>\n",
       "                        <th id=\"T_80018479_04df_11ec_baa1_9828a60a01e2level0_row0\" class=\"row_heading level0 row0\" >2207</th>\n",
       "                        <td id=\"T_80018479_04df_11ec_baa1_9828a60a01e2row0_col0\" class=\"data row0 col0\" >1.00</td>\n",
       "                        <td id=\"T_80018479_04df_11ec_baa1_9828a60a01e2row0_col1\" class=\"data row0 col1\" >Premium</td>\n",
       "                        <td id=\"T_80018479_04df_11ec_baa1_9828a60a01e2row0_col2\" class=\"data row0 col2\" >G</td>\n",
       "                        <td id=\"T_80018479_04df_11ec_baa1_9828a60a01e2row0_col3\" class=\"data row0 col3\" >SI2</td>\n",
       "                        <td id=\"T_80018479_04df_11ec_baa1_9828a60a01e2row0_col4\" class=\"data row0 col4\" >59.1</td>\n",
       "                        <td id=\"T_80018479_04df_11ec_baa1_9828a60a01e2row0_col5\" class=\"data row0 col5\" >59.0</td>\n",
       "                        <td id=\"T_80018479_04df_11ec_baa1_9828a60a01e2row0_col6\" class=\"data row0 col6\" >3142</td>\n",
       "                        <td id=\"T_80018479_04df_11ec_baa1_9828a60a01e2row0_col7\" class=\"data row0 col7\" >6.55</td>\n",
       "                        <td id=\"T_80018479_04df_11ec_baa1_9828a60a01e2row0_col8\" class=\"data row0 col8\" >6.48</td>\n",
       "                        <td id=\"T_80018479_04df_11ec_baa1_9828a60a01e2row0_col9\" class=\"data row0 col9\" >0.00</td>\n",
       "            </tr>\n",
       "            <tr>\n",
       "                        <th id=\"T_80018479_04df_11ec_baa1_9828a60a01e2level0_row1\" class=\"row_heading level0 row1\" >2314</th>\n",
       "                        <td id=\"T_80018479_04df_11ec_baa1_9828a60a01e2row1_col0\" class=\"data row1 col0\" >1.01</td>\n",
       "                        <td id=\"T_80018479_04df_11ec_baa1_9828a60a01e2row1_col1\" class=\"data row1 col1\" >Premium</td>\n",
       "                        <td id=\"T_80018479_04df_11ec_baa1_9828a60a01e2row1_col2\" class=\"data row1 col2\" >H</td>\n",
       "                        <td id=\"T_80018479_04df_11ec_baa1_9828a60a01e2row1_col3\" class=\"data row1 col3\" >I1</td>\n",
       "                        <td id=\"T_80018479_04df_11ec_baa1_9828a60a01e2row1_col4\" class=\"data row1 col4\" >58.1</td>\n",
       "                        <td id=\"T_80018479_04df_11ec_baa1_9828a60a01e2row1_col5\" class=\"data row1 col5\" >59.0</td>\n",
       "                        <td id=\"T_80018479_04df_11ec_baa1_9828a60a01e2row1_col6\" class=\"data row1 col6\" >3167</td>\n",
       "                        <td id=\"T_80018479_04df_11ec_baa1_9828a60a01e2row1_col7\" class=\"data row1 col7\" >6.66</td>\n",
       "                        <td id=\"T_80018479_04df_11ec_baa1_9828a60a01e2row1_col8\" class=\"data row1 col8\" >6.60</td>\n",
       "                        <td id=\"T_80018479_04df_11ec_baa1_9828a60a01e2row1_col9\" class=\"data row1 col9\" >0.00</td>\n",
       "            </tr>\n",
       "            <tr>\n",
       "                        <th id=\"T_80018479_04df_11ec_baa1_9828a60a01e2level0_row2\" class=\"row_heading level0 row2\" >4791</th>\n",
       "                        <td id=\"T_80018479_04df_11ec_baa1_9828a60a01e2row2_col0\" class=\"data row2 col0\" >1.10</td>\n",
       "                        <td id=\"T_80018479_04df_11ec_baa1_9828a60a01e2row2_col1\" class=\"data row2 col1\" >Premium</td>\n",
       "                        <td id=\"T_80018479_04df_11ec_baa1_9828a60a01e2row2_col2\" class=\"data row2 col2\" >G</td>\n",
       "                        <td id=\"T_80018479_04df_11ec_baa1_9828a60a01e2row2_col3\" class=\"data row2 col3\" >SI2</td>\n",
       "                        <td id=\"T_80018479_04df_11ec_baa1_9828a60a01e2row2_col4\" class=\"data row2 col4\" >63.0</td>\n",
       "                        <td id=\"T_80018479_04df_11ec_baa1_9828a60a01e2row2_col5\" class=\"data row2 col5\" >59.0</td>\n",
       "                        <td id=\"T_80018479_04df_11ec_baa1_9828a60a01e2row2_col6\" class=\"data row2 col6\" >3696</td>\n",
       "                        <td id=\"T_80018479_04df_11ec_baa1_9828a60a01e2row2_col7\" class=\"data row2 col7\" >6.50</td>\n",
       "                        <td id=\"T_80018479_04df_11ec_baa1_9828a60a01e2row2_col8\" class=\"data row2 col8\" >6.47</td>\n",
       "                        <td id=\"T_80018479_04df_11ec_baa1_9828a60a01e2row2_col9\" class=\"data row2 col9\" >0.00</td>\n",
       "            </tr>\n",
       "            <tr>\n",
       "                        <th id=\"T_80018479_04df_11ec_baa1_9828a60a01e2level0_row3\" class=\"row_heading level0 row3\" >5471</th>\n",
       "                        <td id=\"T_80018479_04df_11ec_baa1_9828a60a01e2row3_col0\" class=\"data row3 col0\" >1.01</td>\n",
       "                        <td id=\"T_80018479_04df_11ec_baa1_9828a60a01e2row3_col1\" class=\"data row3 col1\" >Premium</td>\n",
       "                        <td id=\"T_80018479_04df_11ec_baa1_9828a60a01e2row3_col2\" class=\"data row3 col2\" >F</td>\n",
       "                        <td id=\"T_80018479_04df_11ec_baa1_9828a60a01e2row3_col3\" class=\"data row3 col3\" >SI2</td>\n",
       "                        <td id=\"T_80018479_04df_11ec_baa1_9828a60a01e2row3_col4\" class=\"data row3 col4\" >59.2</td>\n",
       "                        <td id=\"T_80018479_04df_11ec_baa1_9828a60a01e2row3_col5\" class=\"data row3 col5\" >58.0</td>\n",
       "                        <td id=\"T_80018479_04df_11ec_baa1_9828a60a01e2row3_col6\" class=\"data row3 col6\" >3837</td>\n",
       "                        <td id=\"T_80018479_04df_11ec_baa1_9828a60a01e2row3_col7\" class=\"data row3 col7\" >6.50</td>\n",
       "                        <td id=\"T_80018479_04df_11ec_baa1_9828a60a01e2row3_col8\" class=\"data row3 col8\" >6.47</td>\n",
       "                        <td id=\"T_80018479_04df_11ec_baa1_9828a60a01e2row3_col9\" class=\"data row3 col9\" >0.00</td>\n",
       "            </tr>\n",
       "            <tr>\n",
       "                        <th id=\"T_80018479_04df_11ec_baa1_9828a60a01e2level0_row4\" class=\"row_heading level0 row4\" >10167</th>\n",
       "                        <td id=\"T_80018479_04df_11ec_baa1_9828a60a01e2row4_col0\" class=\"data row4 col0\" >1.50</td>\n",
       "                        <td id=\"T_80018479_04df_11ec_baa1_9828a60a01e2row4_col1\" class=\"data row4 col1\" >Good</td>\n",
       "                        <td id=\"T_80018479_04df_11ec_baa1_9828a60a01e2row4_col2\" class=\"data row4 col2\" >G</td>\n",
       "                        <td id=\"T_80018479_04df_11ec_baa1_9828a60a01e2row4_col3\" class=\"data row4 col3\" >I1</td>\n",
       "                        <td id=\"T_80018479_04df_11ec_baa1_9828a60a01e2row4_col4\" class=\"data row4 col4\" >64.0</td>\n",
       "                        <td id=\"T_80018479_04df_11ec_baa1_9828a60a01e2row4_col5\" class=\"data row4 col5\" >61.0</td>\n",
       "                        <td id=\"T_80018479_04df_11ec_baa1_9828a60a01e2row4_col6\" class=\"data row4 col6\" >4731</td>\n",
       "                        <td id=\"T_80018479_04df_11ec_baa1_9828a60a01e2row4_col7\" class=\"data row4 col7\" >7.15</td>\n",
       "                        <td id=\"T_80018479_04df_11ec_baa1_9828a60a01e2row4_col8\" class=\"data row4 col8\" >7.04</td>\n",
       "                        <td id=\"T_80018479_04df_11ec_baa1_9828a60a01e2row4_col9\" class=\"data row4 col9\" >0.00</td>\n",
       "            </tr>\n",
       "            <tr>\n",
       "                        <th id=\"T_80018479_04df_11ec_baa1_9828a60a01e2level0_row5\" class=\"row_heading level0 row5\" >11182</th>\n",
       "                        <td id=\"T_80018479_04df_11ec_baa1_9828a60a01e2row5_col0\" class=\"data row5 col0\" >1.07</td>\n",
       "                        <td id=\"T_80018479_04df_11ec_baa1_9828a60a01e2row5_col1\" class=\"data row5 col1\" >Ideal</td>\n",
       "                        <td id=\"T_80018479_04df_11ec_baa1_9828a60a01e2row5_col2\" class=\"data row5 col2\" >F</td>\n",
       "                        <td id=\"T_80018479_04df_11ec_baa1_9828a60a01e2row5_col3\" class=\"data row5 col3\" >SI2</td>\n",
       "                        <td id=\"T_80018479_04df_11ec_baa1_9828a60a01e2row5_col4\" class=\"data row5 col4\" >61.6</td>\n",
       "                        <td id=\"T_80018479_04df_11ec_baa1_9828a60a01e2row5_col5\" class=\"data row5 col5\" >56.0</td>\n",
       "                        <td id=\"T_80018479_04df_11ec_baa1_9828a60a01e2row5_col6\" class=\"data row5 col6\" >4954</td>\n",
       "                        <td id=\"T_80018479_04df_11ec_baa1_9828a60a01e2row5_col7\" class=\"data row5 col7\" >0.00</td>\n",
       "                        <td id=\"T_80018479_04df_11ec_baa1_9828a60a01e2row5_col8\" class=\"data row5 col8\" >6.62</td>\n",
       "                        <td id=\"T_80018479_04df_11ec_baa1_9828a60a01e2row5_col9\" class=\"data row5 col9\" >0.00</td>\n",
       "            </tr>\n",
       "            <tr>\n",
       "                        <th id=\"T_80018479_04df_11ec_baa1_9828a60a01e2level0_row6\" class=\"row_heading level0 row6\" >11963</th>\n",
       "                        <td id=\"T_80018479_04df_11ec_baa1_9828a60a01e2row6_col0\" class=\"data row6 col0\" >1.00</td>\n",
       "                        <td id=\"T_80018479_04df_11ec_baa1_9828a60a01e2row6_col1\" class=\"data row6 col1\" >Very Good</td>\n",
       "                        <td id=\"T_80018479_04df_11ec_baa1_9828a60a01e2row6_col2\" class=\"data row6 col2\" >H</td>\n",
       "                        <td id=\"T_80018479_04df_11ec_baa1_9828a60a01e2row6_col3\" class=\"data row6 col3\" >VS2</td>\n",
       "                        <td id=\"T_80018479_04df_11ec_baa1_9828a60a01e2row6_col4\" class=\"data row6 col4\" >63.3</td>\n",
       "                        <td id=\"T_80018479_04df_11ec_baa1_9828a60a01e2row6_col5\" class=\"data row6 col5\" >53.0</td>\n",
       "                        <td id=\"T_80018479_04df_11ec_baa1_9828a60a01e2row6_col6\" class=\"data row6 col6\" >5139</td>\n",
       "                        <td id=\"T_80018479_04df_11ec_baa1_9828a60a01e2row6_col7\" class=\"data row6 col7\" >0.00</td>\n",
       "                        <td id=\"T_80018479_04df_11ec_baa1_9828a60a01e2row6_col8\" class=\"data row6 col8\" >0.00</td>\n",
       "                        <td id=\"T_80018479_04df_11ec_baa1_9828a60a01e2row6_col9\" class=\"data row6 col9\" >0.00</td>\n",
       "            </tr>\n",
       "            <tr>\n",
       "                        <th id=\"T_80018479_04df_11ec_baa1_9828a60a01e2level0_row7\" class=\"row_heading level0 row7\" >13601</th>\n",
       "                        <td id=\"T_80018479_04df_11ec_baa1_9828a60a01e2row7_col0\" class=\"data row7 col0\" >1.15</td>\n",
       "                        <td id=\"T_80018479_04df_11ec_baa1_9828a60a01e2row7_col1\" class=\"data row7 col1\" >Ideal</td>\n",
       "                        <td id=\"T_80018479_04df_11ec_baa1_9828a60a01e2row7_col2\" class=\"data row7 col2\" >G</td>\n",
       "                        <td id=\"T_80018479_04df_11ec_baa1_9828a60a01e2row7_col3\" class=\"data row7 col3\" >VS2</td>\n",
       "                        <td id=\"T_80018479_04df_11ec_baa1_9828a60a01e2row7_col4\" class=\"data row7 col4\" >59.2</td>\n",
       "                        <td id=\"T_80018479_04df_11ec_baa1_9828a60a01e2row7_col5\" class=\"data row7 col5\" >56.0</td>\n",
       "                        <td id=\"T_80018479_04df_11ec_baa1_9828a60a01e2row7_col6\" class=\"data row7 col6\" >5564</td>\n",
       "                        <td id=\"T_80018479_04df_11ec_baa1_9828a60a01e2row7_col7\" class=\"data row7 col7\" >6.88</td>\n",
       "                        <td id=\"T_80018479_04df_11ec_baa1_9828a60a01e2row7_col8\" class=\"data row7 col8\" >6.83</td>\n",
       "                        <td id=\"T_80018479_04df_11ec_baa1_9828a60a01e2row7_col9\" class=\"data row7 col9\" >0.00</td>\n",
       "            </tr>\n",
       "            <tr>\n",
       "                        <th id=\"T_80018479_04df_11ec_baa1_9828a60a01e2level0_row8\" class=\"row_heading level0 row8\" >15951</th>\n",
       "                        <td id=\"T_80018479_04df_11ec_baa1_9828a60a01e2row8_col0\" class=\"data row8 col0\" >1.14</td>\n",
       "                        <td id=\"T_80018479_04df_11ec_baa1_9828a60a01e2row8_col1\" class=\"data row8 col1\" >Fair</td>\n",
       "                        <td id=\"T_80018479_04df_11ec_baa1_9828a60a01e2row8_col2\" class=\"data row8 col2\" >G</td>\n",
       "                        <td id=\"T_80018479_04df_11ec_baa1_9828a60a01e2row8_col3\" class=\"data row8 col3\" >VS1</td>\n",
       "                        <td id=\"T_80018479_04df_11ec_baa1_9828a60a01e2row8_col4\" class=\"data row8 col4\" >57.5</td>\n",
       "                        <td id=\"T_80018479_04df_11ec_baa1_9828a60a01e2row8_col5\" class=\"data row8 col5\" >67.0</td>\n",
       "                        <td id=\"T_80018479_04df_11ec_baa1_9828a60a01e2row8_col6\" class=\"data row8 col6\" >6381</td>\n",
       "                        <td id=\"T_80018479_04df_11ec_baa1_9828a60a01e2row8_col7\" class=\"data row8 col7\" >0.00</td>\n",
       "                        <td id=\"T_80018479_04df_11ec_baa1_9828a60a01e2row8_col8\" class=\"data row8 col8\" >0.00</td>\n",
       "                        <td id=\"T_80018479_04df_11ec_baa1_9828a60a01e2row8_col9\" class=\"data row8 col9\" >0.00</td>\n",
       "            </tr>\n",
       "            <tr>\n",
       "                        <th id=\"T_80018479_04df_11ec_baa1_9828a60a01e2level0_row9\" class=\"row_heading level0 row9\" >24394</th>\n",
       "                        <td id=\"T_80018479_04df_11ec_baa1_9828a60a01e2row9_col0\" class=\"data row9 col0\" >2.18</td>\n",
       "                        <td id=\"T_80018479_04df_11ec_baa1_9828a60a01e2row9_col1\" class=\"data row9 col1\" >Premium</td>\n",
       "                        <td id=\"T_80018479_04df_11ec_baa1_9828a60a01e2row9_col2\" class=\"data row9 col2\" >H</td>\n",
       "                        <td id=\"T_80018479_04df_11ec_baa1_9828a60a01e2row9_col3\" class=\"data row9 col3\" >SI2</td>\n",
       "                        <td id=\"T_80018479_04df_11ec_baa1_9828a60a01e2row9_col4\" class=\"data row9 col4\" >59.4</td>\n",
       "                        <td id=\"T_80018479_04df_11ec_baa1_9828a60a01e2row9_col5\" class=\"data row9 col5\" >61.0</td>\n",
       "                        <td id=\"T_80018479_04df_11ec_baa1_9828a60a01e2row9_col6\" class=\"data row9 col6\" >12631</td>\n",
       "                        <td id=\"T_80018479_04df_11ec_baa1_9828a60a01e2row9_col7\" class=\"data row9 col7\" >8.49</td>\n",
       "                        <td id=\"T_80018479_04df_11ec_baa1_9828a60a01e2row9_col8\" class=\"data row9 col8\" >8.45</td>\n",
       "                        <td id=\"T_80018479_04df_11ec_baa1_9828a60a01e2row9_col9\" class=\"data row9 col9\" >0.00</td>\n",
       "            </tr>\n",
       "            <tr>\n",
       "                        <th id=\"T_80018479_04df_11ec_baa1_9828a60a01e2level0_row10\" class=\"row_heading level0 row10\" >24520</th>\n",
       "                        <td id=\"T_80018479_04df_11ec_baa1_9828a60a01e2row10_col0\" class=\"data row10 col0\" >1.56</td>\n",
       "                        <td id=\"T_80018479_04df_11ec_baa1_9828a60a01e2row10_col1\" class=\"data row10 col1\" >Ideal</td>\n",
       "                        <td id=\"T_80018479_04df_11ec_baa1_9828a60a01e2row10_col2\" class=\"data row10 col2\" >G</td>\n",
       "                        <td id=\"T_80018479_04df_11ec_baa1_9828a60a01e2row10_col3\" class=\"data row10 col3\" >VS2</td>\n",
       "                        <td id=\"T_80018479_04df_11ec_baa1_9828a60a01e2row10_col4\" class=\"data row10 col4\" >62.2</td>\n",
       "                        <td id=\"T_80018479_04df_11ec_baa1_9828a60a01e2row10_col5\" class=\"data row10 col5\" >54.0</td>\n",
       "                        <td id=\"T_80018479_04df_11ec_baa1_9828a60a01e2row10_col6\" class=\"data row10 col6\" >12800</td>\n",
       "                        <td id=\"T_80018479_04df_11ec_baa1_9828a60a01e2row10_col7\" class=\"data row10 col7\" >0.00</td>\n",
       "                        <td id=\"T_80018479_04df_11ec_baa1_9828a60a01e2row10_col8\" class=\"data row10 col8\" >0.00</td>\n",
       "                        <td id=\"T_80018479_04df_11ec_baa1_9828a60a01e2row10_col9\" class=\"data row10 col9\" >0.00</td>\n",
       "            </tr>\n",
       "            <tr>\n",
       "                        <th id=\"T_80018479_04df_11ec_baa1_9828a60a01e2level0_row11\" class=\"row_heading level0 row11\" >26123</th>\n",
       "                        <td id=\"T_80018479_04df_11ec_baa1_9828a60a01e2row11_col0\" class=\"data row11 col0\" >2.25</td>\n",
       "                        <td id=\"T_80018479_04df_11ec_baa1_9828a60a01e2row11_col1\" class=\"data row11 col1\" >Premium</td>\n",
       "                        <td id=\"T_80018479_04df_11ec_baa1_9828a60a01e2row11_col2\" class=\"data row11 col2\" >I</td>\n",
       "                        <td id=\"T_80018479_04df_11ec_baa1_9828a60a01e2row11_col3\" class=\"data row11 col3\" >SI1</td>\n",
       "                        <td id=\"T_80018479_04df_11ec_baa1_9828a60a01e2row11_col4\" class=\"data row11 col4\" >61.3</td>\n",
       "                        <td id=\"T_80018479_04df_11ec_baa1_9828a60a01e2row11_col5\" class=\"data row11 col5\" >58.0</td>\n",
       "                        <td id=\"T_80018479_04df_11ec_baa1_9828a60a01e2row11_col6\" class=\"data row11 col6\" >15397</td>\n",
       "                        <td id=\"T_80018479_04df_11ec_baa1_9828a60a01e2row11_col7\" class=\"data row11 col7\" >8.52</td>\n",
       "                        <td id=\"T_80018479_04df_11ec_baa1_9828a60a01e2row11_col8\" class=\"data row11 col8\" >8.42</td>\n",
       "                        <td id=\"T_80018479_04df_11ec_baa1_9828a60a01e2row11_col9\" class=\"data row11 col9\" >0.00</td>\n",
       "            </tr>\n",
       "            <tr>\n",
       "                        <th id=\"T_80018479_04df_11ec_baa1_9828a60a01e2level0_row12\" class=\"row_heading level0 row12\" >26243</th>\n",
       "                        <td id=\"T_80018479_04df_11ec_baa1_9828a60a01e2row12_col0\" class=\"data row12 col0\" >1.20</td>\n",
       "                        <td id=\"T_80018479_04df_11ec_baa1_9828a60a01e2row12_col1\" class=\"data row12 col1\" >Premium</td>\n",
       "                        <td id=\"T_80018479_04df_11ec_baa1_9828a60a01e2row12_col2\" class=\"data row12 col2\" >D</td>\n",
       "                        <td id=\"T_80018479_04df_11ec_baa1_9828a60a01e2row12_col3\" class=\"data row12 col3\" >VVS1</td>\n",
       "                        <td id=\"T_80018479_04df_11ec_baa1_9828a60a01e2row12_col4\" class=\"data row12 col4\" >62.1</td>\n",
       "                        <td id=\"T_80018479_04df_11ec_baa1_9828a60a01e2row12_col5\" class=\"data row12 col5\" >59.0</td>\n",
       "                        <td id=\"T_80018479_04df_11ec_baa1_9828a60a01e2row12_col6\" class=\"data row12 col6\" >15686</td>\n",
       "                        <td id=\"T_80018479_04df_11ec_baa1_9828a60a01e2row12_col7\" class=\"data row12 col7\" >0.00</td>\n",
       "                        <td id=\"T_80018479_04df_11ec_baa1_9828a60a01e2row12_col8\" class=\"data row12 col8\" >0.00</td>\n",
       "                        <td id=\"T_80018479_04df_11ec_baa1_9828a60a01e2row12_col9\" class=\"data row12 col9\" >0.00</td>\n",
       "            </tr>\n",
       "            <tr>\n",
       "                        <th id=\"T_80018479_04df_11ec_baa1_9828a60a01e2level0_row13\" class=\"row_heading level0 row13\" >27112</th>\n",
       "                        <td id=\"T_80018479_04df_11ec_baa1_9828a60a01e2row13_col0\" class=\"data row13 col0\" >2.20</td>\n",
       "                        <td id=\"T_80018479_04df_11ec_baa1_9828a60a01e2row13_col1\" class=\"data row13 col1\" >Premium</td>\n",
       "                        <td id=\"T_80018479_04df_11ec_baa1_9828a60a01e2row13_col2\" class=\"data row13 col2\" >H</td>\n",
       "                        <td id=\"T_80018479_04df_11ec_baa1_9828a60a01e2row13_col3\" class=\"data row13 col3\" >SI1</td>\n",
       "                        <td id=\"T_80018479_04df_11ec_baa1_9828a60a01e2row13_col4\" class=\"data row13 col4\" >61.2</td>\n",
       "                        <td id=\"T_80018479_04df_11ec_baa1_9828a60a01e2row13_col5\" class=\"data row13 col5\" >59.0</td>\n",
       "                        <td id=\"T_80018479_04df_11ec_baa1_9828a60a01e2row13_col6\" class=\"data row13 col6\" >17265</td>\n",
       "                        <td id=\"T_80018479_04df_11ec_baa1_9828a60a01e2row13_col7\" class=\"data row13 col7\" >8.42</td>\n",
       "                        <td id=\"T_80018479_04df_11ec_baa1_9828a60a01e2row13_col8\" class=\"data row13 col8\" >8.37</td>\n",
       "                        <td id=\"T_80018479_04df_11ec_baa1_9828a60a01e2row13_col9\" class=\"data row13 col9\" >0.00</td>\n",
       "            </tr>\n",
       "            <tr>\n",
       "                        <th id=\"T_80018479_04df_11ec_baa1_9828a60a01e2level0_row14\" class=\"row_heading level0 row14\" >27429</th>\n",
       "                        <td id=\"T_80018479_04df_11ec_baa1_9828a60a01e2row14_col0\" class=\"data row14 col0\" >2.25</td>\n",
       "                        <td id=\"T_80018479_04df_11ec_baa1_9828a60a01e2row14_col1\" class=\"data row14 col1\" >Premium</td>\n",
       "                        <td id=\"T_80018479_04df_11ec_baa1_9828a60a01e2row14_col2\" class=\"data row14 col2\" >H</td>\n",
       "                        <td id=\"T_80018479_04df_11ec_baa1_9828a60a01e2row14_col3\" class=\"data row14 col3\" >SI2</td>\n",
       "                        <td id=\"T_80018479_04df_11ec_baa1_9828a60a01e2row14_col4\" class=\"data row14 col4\" >62.8</td>\n",
       "                        <td id=\"T_80018479_04df_11ec_baa1_9828a60a01e2row14_col5\" class=\"data row14 col5\" >59.0</td>\n",
       "                        <td id=\"T_80018479_04df_11ec_baa1_9828a60a01e2row14_col6\" class=\"data row14 col6\" >18034</td>\n",
       "                        <td id=\"T_80018479_04df_11ec_baa1_9828a60a01e2row14_col7\" class=\"data row14 col7\" >0.00</td>\n",
       "                        <td id=\"T_80018479_04df_11ec_baa1_9828a60a01e2row14_col8\" class=\"data row14 col8\" >0.00</td>\n",
       "                        <td id=\"T_80018479_04df_11ec_baa1_9828a60a01e2row14_col9\" class=\"data row14 col9\" >0.00</td>\n",
       "            </tr>\n",
       "            <tr>\n",
       "                        <th id=\"T_80018479_04df_11ec_baa1_9828a60a01e2level0_row15\" class=\"row_heading level0 row15\" >27503</th>\n",
       "                        <td id=\"T_80018479_04df_11ec_baa1_9828a60a01e2row15_col0\" class=\"data row15 col0\" >2.02</td>\n",
       "                        <td id=\"T_80018479_04df_11ec_baa1_9828a60a01e2row15_col1\" class=\"data row15 col1\" >Premium</td>\n",
       "                        <td id=\"T_80018479_04df_11ec_baa1_9828a60a01e2row15_col2\" class=\"data row15 col2\" >H</td>\n",
       "                        <td id=\"T_80018479_04df_11ec_baa1_9828a60a01e2row15_col3\" class=\"data row15 col3\" >VS2</td>\n",
       "                        <td id=\"T_80018479_04df_11ec_baa1_9828a60a01e2row15_col4\" class=\"data row15 col4\" >62.7</td>\n",
       "                        <td id=\"T_80018479_04df_11ec_baa1_9828a60a01e2row15_col5\" class=\"data row15 col5\" >53.0</td>\n",
       "                        <td id=\"T_80018479_04df_11ec_baa1_9828a60a01e2row15_col6\" class=\"data row15 col6\" >18207</td>\n",
       "                        <td id=\"T_80018479_04df_11ec_baa1_9828a60a01e2row15_col7\" class=\"data row15 col7\" >8.02</td>\n",
       "                        <td id=\"T_80018479_04df_11ec_baa1_9828a60a01e2row15_col8\" class=\"data row15 col8\" >7.95</td>\n",
       "                        <td id=\"T_80018479_04df_11ec_baa1_9828a60a01e2row15_col9\" class=\"data row15 col9\" >0.00</td>\n",
       "            </tr>\n",
       "            <tr>\n",
       "                        <th id=\"T_80018479_04df_11ec_baa1_9828a60a01e2level0_row16\" class=\"row_heading level0 row16\" >27739</th>\n",
       "                        <td id=\"T_80018479_04df_11ec_baa1_9828a60a01e2row16_col0\" class=\"data row16 col0\" >2.80</td>\n",
       "                        <td id=\"T_80018479_04df_11ec_baa1_9828a60a01e2row16_col1\" class=\"data row16 col1\" >Good</td>\n",
       "                        <td id=\"T_80018479_04df_11ec_baa1_9828a60a01e2row16_col2\" class=\"data row16 col2\" >G</td>\n",
       "                        <td id=\"T_80018479_04df_11ec_baa1_9828a60a01e2row16_col3\" class=\"data row16 col3\" >SI2</td>\n",
       "                        <td id=\"T_80018479_04df_11ec_baa1_9828a60a01e2row16_col4\" class=\"data row16 col4\" >63.8</td>\n",
       "                        <td id=\"T_80018479_04df_11ec_baa1_9828a60a01e2row16_col5\" class=\"data row16 col5\" >58.0</td>\n",
       "                        <td id=\"T_80018479_04df_11ec_baa1_9828a60a01e2row16_col6\" class=\"data row16 col6\" >18788</td>\n",
       "                        <td id=\"T_80018479_04df_11ec_baa1_9828a60a01e2row16_col7\" class=\"data row16 col7\" >8.90</td>\n",
       "                        <td id=\"T_80018479_04df_11ec_baa1_9828a60a01e2row16_col8\" class=\"data row16 col8\" >8.85</td>\n",
       "                        <td id=\"T_80018479_04df_11ec_baa1_9828a60a01e2row16_col9\" class=\"data row16 col9\" >0.00</td>\n",
       "            </tr>\n",
       "            <tr>\n",
       "                        <th id=\"T_80018479_04df_11ec_baa1_9828a60a01e2level0_row17\" class=\"row_heading level0 row17\" >49556</th>\n",
       "                        <td id=\"T_80018479_04df_11ec_baa1_9828a60a01e2row17_col0\" class=\"data row17 col0\" >0.71</td>\n",
       "                        <td id=\"T_80018479_04df_11ec_baa1_9828a60a01e2row17_col1\" class=\"data row17 col1\" >Good</td>\n",
       "                        <td id=\"T_80018479_04df_11ec_baa1_9828a60a01e2row17_col2\" class=\"data row17 col2\" >F</td>\n",
       "                        <td id=\"T_80018479_04df_11ec_baa1_9828a60a01e2row17_col3\" class=\"data row17 col3\" >SI2</td>\n",
       "                        <td id=\"T_80018479_04df_11ec_baa1_9828a60a01e2row17_col4\" class=\"data row17 col4\" >64.1</td>\n",
       "                        <td id=\"T_80018479_04df_11ec_baa1_9828a60a01e2row17_col5\" class=\"data row17 col5\" >60.0</td>\n",
       "                        <td id=\"T_80018479_04df_11ec_baa1_9828a60a01e2row17_col6\" class=\"data row17 col6\" >2130</td>\n",
       "                        <td id=\"T_80018479_04df_11ec_baa1_9828a60a01e2row17_col7\" class=\"data row17 col7\" >0.00</td>\n",
       "                        <td id=\"T_80018479_04df_11ec_baa1_9828a60a01e2row17_col8\" class=\"data row17 col8\" >0.00</td>\n",
       "                        <td id=\"T_80018479_04df_11ec_baa1_9828a60a01e2row17_col9\" class=\"data row17 col9\" >0.00</td>\n",
       "            </tr>\n",
       "            <tr>\n",
       "                        <th id=\"T_80018479_04df_11ec_baa1_9828a60a01e2level0_row18\" class=\"row_heading level0 row18\" >49557</th>\n",
       "                        <td id=\"T_80018479_04df_11ec_baa1_9828a60a01e2row18_col0\" class=\"data row18 col0\" >0.71</td>\n",
       "                        <td id=\"T_80018479_04df_11ec_baa1_9828a60a01e2row18_col1\" class=\"data row18 col1\" >Good</td>\n",
       "                        <td id=\"T_80018479_04df_11ec_baa1_9828a60a01e2row18_col2\" class=\"data row18 col2\" >F</td>\n",
       "                        <td id=\"T_80018479_04df_11ec_baa1_9828a60a01e2row18_col3\" class=\"data row18 col3\" >SI2</td>\n",
       "                        <td id=\"T_80018479_04df_11ec_baa1_9828a60a01e2row18_col4\" class=\"data row18 col4\" >64.1</td>\n",
       "                        <td id=\"T_80018479_04df_11ec_baa1_9828a60a01e2row18_col5\" class=\"data row18 col5\" >60.0</td>\n",
       "                        <td id=\"T_80018479_04df_11ec_baa1_9828a60a01e2row18_col6\" class=\"data row18 col6\" >2130</td>\n",
       "                        <td id=\"T_80018479_04df_11ec_baa1_9828a60a01e2row18_col7\" class=\"data row18 col7\" >0.00</td>\n",
       "                        <td id=\"T_80018479_04df_11ec_baa1_9828a60a01e2row18_col8\" class=\"data row18 col8\" >0.00</td>\n",
       "                        <td id=\"T_80018479_04df_11ec_baa1_9828a60a01e2row18_col9\" class=\"data row18 col9\" >0.00</td>\n",
       "            </tr>\n",
       "            <tr>\n",
       "                        <th id=\"T_80018479_04df_11ec_baa1_9828a60a01e2level0_row19\" class=\"row_heading level0 row19\" >51506</th>\n",
       "                        <td id=\"T_80018479_04df_11ec_baa1_9828a60a01e2row19_col0\" class=\"data row19 col0\" >1.12</td>\n",
       "                        <td id=\"T_80018479_04df_11ec_baa1_9828a60a01e2row19_col1\" class=\"data row19 col1\" >Premium</td>\n",
       "                        <td id=\"T_80018479_04df_11ec_baa1_9828a60a01e2row19_col2\" class=\"data row19 col2\" >G</td>\n",
       "                        <td id=\"T_80018479_04df_11ec_baa1_9828a60a01e2row19_col3\" class=\"data row19 col3\" >I1</td>\n",
       "                        <td id=\"T_80018479_04df_11ec_baa1_9828a60a01e2row19_col4\" class=\"data row19 col4\" >60.4</td>\n",
       "                        <td id=\"T_80018479_04df_11ec_baa1_9828a60a01e2row19_col5\" class=\"data row19 col5\" >59.0</td>\n",
       "                        <td id=\"T_80018479_04df_11ec_baa1_9828a60a01e2row19_col6\" class=\"data row19 col6\" >2383</td>\n",
       "                        <td id=\"T_80018479_04df_11ec_baa1_9828a60a01e2row19_col7\" class=\"data row19 col7\" >6.71</td>\n",
       "                        <td id=\"T_80018479_04df_11ec_baa1_9828a60a01e2row19_col8\" class=\"data row19 col8\" >6.67</td>\n",
       "                        <td id=\"T_80018479_04df_11ec_baa1_9828a60a01e2row19_col9\" class=\"data row19 col9\" >0.00</td>\n",
       "            </tr>\n",
       "    </tbody></table>"
      ],
      "text/plain": [
       "<pandas.io.formats.style.Styler at 0x1dc76d41d90>"
      ]
     },
     "execution_count": 13,
     "metadata": {},
     "output_type": "execute_result"
    }
   ],
   "source": [
    "df_zero = df.loc[(df[\"x\"] == 0) | (df[\"y\"] == 0) | (df[\"z\"] == 0)]\n",
    "df_zero.style.apply(lambda x: [\"background: yellow\" if n == 0 else \"\" for n in x], axis = 1).format(format_dict)"
   ]
  },
  {
   "cell_type": "markdown",
   "metadata": {},
   "source": [
    "### We know that length,width and depth cannot be 0,therefore the data is wrong,lets treat these values"
   ]
  },
  {
   "cell_type": "code",
   "execution_count": 14,
   "metadata": {},
   "outputs": [],
   "source": [
    "# Transforming them into NaN values\n",
    "df.loc[df[\"x\"] == 0, \"x\"] = np.nan \n",
    "df.loc[df[\"y\"] == 0, \"y\"] = np.nan \n",
    "df.loc[df[\"z\"] == 0, \"z\"] = np.nan "
   ]
  },
  {
   "cell_type": "code",
   "execution_count": 15,
   "metadata": {},
   "outputs": [
    {
     "data": {
      "text/plain": [
       "x     8\n",
       "y     7\n",
       "z    20\n",
       "dtype: int64"
      ]
     },
     "execution_count": 15,
     "metadata": {},
     "output_type": "execute_result"
    }
   ],
   "source": [
    "# Seeing the number of the new missing values\n",
    "df[[\"x\", \"y\", \"z\"]].isnull().sum()"
   ]
  },
  {
   "cell_type": "markdown",
   "metadata": {},
   "source": [
    "### After Transformation we see the count of missing values,now lets treat the missing values."
   ]
  },
  {
   "cell_type": "markdown",
   "metadata": {},
   "source": [
    "### Checking Correlations"
   ]
  },
  {
   "cell_type": "code",
   "execution_count": 16,
   "metadata": {},
   "outputs": [
    {
     "data": {
      "text/html": [
       "<div>\n",
       "<style scoped>\n",
       "    .dataframe tbody tr th:only-of-type {\n",
       "        vertical-align: middle;\n",
       "    }\n",
       "\n",
       "    .dataframe tbody tr th {\n",
       "        vertical-align: top;\n",
       "    }\n",
       "\n",
       "    .dataframe thead th {\n",
       "        text-align: right;\n",
       "    }\n",
       "</style>\n",
       "<table border=\"1\" class=\"dataframe\">\n",
       "  <thead>\n",
       "    <tr style=\"text-align: right;\">\n",
       "      <th></th>\n",
       "      <th>carat</th>\n",
       "      <th>depth</th>\n",
       "      <th>table</th>\n",
       "      <th>price</th>\n",
       "      <th>x</th>\n",
       "      <th>y</th>\n",
       "      <th>z</th>\n",
       "    </tr>\n",
       "  </thead>\n",
       "  <tbody>\n",
       "    <tr>\n",
       "      <th>carat</th>\n",
       "      <td>1.000000</td>\n",
       "      <td>0.028224</td>\n",
       "      <td>0.181618</td>\n",
       "      <td>0.921591</td>\n",
       "      <td>0.977765</td>\n",
       "      <td>0.953989</td>\n",
       "      <td>0.961048</td>\n",
       "    </tr>\n",
       "    <tr>\n",
       "      <th>depth</th>\n",
       "      <td>0.028224</td>\n",
       "      <td>1.000000</td>\n",
       "      <td>-0.295779</td>\n",
       "      <td>-0.010647</td>\n",
       "      <td>-0.025097</td>\n",
       "      <td>-0.029142</td>\n",
       "      <td>0.095023</td>\n",
       "    </tr>\n",
       "    <tr>\n",
       "      <th>table</th>\n",
       "      <td>0.181618</td>\n",
       "      <td>-0.295779</td>\n",
       "      <td>1.000000</td>\n",
       "      <td>0.127134</td>\n",
       "      <td>0.196130</td>\n",
       "      <td>0.184519</td>\n",
       "      <td>0.152483</td>\n",
       "    </tr>\n",
       "    <tr>\n",
       "      <th>price</th>\n",
       "      <td>0.921591</td>\n",
       "      <td>-0.010647</td>\n",
       "      <td>0.127134</td>\n",
       "      <td>1.000000</td>\n",
       "      <td>0.887227</td>\n",
       "      <td>0.867870</td>\n",
       "      <td>0.868206</td>\n",
       "    </tr>\n",
       "    <tr>\n",
       "      <th>x</th>\n",
       "      <td>0.977765</td>\n",
       "      <td>-0.025097</td>\n",
       "      <td>0.196130</td>\n",
       "      <td>0.887227</td>\n",
       "      <td>1.000000</td>\n",
       "      <td>0.974933</td>\n",
       "      <td>0.975435</td>\n",
       "    </tr>\n",
       "    <tr>\n",
       "      <th>y</th>\n",
       "      <td>0.953989</td>\n",
       "      <td>-0.029142</td>\n",
       "      <td>0.184519</td>\n",
       "      <td>0.867870</td>\n",
       "      <td>0.974933</td>\n",
       "      <td>1.000000</td>\n",
       "      <td>0.956744</td>\n",
       "    </tr>\n",
       "    <tr>\n",
       "      <th>z</th>\n",
       "      <td>0.961048</td>\n",
       "      <td>0.095023</td>\n",
       "      <td>0.152483</td>\n",
       "      <td>0.868206</td>\n",
       "      <td>0.975435</td>\n",
       "      <td>0.956744</td>\n",
       "      <td>1.000000</td>\n",
       "    </tr>\n",
       "  </tbody>\n",
       "</table>\n",
       "</div>"
      ],
      "text/plain": [
       "          carat     depth     table     price         x         y         z\n",
       "carat  1.000000  0.028224  0.181618  0.921591  0.977765  0.953989  0.961048\n",
       "depth  0.028224  1.000000 -0.295779 -0.010647 -0.025097 -0.029142  0.095023\n",
       "table  0.181618 -0.295779  1.000000  0.127134  0.196130  0.184519  0.152483\n",
       "price  0.921591 -0.010647  0.127134  1.000000  0.887227  0.867870  0.868206\n",
       "x      0.977765 -0.025097  0.196130  0.887227  1.000000  0.974933  0.975435\n",
       "y      0.953989 -0.029142  0.184519  0.867870  0.974933  1.000000  0.956744\n",
       "z      0.961048  0.095023  0.152483  0.868206  0.975435  0.956744  1.000000"
      ]
     },
     "execution_count": 16,
     "metadata": {},
     "output_type": "execute_result"
    }
   ],
   "source": [
    "df.corr().T"
   ]
  },
  {
   "cell_type": "code",
   "execution_count": 17,
   "metadata": {},
   "outputs": [
    {
     "data": {
      "text/plain": [
       "<AxesSubplot:>"
      ]
     },
     "execution_count": 17,
     "metadata": {},
     "output_type": "execute_result"
    },
    {
     "data": {
      "image/png": "[encoded data removed]",
      "text/plain": [
       "<Figure size 432x288 with 2 Axes>"
      ]
     },
     "metadata": {
      "needs_background": "light"
     },
     "output_type": "display_data"
    }
   ],
   "source": [
    "sns.heatmap(df.corr())"
   ]
  },
  {
   "cell_type": "code",
   "execution_count": 18,
   "metadata": {},
   "outputs": [],
   "source": [
    "def get_corr(col):\n",
    "    return df.corr().unstack()[col].sort_values(ascending = False)    "
   ]
  },
  {
   "cell_type": "code",
   "execution_count": 19,
   "metadata": {},
   "outputs": [
    {
     "name": "stdout",
     "output_type": "stream",
     "text": [
      "x correlations\n",
      "\n",
      "x        1.000000\n",
      "carat    0.977765\n",
      "z        0.975435\n",
      "y        0.974933\n",
      "price    0.887227\n",
      "table    0.196130\n",
      "depth   -0.025097\n",
      "dtype: float64\n",
      "\n",
      "-------------------------\n",
      "\n",
      "y correlations\n",
      "\n",
      "y        1.000000\n",
      "x        0.974933\n",
      "z        0.956744\n",
      "carat    0.953989\n",
      "price    0.867870\n",
      "table    0.184519\n",
      "depth   -0.029142\n",
      "dtype: float64\n",
      "\n",
      "-------------------------\n",
      "\n",
      "z correlations\n",
      "\n",
      "z        1.000000\n",
      "x        0.975435\n",
      "carat    0.961048\n",
      "y        0.956744\n",
      "price    0.868206\n",
      "table    0.152483\n",
      "depth    0.095023\n",
      "dtype: float64\n"
     ]
    }
   ],
   "source": [
    "print(\"x correlations\\n\\n{0}\\n\\n{3}\\n\\ny correlations\\n\\n{1}\\n\\n{3}\\n\\nz correlations\\n\\n{2}\".format(get_corr(\"x\"), get_corr(\"y\"), get_corr(\"z\"), 25*\"-\"))"
   ]
  },
  {
   "cell_type": "markdown",
   "metadata": {},
   "source": [
    "## Imputing Missing Values\n",
    " x,y,z has values of 0 "
   ]
  },
  {
   "cell_type": "code",
   "execution_count": 20,
   "metadata": {},
   "outputs": [],
   "source": [
    "def missing_values_imputation(col):\n",
    "    carat = df.groupby([\"carat\"])[col].median()\n",
    "    index_list = list(df.loc[df[col].isnull() == True].sort_values(by = \"carat\", ascending = False).index)\n",
    "    for i in index_list:\n",
    "        carat_value = df.loc[i, \"carat\"]\n",
    "        new_value = carat[carat_value]\n",
    "        df.loc[i, col] = new_value\n",
    "        print(\"carat: {0} / median {1} value: {2}\".format(carat_value, col, new_value))\n",
    "    return df.iloc[index_list].style.applymap(lambda x: \"background-color: limegreen\", subset = col).format(format_dict)"
   ]
  },
  {
   "cell_type": "code",
   "execution_count": 21,
   "metadata": {},
   "outputs": [
    {
     "name": "stdout",
     "output_type": "stream",
     "text": [
      "carat: 2.25 / median x value: 8.47\n",
      "carat: 1.56 / median x value: 7.46\n",
      "carat: 1.2 / median x value: 6.78\n",
      "carat: 1.14 / median x value: 6.71\n",
      "carat: 1.07 / median x value: 6.57\n",
      "carat: 1.0 / median x value: 6.38\n",
      "carat: 0.71 / median x value: 5.72\n",
      "carat: 0.71 / median x value: 5.72\n"
     ]
    },
    {
     "data": {
      "text/html": [
       "<style  type=\"text/css\" >\n",
       "#T_fd71136f_04df_11ec_a98a_9828a60a01e2row0_col7,#T_fd71136f_04df_11ec_a98a_9828a60a01e2row1_col7,#T_fd71136f_04df_11ec_a98a_9828a60a01e2row2_col7,#T_fd71136f_04df_11ec_a98a_9828a60a01e2row3_col7,#T_fd71136f_04df_11ec_a98a_9828a60a01e2row4_col7,#T_fd71136f_04df_11ec_a98a_9828a60a01e2row5_col7,#T_fd71136f_04df_11ec_a98a_9828a60a01e2row6_col7,#T_fd71136f_04df_11ec_a98a_9828a60a01e2row7_col7{\n",
       "            background-color:  limegreen;\n",
       "        }</style><table id=\"T_fd71136f_04df_11ec_a98a_9828a60a01e2\" ><thead>    <tr>        <th class=\"blank level0\" ></th>        <th class=\"col_heading level0 col0\" >carat</th>        <th class=\"col_heading level0 col1\" >cut</th>        <th class=\"col_heading level0 col2\" >color</th>        <th class=\"col_heading level0 col3\" >clarity</th>        <th class=\"col_heading level0 col4\" >depth</th>        <th class=\"col_heading level0 col5\" >table</th>        <th class=\"col_heading level0 col6\" >price</th>        <th class=\"col_heading level0 col7\" >x</th>        <th class=\"col_heading level0 col8\" >y</th>        <th class=\"col_heading level0 col9\" >z</th>    </tr></thead><tbody>\n",
       "                <tr>\n",
       "                        <th id=\"T_fd71136f_04df_11ec_a98a_9828a60a01e2level0_row0\" class=\"row_heading level0 row0\" >27429</th>\n",
       "                        <td id=\"T_fd71136f_04df_11ec_a98a_9828a60a01e2row0_col0\" class=\"data row0 col0\" >2.25</td>\n",
       "                        <td id=\"T_fd71136f_04df_11ec_a98a_9828a60a01e2row0_col1\" class=\"data row0 col1\" >Premium</td>\n",
       "                        <td id=\"T_fd71136f_04df_11ec_a98a_9828a60a01e2row0_col2\" class=\"data row0 col2\" >H</td>\n",
       "                        <td id=\"T_fd71136f_04df_11ec_a98a_9828a60a01e2row0_col3\" class=\"data row0 col3\" >SI2</td>\n",
       "                        <td id=\"T_fd71136f_04df_11ec_a98a_9828a60a01e2row0_col4\" class=\"data row0 col4\" >62.8</td>\n",
       "                        <td id=\"T_fd71136f_04df_11ec_a98a_9828a60a01e2row0_col5\" class=\"data row0 col5\" >59.0</td>\n",
       "                        <td id=\"T_fd71136f_04df_11ec_a98a_9828a60a01e2row0_col6\" class=\"data row0 col6\" >18034</td>\n",
       "                        <td id=\"T_fd71136f_04df_11ec_a98a_9828a60a01e2row0_col7\" class=\"data row0 col7\" >8.47</td>\n",
       "                        <td id=\"T_fd71136f_04df_11ec_a98a_9828a60a01e2row0_col8\" class=\"data row0 col8\" >nan</td>\n",
       "                        <td id=\"T_fd71136f_04df_11ec_a98a_9828a60a01e2row0_col9\" class=\"data row0 col9\" >nan</td>\n",
       "            </tr>\n",
       "            <tr>\n",
       "                        <th id=\"T_fd71136f_04df_11ec_a98a_9828a60a01e2level0_row1\" class=\"row_heading level0 row1\" >24520</th>\n",
       "                        <td id=\"T_fd71136f_04df_11ec_a98a_9828a60a01e2row1_col0\" class=\"data row1 col0\" >1.56</td>\n",
       "                        <td id=\"T_fd71136f_04df_11ec_a98a_9828a60a01e2row1_col1\" class=\"data row1 col1\" >Ideal</td>\n",
       "                        <td id=\"T_fd71136f_04df_11ec_a98a_9828a60a01e2row1_col2\" class=\"data row1 col2\" >G</td>\n",
       "                        <td id=\"T_fd71136f_04df_11ec_a98a_9828a60a01e2row1_col3\" class=\"data row1 col3\" >VS2</td>\n",
       "                        <td id=\"T_fd71136f_04df_11ec_a98a_9828a60a01e2row1_col4\" class=\"data row1 col4\" >62.2</td>\n",
       "                        <td id=\"T_fd71136f_04df_11ec_a98a_9828a60a01e2row1_col5\" class=\"data row1 col5\" >54.0</td>\n",
       "                        <td id=\"T_fd71136f_04df_11ec_a98a_9828a60a01e2row1_col6\" class=\"data row1 col6\" >12800</td>\n",
       "                        <td id=\"T_fd71136f_04df_11ec_a98a_9828a60a01e2row1_col7\" class=\"data row1 col7\" >7.46</td>\n",
       "                        <td id=\"T_fd71136f_04df_11ec_a98a_9828a60a01e2row1_col8\" class=\"data row1 col8\" >nan</td>\n",
       "                        <td id=\"T_fd71136f_04df_11ec_a98a_9828a60a01e2row1_col9\" class=\"data row1 col9\" >nan</td>\n",
       "            </tr>\n",
       "            <tr>\n",
       "                        <th id=\"T_fd71136f_04df_11ec_a98a_9828a60a01e2level0_row2\" class=\"row_heading level0 row2\" >26243</th>\n",
       "                        <td id=\"T_fd71136f_04df_11ec_a98a_9828a60a01e2row2_col0\" class=\"data row2 col0\" >1.20</td>\n",
       "                        <td id=\"T_fd71136f_04df_11ec_a98a_9828a60a01e2row2_col1\" class=\"data row2 col1\" >Premium</td>\n",
       "                        <td id=\"T_fd71136f_04df_11ec_a98a_9828a60a01e2row2_col2\" class=\"data row2 col2\" >D</td>\n",
       "                        <td id=\"T_fd71136f_04df_11ec_a98a_9828a60a01e2row2_col3\" class=\"data row2 col3\" >VVS1</td>\n",
       "                        <td id=\"T_fd71136f_04df_11ec_a98a_9828a60a01e2row2_col4\" class=\"data row2 col4\" >62.1</td>\n",
       "                        <td id=\"T_fd71136f_04df_11ec_a98a_9828a60a01e2row2_col5\" class=\"data row2 col5\" >59.0</td>\n",
       "                        <td id=\"T_fd71136f_04df_11ec_a98a_9828a60a01e2row2_col6\" class=\"data row2 col6\" >15686</td>\n",
       "                        <td id=\"T_fd71136f_04df_11ec_a98a_9828a60a01e2row2_col7\" class=\"data row2 col7\" >6.78</td>\n",
       "                        <td id=\"T_fd71136f_04df_11ec_a98a_9828a60a01e2row2_col8\" class=\"data row2 col8\" >nan</td>\n",
       "                        <td id=\"T_fd71136f_04df_11ec_a98a_9828a60a01e2row2_col9\" class=\"data row2 col9\" >nan</td>\n",
       "            </tr>\n",
       "            <tr>\n",
       "                        <th id=\"T_fd71136f_04df_11ec_a98a_9828a60a01e2level0_row3\" class=\"row_heading level0 row3\" >15951</th>\n",
       "                        <td id=\"T_fd71136f_04df_11ec_a98a_9828a60a01e2row3_col0\" class=\"data row3 col0\" >1.14</td>\n",
       "                        <td id=\"T_fd71136f_04df_11ec_a98a_9828a60a01e2row3_col1\" class=\"data row3 col1\" >Fair</td>\n",
       "                        <td id=\"T_fd71136f_04df_11ec_a98a_9828a60a01e2row3_col2\" class=\"data row3 col2\" >G</td>\n",
       "                        <td id=\"T_fd71136f_04df_11ec_a98a_9828a60a01e2row3_col3\" class=\"data row3 col3\" >VS1</td>\n",
       "                        <td id=\"T_fd71136f_04df_11ec_a98a_9828a60a01e2row3_col4\" class=\"data row3 col4\" >57.5</td>\n",
       "                        <td id=\"T_fd71136f_04df_11ec_a98a_9828a60a01e2row3_col5\" class=\"data row3 col5\" >67.0</td>\n",
       "                        <td id=\"T_fd71136f_04df_11ec_a98a_9828a60a01e2row3_col6\" class=\"data row3 col6\" >6381</td>\n",
       "                        <td id=\"T_fd71136f_04df_11ec_a98a_9828a60a01e2row3_col7\" class=\"data row3 col7\" >6.71</td>\n",
       "                        <td id=\"T_fd71136f_04df_11ec_a98a_9828a60a01e2row3_col8\" class=\"data row3 col8\" >nan</td>\n",
       "                        <td id=\"T_fd71136f_04df_11ec_a98a_9828a60a01e2row3_col9\" class=\"data row3 col9\" >nan</td>\n",
       "            </tr>\n",
       "            <tr>\n",
       "                        <th id=\"T_fd71136f_04df_11ec_a98a_9828a60a01e2level0_row4\" class=\"row_heading level0 row4\" >11182</th>\n",
       "                        <td id=\"T_fd71136f_04df_11ec_a98a_9828a60a01e2row4_col0\" class=\"data row4 col0\" >1.07</td>\n",
       "                        <td id=\"T_fd71136f_04df_11ec_a98a_9828a60a01e2row4_col1\" class=\"data row4 col1\" >Ideal</td>\n",
       "                        <td id=\"T_fd71136f_04df_11ec_a98a_9828a60a01e2row4_col2\" class=\"data row4 col2\" >F</td>\n",
       "                        <td id=\"T_fd71136f_04df_11ec_a98a_9828a60a01e2row4_col3\" class=\"data row4 col3\" >SI2</td>\n",
       "                        <td id=\"T_fd71136f_04df_11ec_a98a_9828a60a01e2row4_col4\" class=\"data row4 col4\" >61.6</td>\n",
       "                        <td id=\"T_fd71136f_04df_11ec_a98a_9828a60a01e2row4_col5\" class=\"data row4 col5\" >56.0</td>\n",
       "                        <td id=\"T_fd71136f_04df_11ec_a98a_9828a60a01e2row4_col6\" class=\"data row4 col6\" >4954</td>\n",
       "                        <td id=\"T_fd71136f_04df_11ec_a98a_9828a60a01e2row4_col7\" class=\"data row4 col7\" >6.57</td>\n",
       "                        <td id=\"T_fd71136f_04df_11ec_a98a_9828a60a01e2row4_col8\" class=\"data row4 col8\" >6.62</td>\n",
       "                        <td id=\"T_fd71136f_04df_11ec_a98a_9828a60a01e2row4_col9\" class=\"data row4 col9\" >nan</td>\n",
       "            </tr>\n",
       "            <tr>\n",
       "                        <th id=\"T_fd71136f_04df_11ec_a98a_9828a60a01e2level0_row5\" class=\"row_heading level0 row5\" >11963</th>\n",
       "                        <td id=\"T_fd71136f_04df_11ec_a98a_9828a60a01e2row5_col0\" class=\"data row5 col0\" >1.00</td>\n",
       "                        <td id=\"T_fd71136f_04df_11ec_a98a_9828a60a01e2row5_col1\" class=\"data row5 col1\" >Very Good</td>\n",
       "                        <td id=\"T_fd71136f_04df_11ec_a98a_9828a60a01e2row5_col2\" class=\"data row5 col2\" >H</td>\n",
       "                        <td id=\"T_fd71136f_04df_11ec_a98a_9828a60a01e2row5_col3\" class=\"data row5 col3\" >VS2</td>\n",
       "                        <td id=\"T_fd71136f_04df_11ec_a98a_9828a60a01e2row5_col4\" class=\"data row5 col4\" >63.3</td>\n",
       "                        <td id=\"T_fd71136f_04df_11ec_a98a_9828a60a01e2row5_col5\" class=\"data row5 col5\" >53.0</td>\n",
       "                        <td id=\"T_fd71136f_04df_11ec_a98a_9828a60a01e2row5_col6\" class=\"data row5 col6\" >5139</td>\n",
       "                        <td id=\"T_fd71136f_04df_11ec_a98a_9828a60a01e2row5_col7\" class=\"data row5 col7\" >6.38</td>\n",
       "                        <td id=\"T_fd71136f_04df_11ec_a98a_9828a60a01e2row5_col8\" class=\"data row5 col8\" >nan</td>\n",
       "                        <td id=\"T_fd71136f_04df_11ec_a98a_9828a60a01e2row5_col9\" class=\"data row5 col9\" >nan</td>\n",
       "            </tr>\n",
       "            <tr>\n",
       "                        <th id=\"T_fd71136f_04df_11ec_a98a_9828a60a01e2level0_row6\" class=\"row_heading level0 row6\" >49556</th>\n",
       "                        <td id=\"T_fd71136f_04df_11ec_a98a_9828a60a01e2row6_col0\" class=\"data row6 col0\" >0.71</td>\n",
       "                        <td id=\"T_fd71136f_04df_11ec_a98a_9828a60a01e2row6_col1\" class=\"data row6 col1\" >Good</td>\n",
       "                        <td id=\"T_fd71136f_04df_11ec_a98a_9828a60a01e2row6_col2\" class=\"data row6 col2\" >F</td>\n",
       "                        <td id=\"T_fd71136f_04df_11ec_a98a_9828a60a01e2row6_col3\" class=\"data row6 col3\" >SI2</td>\n",
       "                        <td id=\"T_fd71136f_04df_11ec_a98a_9828a60a01e2row6_col4\" class=\"data row6 col4\" >64.1</td>\n",
       "                        <td id=\"T_fd71136f_04df_11ec_a98a_9828a60a01e2row6_col5\" class=\"data row6 col5\" >60.0</td>\n",
       "                        <td id=\"T_fd71136f_04df_11ec_a98a_9828a60a01e2row6_col6\" class=\"data row6 col6\" >2130</td>\n",
       "                        <td id=\"T_fd71136f_04df_11ec_a98a_9828a60a01e2row6_col7\" class=\"data row6 col7\" >5.72</td>\n",
       "                        <td id=\"T_fd71136f_04df_11ec_a98a_9828a60a01e2row6_col8\" class=\"data row6 col8\" >nan</td>\n",
       "                        <td id=\"T_fd71136f_04df_11ec_a98a_9828a60a01e2row6_col9\" class=\"data row6 col9\" >nan</td>\n",
       "            </tr>\n",
       "            <tr>\n",
       "                        <th id=\"T_fd71136f_04df_11ec_a98a_9828a60a01e2level0_row7\" class=\"row_heading level0 row7\" >49557</th>\n",
       "                        <td id=\"T_fd71136f_04df_11ec_a98a_9828a60a01e2row7_col0\" class=\"data row7 col0\" >0.71</td>\n",
       "                        <td id=\"T_fd71136f_04df_11ec_a98a_9828a60a01e2row7_col1\" class=\"data row7 col1\" >Good</td>\n",
       "                        <td id=\"T_fd71136f_04df_11ec_a98a_9828a60a01e2row7_col2\" class=\"data row7 col2\" >F</td>\n",
       "                        <td id=\"T_fd71136f_04df_11ec_a98a_9828a60a01e2row7_col3\" class=\"data row7 col3\" >SI2</td>\n",
       "                        <td id=\"T_fd71136f_04df_11ec_a98a_9828a60a01e2row7_col4\" class=\"data row7 col4\" >64.1</td>\n",
       "                        <td id=\"T_fd71136f_04df_11ec_a98a_9828a60a01e2row7_col5\" class=\"data row7 col5\" >60.0</td>\n",
       "                        <td id=\"T_fd71136f_04df_11ec_a98a_9828a60a01e2row7_col6\" class=\"data row7 col6\" >2130</td>\n",
       "                        <td id=\"T_fd71136f_04df_11ec_a98a_9828a60a01e2row7_col7\" class=\"data row7 col7\" >5.72</td>\n",
       "                        <td id=\"T_fd71136f_04df_11ec_a98a_9828a60a01e2row7_col8\" class=\"data row7 col8\" >nan</td>\n",
       "                        <td id=\"T_fd71136f_04df_11ec_a98a_9828a60a01e2row7_col9\" class=\"data row7 col9\" >nan</td>\n",
       "            </tr>\n",
       "    </tbody></table>"
      ],
      "text/plain": [
       "<pandas.io.formats.style.Styler at 0x1dc7d294af0>"
      ]
     },
     "execution_count": 21,
     "metadata": {},
     "output_type": "execute_result"
    }
   ],
   "source": [
    "missing_values_imputation(\"x\")"
   ]
  },
  {
   "cell_type": "code",
   "execution_count": 22,
   "metadata": {},
   "outputs": [
    {
     "name": "stdout",
     "output_type": "stream",
     "text": [
      "carat: 2.25 / median y value: 8.39\n",
      "carat: 1.56 / median y value: 7.46\n",
      "carat: 1.2 / median y value: 6.79\n",
      "carat: 1.14 / median y value: 6.72\n",
      "carat: 1.0 / median y value: 6.38\n",
      "carat: 0.71 / median y value: 5.73\n",
      "carat: 0.71 / median y value: 5.73\n"
     ]
    },
    {
     "data": {
      "text/html": [
       "<style  type=\"text/css\" >\n",
       "#T_0277f112_04e0_11ec_8692_9828a60a01e2row0_col8,#T_0277f112_04e0_11ec_8692_9828a60a01e2row1_col8,#T_0277f112_04e0_11ec_8692_9828a60a01e2row2_col8,#T_0277f112_04e0_11ec_8692_9828a60a01e2row3_col8,#T_0277f112_04e0_11ec_8692_9828a60a01e2row4_col8,#T_0277f112_04e0_11ec_8692_9828a60a01e2row5_col8,#T_0277f112_04e0_11ec_8692_9828a60a01e2row6_col8{\n",
       "            background-color:  limegreen;\n",
       "        }</style><table id=\"T_0277f112_04e0_11ec_8692_9828a60a01e2\" ><thead>    <tr>        <th class=\"blank level0\" ></th>        <th class=\"col_heading level0 col0\" >carat</th>        <th class=\"col_heading level0 col1\" >cut</th>        <th class=\"col_heading level0 col2\" >color</th>        <th class=\"col_heading level0 col3\" >clarity</th>        <th class=\"col_heading level0 col4\" >depth</th>        <th class=\"col_heading level0 col5\" >table</th>        <th class=\"col_heading level0 col6\" >price</th>        <th class=\"col_heading level0 col7\" >x</th>        <th class=\"col_heading level0 col8\" >y</th>        <th class=\"col_heading level0 col9\" >z</th>    </tr></thead><tbody>\n",
       "                <tr>\n",
       "                        <th id=\"T_0277f112_04e0_11ec_8692_9828a60a01e2level0_row0\" class=\"row_heading level0 row0\" >27429</th>\n",
       "                        <td id=\"T_0277f112_04e0_11ec_8692_9828a60a01e2row0_col0\" class=\"data row0 col0\" >2.25</td>\n",
       "                        <td id=\"T_0277f112_04e0_11ec_8692_9828a60a01e2row0_col1\" class=\"data row0 col1\" >Premium</td>\n",
       "                        <td id=\"T_0277f112_04e0_11ec_8692_9828a60a01e2row0_col2\" class=\"data row0 col2\" >H</td>\n",
       "                        <td id=\"T_0277f112_04e0_11ec_8692_9828a60a01e2row0_col3\" class=\"data row0 col3\" >SI2</td>\n",
       "                        <td id=\"T_0277f112_04e0_11ec_8692_9828a60a01e2row0_col4\" class=\"data row0 col4\" >62.8</td>\n",
       "                        <td id=\"T_0277f112_04e0_11ec_8692_9828a60a01e2row0_col5\" class=\"data row0 col5\" >59.0</td>\n",
       "                        <td id=\"T_0277f112_04e0_11ec_8692_9828a60a01e2row0_col6\" class=\"data row0 col6\" >18034</td>\n",
       "                        <td id=\"T_0277f112_04e0_11ec_8692_9828a60a01e2row0_col7\" class=\"data row0 col7\" >8.47</td>\n",
       "                        <td id=\"T_0277f112_04e0_11ec_8692_9828a60a01e2row0_col8\" class=\"data row0 col8\" >8.39</td>\n",
       "                        <td id=\"T_0277f112_04e0_11ec_8692_9828a60a01e2row0_col9\" class=\"data row0 col9\" >nan</td>\n",
       "            </tr>\n",
       "            <tr>\n",
       "                        <th id=\"T_0277f112_04e0_11ec_8692_9828a60a01e2level0_row1\" class=\"row_heading level0 row1\" >24520</th>\n",
       "                        <td id=\"T_0277f112_04e0_11ec_8692_9828a60a01e2row1_col0\" class=\"data row1 col0\" >1.56</td>\n",
       "                        <td id=\"T_0277f112_04e0_11ec_8692_9828a60a01e2row1_col1\" class=\"data row1 col1\" >Ideal</td>\n",
       "                        <td id=\"T_0277f112_04e0_11ec_8692_9828a60a01e2row1_col2\" class=\"data row1 col2\" >G</td>\n",
       "                        <td id=\"T_0277f112_04e0_11ec_8692_9828a60a01e2row1_col3\" class=\"data row1 col3\" >VS2</td>\n",
       "                        <td id=\"T_0277f112_04e0_11ec_8692_9828a60a01e2row1_col4\" class=\"data row1 col4\" >62.2</td>\n",
       "                        <td id=\"T_0277f112_04e0_11ec_8692_9828a60a01e2row1_col5\" class=\"data row1 col5\" >54.0</td>\n",
       "                        <td id=\"T_0277f112_04e0_11ec_8692_9828a60a01e2row1_col6\" class=\"data row1 col6\" >12800</td>\n",
       "                        <td id=\"T_0277f112_04e0_11ec_8692_9828a60a01e2row1_col7\" class=\"data row1 col7\" >7.46</td>\n",
       "                        <td id=\"T_0277f112_04e0_11ec_8692_9828a60a01e2row1_col8\" class=\"data row1 col8\" >7.46</td>\n",
       "                        <td id=\"T_0277f112_04e0_11ec_8692_9828a60a01e2row1_col9\" class=\"data row1 col9\" >nan</td>\n",
       "            </tr>\n",
       "            <tr>\n",
       "                        <th id=\"T_0277f112_04e0_11ec_8692_9828a60a01e2level0_row2\" class=\"row_heading level0 row2\" >26243</th>\n",
       "                        <td id=\"T_0277f112_04e0_11ec_8692_9828a60a01e2row2_col0\" class=\"data row2 col0\" >1.20</td>\n",
       "                        <td id=\"T_0277f112_04e0_11ec_8692_9828a60a01e2row2_col1\" class=\"data row2 col1\" >Premium</td>\n",
       "                        <td id=\"T_0277f112_04e0_11ec_8692_9828a60a01e2row2_col2\" class=\"data row2 col2\" >D</td>\n",
       "                        <td id=\"T_0277f112_04e0_11ec_8692_9828a60a01e2row2_col3\" class=\"data row2 col3\" >VVS1</td>\n",
       "                        <td id=\"T_0277f112_04e0_11ec_8692_9828a60a01e2row2_col4\" class=\"data row2 col4\" >62.1</td>\n",
       "                        <td id=\"T_0277f112_04e0_11ec_8692_9828a60a01e2row2_col5\" class=\"data row2 col5\" >59.0</td>\n",
       "                        <td id=\"T_0277f112_04e0_11ec_8692_9828a60a01e2row2_col6\" class=\"data row2 col6\" >15686</td>\n",
       "                        <td id=\"T_0277f112_04e0_11ec_8692_9828a60a01e2row2_col7\" class=\"data row2 col7\" >6.78</td>\n",
       "                        <td id=\"T_0277f112_04e0_11ec_8692_9828a60a01e2row2_col8\" class=\"data row2 col8\" >6.79</td>\n",
       "                        <td id=\"T_0277f112_04e0_11ec_8692_9828a60a01e2row2_col9\" class=\"data row2 col9\" >nan</td>\n",
       "            </tr>\n",
       "            <tr>\n",
       "                        <th id=\"T_0277f112_04e0_11ec_8692_9828a60a01e2level0_row3\" class=\"row_heading level0 row3\" >15951</th>\n",
       "                        <td id=\"T_0277f112_04e0_11ec_8692_9828a60a01e2row3_col0\" class=\"data row3 col0\" >1.14</td>\n",
       "                        <td id=\"T_0277f112_04e0_11ec_8692_9828a60a01e2row3_col1\" class=\"data row3 col1\" >Fair</td>\n",
       "                        <td id=\"T_0277f112_04e0_11ec_8692_9828a60a01e2row3_col2\" class=\"data row3 col2\" >G</td>\n",
       "                        <td id=\"T_0277f112_04e0_11ec_8692_9828a60a01e2row3_col3\" class=\"data row3 col3\" >VS1</td>\n",
       "                        <td id=\"T_0277f112_04e0_11ec_8692_9828a60a01e2row3_col4\" class=\"data row3 col4\" >57.5</td>\n",
       "                        <td id=\"T_0277f112_04e0_11ec_8692_9828a60a01e2row3_col5\" class=\"data row3 col5\" >67.0</td>\n",
       "                        <td id=\"T_0277f112_04e0_11ec_8692_9828a60a01e2row3_col6\" class=\"data row3 col6\" >6381</td>\n",
       "                        <td id=\"T_0277f112_04e0_11ec_8692_9828a60a01e2row3_col7\" class=\"data row3 col7\" >6.71</td>\n",
       "                        <td id=\"T_0277f112_04e0_11ec_8692_9828a60a01e2row3_col8\" class=\"data row3 col8\" >6.72</td>\n",
       "                        <td id=\"T_0277f112_04e0_11ec_8692_9828a60a01e2row3_col9\" class=\"data row3 col9\" >nan</td>\n",
       "            </tr>\n",
       "            <tr>\n",
       "                        <th id=\"T_0277f112_04e0_11ec_8692_9828a60a01e2level0_row4\" class=\"row_heading level0 row4\" >11963</th>\n",
       "                        <td id=\"T_0277f112_04e0_11ec_8692_9828a60a01e2row4_col0\" class=\"data row4 col0\" >1.00</td>\n",
       "                        <td id=\"T_0277f112_04e0_11ec_8692_9828a60a01e2row4_col1\" class=\"data row4 col1\" >Very Good</td>\n",
       "                        <td id=\"T_0277f112_04e0_11ec_8692_9828a60a01e2row4_col2\" class=\"data row4 col2\" >H</td>\n",
       "                        <td id=\"T_0277f112_04e0_11ec_8692_9828a60a01e2row4_col3\" class=\"data row4 col3\" >VS2</td>\n",
       "                        <td id=\"T_0277f112_04e0_11ec_8692_9828a60a01e2row4_col4\" class=\"data row4 col4\" >63.3</td>\n",
       "                        <td id=\"T_0277f112_04e0_11ec_8692_9828a60a01e2row4_col5\" class=\"data row4 col5\" >53.0</td>\n",
       "                        <td id=\"T_0277f112_04e0_11ec_8692_9828a60a01e2row4_col6\" class=\"data row4 col6\" >5139</td>\n",
       "                        <td id=\"T_0277f112_04e0_11ec_8692_9828a60a01e2row4_col7\" class=\"data row4 col7\" >6.38</td>\n",
       "                        <td id=\"T_0277f112_04e0_11ec_8692_9828a60a01e2row4_col8\" class=\"data row4 col8\" >6.38</td>\n",
       "                        <td id=\"T_0277f112_04e0_11ec_8692_9828a60a01e2row4_col9\" class=\"data row4 col9\" >nan</td>\n",
       "            </tr>\n",
       "            <tr>\n",
       "                        <th id=\"T_0277f112_04e0_11ec_8692_9828a60a01e2level0_row5\" class=\"row_heading level0 row5\" >49556</th>\n",
       "                        <td id=\"T_0277f112_04e0_11ec_8692_9828a60a01e2row5_col0\" class=\"data row5 col0\" >0.71</td>\n",
       "                        <td id=\"T_0277f112_04e0_11ec_8692_9828a60a01e2row5_col1\" class=\"data row5 col1\" >Good</td>\n",
       "                        <td id=\"T_0277f112_04e0_11ec_8692_9828a60a01e2row5_col2\" class=\"data row5 col2\" >F</td>\n",
       "                        <td id=\"T_0277f112_04e0_11ec_8692_9828a60a01e2row5_col3\" class=\"data row5 col3\" >SI2</td>\n",
       "                        <td id=\"T_0277f112_04e0_11ec_8692_9828a60a01e2row5_col4\" class=\"data row5 col4\" >64.1</td>\n",
       "                        <td id=\"T_0277f112_04e0_11ec_8692_9828a60a01e2row5_col5\" class=\"data row5 col5\" >60.0</td>\n",
       "                        <td id=\"T_0277f112_04e0_11ec_8692_9828a60a01e2row5_col6\" class=\"data row5 col6\" >2130</td>\n",
       "                        <td id=\"T_0277f112_04e0_11ec_8692_9828a60a01e2row5_col7\" class=\"data row5 col7\" >5.72</td>\n",
       "                        <td id=\"T_0277f112_04e0_11ec_8692_9828a60a01e2row5_col8\" class=\"data row5 col8\" >5.73</td>\n",
       "                        <td id=\"T_0277f112_04e0_11ec_8692_9828a60a01e2row5_col9\" class=\"data row5 col9\" >nan</td>\n",
       "            </tr>\n",
       "            <tr>\n",
       "                        <th id=\"T_0277f112_04e0_11ec_8692_9828a60a01e2level0_row6\" class=\"row_heading level0 row6\" >49557</th>\n",
       "                        <td id=\"T_0277f112_04e0_11ec_8692_9828a60a01e2row6_col0\" class=\"data row6 col0\" >0.71</td>\n",
       "                        <td id=\"T_0277f112_04e0_11ec_8692_9828a60a01e2row6_col1\" class=\"data row6 col1\" >Good</td>\n",
       "                        <td id=\"T_0277f112_04e0_11ec_8692_9828a60a01e2row6_col2\" class=\"data row6 col2\" >F</td>\n",
       "                        <td id=\"T_0277f112_04e0_11ec_8692_9828a60a01e2row6_col3\" class=\"data row6 col3\" >SI2</td>\n",
       "                        <td id=\"T_0277f112_04e0_11ec_8692_9828a60a01e2row6_col4\" class=\"data row6 col4\" >64.1</td>\n",
       "                        <td id=\"T_0277f112_04e0_11ec_8692_9828a60a01e2row6_col5\" class=\"data row6 col5\" >60.0</td>\n",
       "                        <td id=\"T_0277f112_04e0_11ec_8692_9828a60a01e2row6_col6\" class=\"data row6 col6\" >2130</td>\n",
       "                        <td id=\"T_0277f112_04e0_11ec_8692_9828a60a01e2row6_col7\" class=\"data row6 col7\" >5.72</td>\n",
       "                        <td id=\"T_0277f112_04e0_11ec_8692_9828a60a01e2row6_col8\" class=\"data row6 col8\" >5.73</td>\n",
       "                        <td id=\"T_0277f112_04e0_11ec_8692_9828a60a01e2row6_col9\" class=\"data row6 col9\" >nan</td>\n",
       "            </tr>\n",
       "    </tbody></table>"
      ],
      "text/plain": [
       "<pandas.io.formats.style.Styler at 0x1dc7c977eb0>"
      ]
     },
     "execution_count": 22,
     "metadata": {},
     "output_type": "execute_result"
    }
   ],
   "source": [
    "missing_values_imputation(\"y\")"
   ]
  },
  {
   "cell_type": "code",
   "execution_count": 23,
   "metadata": {},
   "outputs": [
    {
     "name": "stdout",
     "output_type": "stream",
     "text": [
      "carat: 2.8 / median z value: 5.5\n",
      "carat: 2.25 / median z value: 5.19\n",
      "carat: 2.25 / median z value: 5.19\n",
      "carat: 2.2 / median z value: 5.17\n",
      "carat: 2.18 / median z value: 5.16\n",
      "carat: 2.02 / median z value: 5.0\n",
      "carat: 1.56 / median z value: 4.59\n",
      "carat: 1.5 / median z value: 4.53\n",
      "carat: 1.2 / median z value: 4.21\n",
      "carat: 1.15 / median z value: 4.16\n",
      "carat: 1.14 / median z value: 4.14\n",
      "carat: 1.12 / median z value: 4.11\n",
      "carat: 1.1 / median z value: 4.09\n",
      "carat: 1.07 / median z value: 4.05\n",
      "carat: 1.01 / median z value: 3.98\n",
      "carat: 1.01 / median z value: 3.98\n",
      "carat: 1.0 / median z value: 3.96\n",
      "carat: 1.0 / median z value: 3.96\n",
      "carat: 0.71 / median z value: 3.54\n",
      "carat: 0.71 / median z value: 3.54\n"
     ]
    },
    {
     "data": {
      "text/html": [
       "<style  type=\"text/css\" >\n",
       "#T_0a1893bb_04e0_11ec_8d6e_9828a60a01e2row0_col9,#T_0a1893bb_04e0_11ec_8d6e_9828a60a01e2row1_col9,#T_0a1893bb_04e0_11ec_8d6e_9828a60a01e2row2_col9,#T_0a1893bb_04e0_11ec_8d6e_9828a60a01e2row3_col9,#T_0a1893bb_04e0_11ec_8d6e_9828a60a01e2row4_col9,#T_0a1893bb_04e0_11ec_8d6e_9828a60a01e2row5_col9,#T_0a1893bb_04e0_11ec_8d6e_9828a60a01e2row6_col9,#T_0a1893bb_04e0_11ec_8d6e_9828a60a01e2row7_col9,#T_0a1893bb_04e0_11ec_8d6e_9828a60a01e2row8_col9,#T_0a1893bb_04e0_11ec_8d6e_9828a60a01e2row9_col9,#T_0a1893bb_04e0_11ec_8d6e_9828a60a01e2row10_col9,#T_0a1893bb_04e0_11ec_8d6e_9828a60a01e2row11_col9,#T_0a1893bb_04e0_11ec_8d6e_9828a60a01e2row12_col9,#T_0a1893bb_04e0_11ec_8d6e_9828a60a01e2row13_col9,#T_0a1893bb_04e0_11ec_8d6e_9828a60a01e2row14_col9,#T_0a1893bb_04e0_11ec_8d6e_9828a60a01e2row15_col9,#T_0a1893bb_04e0_11ec_8d6e_9828a60a01e2row16_col9,#T_0a1893bb_04e0_11ec_8d6e_9828a60a01e2row17_col9,#T_0a1893bb_04e0_11ec_8d6e_9828a60a01e2row18_col9,#T_0a1893bb_04e0_11ec_8d6e_9828a60a01e2row19_col9{\n",
       "            background-color:  limegreen;\n",
       "        }</style><table id=\"T_0a1893bb_04e0_11ec_8d6e_9828a60a01e2\" ><thead>    <tr>        <th class=\"blank level0\" ></th>        <th class=\"col_heading level0 col0\" >carat</th>        <th class=\"col_heading level0 col1\" >cut</th>        <th class=\"col_heading level0 col2\" >color</th>        <th class=\"col_heading level0 col3\" >clarity</th>        <th class=\"col_heading level0 col4\" >depth</th>        <th class=\"col_heading level0 col5\" >table</th>        <th class=\"col_heading level0 col6\" >price</th>        <th class=\"col_heading level0 col7\" >x</th>        <th class=\"col_heading level0 col8\" >y</th>        <th class=\"col_heading level0 col9\" >z</th>    </tr></thead><tbody>\n",
       "                <tr>\n",
       "                        <th id=\"T_0a1893bb_04e0_11ec_8d6e_9828a60a01e2level0_row0\" class=\"row_heading level0 row0\" >27739</th>\n",
       "                        <td id=\"T_0a1893bb_04e0_11ec_8d6e_9828a60a01e2row0_col0\" class=\"data row0 col0\" >2.80</td>\n",
       "                        <td id=\"T_0a1893bb_04e0_11ec_8d6e_9828a60a01e2row0_col1\" class=\"data row0 col1\" >Good</td>\n",
       "                        <td id=\"T_0a1893bb_04e0_11ec_8d6e_9828a60a01e2row0_col2\" class=\"data row0 col2\" >G</td>\n",
       "                        <td id=\"T_0a1893bb_04e0_11ec_8d6e_9828a60a01e2row0_col3\" class=\"data row0 col3\" >SI2</td>\n",
       "                        <td id=\"T_0a1893bb_04e0_11ec_8d6e_9828a60a01e2row0_col4\" class=\"data row0 col4\" >63.8</td>\n",
       "                        <td id=\"T_0a1893bb_04e0_11ec_8d6e_9828a60a01e2row0_col5\" class=\"data row0 col5\" >58.0</td>\n",
       "                        <td id=\"T_0a1893bb_04e0_11ec_8d6e_9828a60a01e2row0_col6\" class=\"data row0 col6\" >18788</td>\n",
       "                        <td id=\"T_0a1893bb_04e0_11ec_8d6e_9828a60a01e2row0_col7\" class=\"data row0 col7\" >8.90</td>\n",
       "                        <td id=\"T_0a1893bb_04e0_11ec_8d6e_9828a60a01e2row0_col8\" class=\"data row0 col8\" >8.85</td>\n",
       "                        <td id=\"T_0a1893bb_04e0_11ec_8d6e_9828a60a01e2row0_col9\" class=\"data row0 col9\" >5.50</td>\n",
       "            </tr>\n",
       "            <tr>\n",
       "                        <th id=\"T_0a1893bb_04e0_11ec_8d6e_9828a60a01e2level0_row1\" class=\"row_heading level0 row1\" >26123</th>\n",
       "                        <td id=\"T_0a1893bb_04e0_11ec_8d6e_9828a60a01e2row1_col0\" class=\"data row1 col0\" >2.25</td>\n",
       "                        <td id=\"T_0a1893bb_04e0_11ec_8d6e_9828a60a01e2row1_col1\" class=\"data row1 col1\" >Premium</td>\n",
       "                        <td id=\"T_0a1893bb_04e0_11ec_8d6e_9828a60a01e2row1_col2\" class=\"data row1 col2\" >I</td>\n",
       "                        <td id=\"T_0a1893bb_04e0_11ec_8d6e_9828a60a01e2row1_col3\" class=\"data row1 col3\" >SI1</td>\n",
       "                        <td id=\"T_0a1893bb_04e0_11ec_8d6e_9828a60a01e2row1_col4\" class=\"data row1 col4\" >61.3</td>\n",
       "                        <td id=\"T_0a1893bb_04e0_11ec_8d6e_9828a60a01e2row1_col5\" class=\"data row1 col5\" >58.0</td>\n",
       "                        <td id=\"T_0a1893bb_04e0_11ec_8d6e_9828a60a01e2row1_col6\" class=\"data row1 col6\" >15397</td>\n",
       "                        <td id=\"T_0a1893bb_04e0_11ec_8d6e_9828a60a01e2row1_col7\" class=\"data row1 col7\" >8.52</td>\n",
       "                        <td id=\"T_0a1893bb_04e0_11ec_8d6e_9828a60a01e2row1_col8\" class=\"data row1 col8\" >8.42</td>\n",
       "                        <td id=\"T_0a1893bb_04e0_11ec_8d6e_9828a60a01e2row1_col9\" class=\"data row1 col9\" >5.19</td>\n",
       "            </tr>\n",
       "            <tr>\n",
       "                        <th id=\"T_0a1893bb_04e0_11ec_8d6e_9828a60a01e2level0_row2\" class=\"row_heading level0 row2\" >27429</th>\n",
       "                        <td id=\"T_0a1893bb_04e0_11ec_8d6e_9828a60a01e2row2_col0\" class=\"data row2 col0\" >2.25</td>\n",
       "                        <td id=\"T_0a1893bb_04e0_11ec_8d6e_9828a60a01e2row2_col1\" class=\"data row2 col1\" >Premium</td>\n",
       "                        <td id=\"T_0a1893bb_04e0_11ec_8d6e_9828a60a01e2row2_col2\" class=\"data row2 col2\" >H</td>\n",
       "                        <td id=\"T_0a1893bb_04e0_11ec_8d6e_9828a60a01e2row2_col3\" class=\"data row2 col3\" >SI2</td>\n",
       "                        <td id=\"T_0a1893bb_04e0_11ec_8d6e_9828a60a01e2row2_col4\" class=\"data row2 col4\" >62.8</td>\n",
       "                        <td id=\"T_0a1893bb_04e0_11ec_8d6e_9828a60a01e2row2_col5\" class=\"data row2 col5\" >59.0</td>\n",
       "                        <td id=\"T_0a1893bb_04e0_11ec_8d6e_9828a60a01e2row2_col6\" class=\"data row2 col6\" >18034</td>\n",
       "                        <td id=\"T_0a1893bb_04e0_11ec_8d6e_9828a60a01e2row2_col7\" class=\"data row2 col7\" >8.47</td>\n",
       "                        <td id=\"T_0a1893bb_04e0_11ec_8d6e_9828a60a01e2row2_col8\" class=\"data row2 col8\" >8.39</td>\n",
       "                        <td id=\"T_0a1893bb_04e0_11ec_8d6e_9828a60a01e2row2_col9\" class=\"data row2 col9\" >5.19</td>\n",
       "            </tr>\n",
       "            <tr>\n",
       "                        <th id=\"T_0a1893bb_04e0_11ec_8d6e_9828a60a01e2level0_row3\" class=\"row_heading level0 row3\" >27112</th>\n",
       "                        <td id=\"T_0a1893bb_04e0_11ec_8d6e_9828a60a01e2row3_col0\" class=\"data row3 col0\" >2.20</td>\n",
       "                        <td id=\"T_0a1893bb_04e0_11ec_8d6e_9828a60a01e2row3_col1\" class=\"data row3 col1\" >Premium</td>\n",
       "                        <td id=\"T_0a1893bb_04e0_11ec_8d6e_9828a60a01e2row3_col2\" class=\"data row3 col2\" >H</td>\n",
       "                        <td id=\"T_0a1893bb_04e0_11ec_8d6e_9828a60a01e2row3_col3\" class=\"data row3 col3\" >SI1</td>\n",
       "                        <td id=\"T_0a1893bb_04e0_11ec_8d6e_9828a60a01e2row3_col4\" class=\"data row3 col4\" >61.2</td>\n",
       "                        <td id=\"T_0a1893bb_04e0_11ec_8d6e_9828a60a01e2row3_col5\" class=\"data row3 col5\" >59.0</td>\n",
       "                        <td id=\"T_0a1893bb_04e0_11ec_8d6e_9828a60a01e2row3_col6\" class=\"data row3 col6\" >17265</td>\n",
       "                        <td id=\"T_0a1893bb_04e0_11ec_8d6e_9828a60a01e2row3_col7\" class=\"data row3 col7\" >8.42</td>\n",
       "                        <td id=\"T_0a1893bb_04e0_11ec_8d6e_9828a60a01e2row3_col8\" class=\"data row3 col8\" >8.37</td>\n",
       "                        <td id=\"T_0a1893bb_04e0_11ec_8d6e_9828a60a01e2row3_col9\" class=\"data row3 col9\" >5.17</td>\n",
       "            </tr>\n",
       "            <tr>\n",
       "                        <th id=\"T_0a1893bb_04e0_11ec_8d6e_9828a60a01e2level0_row4\" class=\"row_heading level0 row4\" >24394</th>\n",
       "                        <td id=\"T_0a1893bb_04e0_11ec_8d6e_9828a60a01e2row4_col0\" class=\"data row4 col0\" >2.18</td>\n",
       "                        <td id=\"T_0a1893bb_04e0_11ec_8d6e_9828a60a01e2row4_col1\" class=\"data row4 col1\" >Premium</td>\n",
       "                        <td id=\"T_0a1893bb_04e0_11ec_8d6e_9828a60a01e2row4_col2\" class=\"data row4 col2\" >H</td>\n",
       "                        <td id=\"T_0a1893bb_04e0_11ec_8d6e_9828a60a01e2row4_col3\" class=\"data row4 col3\" >SI2</td>\n",
       "                        <td id=\"T_0a1893bb_04e0_11ec_8d6e_9828a60a01e2row4_col4\" class=\"data row4 col4\" >59.4</td>\n",
       "                        <td id=\"T_0a1893bb_04e0_11ec_8d6e_9828a60a01e2row4_col5\" class=\"data row4 col5\" >61.0</td>\n",
       "                        <td id=\"T_0a1893bb_04e0_11ec_8d6e_9828a60a01e2row4_col6\" class=\"data row4 col6\" >12631</td>\n",
       "                        <td id=\"T_0a1893bb_04e0_11ec_8d6e_9828a60a01e2row4_col7\" class=\"data row4 col7\" >8.49</td>\n",
       "                        <td id=\"T_0a1893bb_04e0_11ec_8d6e_9828a60a01e2row4_col8\" class=\"data row4 col8\" >8.45</td>\n",
       "                        <td id=\"T_0a1893bb_04e0_11ec_8d6e_9828a60a01e2row4_col9\" class=\"data row4 col9\" >5.16</td>\n",
       "            </tr>\n",
       "            <tr>\n",
       "                        <th id=\"T_0a1893bb_04e0_11ec_8d6e_9828a60a01e2level0_row5\" class=\"row_heading level0 row5\" >27503</th>\n",
       "                        <td id=\"T_0a1893bb_04e0_11ec_8d6e_9828a60a01e2row5_col0\" class=\"data row5 col0\" >2.02</td>\n",
       "                        <td id=\"T_0a1893bb_04e0_11ec_8d6e_9828a60a01e2row5_col1\" class=\"data row5 col1\" >Premium</td>\n",
       "                        <td id=\"T_0a1893bb_04e0_11ec_8d6e_9828a60a01e2row5_col2\" class=\"data row5 col2\" >H</td>\n",
       "                        <td id=\"T_0a1893bb_04e0_11ec_8d6e_9828a60a01e2row5_col3\" class=\"data row5 col3\" >VS2</td>\n",
       "                        <td id=\"T_0a1893bb_04e0_11ec_8d6e_9828a60a01e2row5_col4\" class=\"data row5 col4\" >62.7</td>\n",
       "                        <td id=\"T_0a1893bb_04e0_11ec_8d6e_9828a60a01e2row5_col5\" class=\"data row5 col5\" >53.0</td>\n",
       "                        <td id=\"T_0a1893bb_04e0_11ec_8d6e_9828a60a01e2row5_col6\" class=\"data row5 col6\" >18207</td>\n",
       "                        <td id=\"T_0a1893bb_04e0_11ec_8d6e_9828a60a01e2row5_col7\" class=\"data row5 col7\" >8.02</td>\n",
       "                        <td id=\"T_0a1893bb_04e0_11ec_8d6e_9828a60a01e2row5_col8\" class=\"data row5 col8\" >7.95</td>\n",
       "                        <td id=\"T_0a1893bb_04e0_11ec_8d6e_9828a60a01e2row5_col9\" class=\"data row5 col9\" >5.00</td>\n",
       "            </tr>\n",
       "            <tr>\n",
       "                        <th id=\"T_0a1893bb_04e0_11ec_8d6e_9828a60a01e2level0_row6\" class=\"row_heading level0 row6\" >24520</th>\n",
       "                        <td id=\"T_0a1893bb_04e0_11ec_8d6e_9828a60a01e2row6_col0\" class=\"data row6 col0\" >1.56</td>\n",
       "                        <td id=\"T_0a1893bb_04e0_11ec_8d6e_9828a60a01e2row6_col1\" class=\"data row6 col1\" >Ideal</td>\n",
       "                        <td id=\"T_0a1893bb_04e0_11ec_8d6e_9828a60a01e2row6_col2\" class=\"data row6 col2\" >G</td>\n",
       "                        <td id=\"T_0a1893bb_04e0_11ec_8d6e_9828a60a01e2row6_col3\" class=\"data row6 col3\" >VS2</td>\n",
       "                        <td id=\"T_0a1893bb_04e0_11ec_8d6e_9828a60a01e2row6_col4\" class=\"data row6 col4\" >62.2</td>\n",
       "                        <td id=\"T_0a1893bb_04e0_11ec_8d6e_9828a60a01e2row6_col5\" class=\"data row6 col5\" >54.0</td>\n",
       "                        <td id=\"T_0a1893bb_04e0_11ec_8d6e_9828a60a01e2row6_col6\" class=\"data row6 col6\" >12800</td>\n",
       "                        <td id=\"T_0a1893bb_04e0_11ec_8d6e_9828a60a01e2row6_col7\" class=\"data row6 col7\" >7.46</td>\n",
       "                        <td id=\"T_0a1893bb_04e0_11ec_8d6e_9828a60a01e2row6_col8\" class=\"data row6 col8\" >7.46</td>\n",
       "                        <td id=\"T_0a1893bb_04e0_11ec_8d6e_9828a60a01e2row6_col9\" class=\"data row6 col9\" >4.59</td>\n",
       "            </tr>\n",
       "            <tr>\n",
       "                        <th id=\"T_0a1893bb_04e0_11ec_8d6e_9828a60a01e2level0_row7\" class=\"row_heading level0 row7\" >10167</th>\n",
       "                        <td id=\"T_0a1893bb_04e0_11ec_8d6e_9828a60a01e2row7_col0\" class=\"data row7 col0\" >1.50</td>\n",
       "                        <td id=\"T_0a1893bb_04e0_11ec_8d6e_9828a60a01e2row7_col1\" class=\"data row7 col1\" >Good</td>\n",
       "                        <td id=\"T_0a1893bb_04e0_11ec_8d6e_9828a60a01e2row7_col2\" class=\"data row7 col2\" >G</td>\n",
       "                        <td id=\"T_0a1893bb_04e0_11ec_8d6e_9828a60a01e2row7_col3\" class=\"data row7 col3\" >I1</td>\n",
       "                        <td id=\"T_0a1893bb_04e0_11ec_8d6e_9828a60a01e2row7_col4\" class=\"data row7 col4\" >64.0</td>\n",
       "                        <td id=\"T_0a1893bb_04e0_11ec_8d6e_9828a60a01e2row7_col5\" class=\"data row7 col5\" >61.0</td>\n",
       "                        <td id=\"T_0a1893bb_04e0_11ec_8d6e_9828a60a01e2row7_col6\" class=\"data row7 col6\" >4731</td>\n",
       "                        <td id=\"T_0a1893bb_04e0_11ec_8d6e_9828a60a01e2row7_col7\" class=\"data row7 col7\" >7.15</td>\n",
       "                        <td id=\"T_0a1893bb_04e0_11ec_8d6e_9828a60a01e2row7_col8\" class=\"data row7 col8\" >7.04</td>\n",
       "                        <td id=\"T_0a1893bb_04e0_11ec_8d6e_9828a60a01e2row7_col9\" class=\"data row7 col9\" >4.53</td>\n",
       "            </tr>\n",
       "            <tr>\n",
       "                        <th id=\"T_0a1893bb_04e0_11ec_8d6e_9828a60a01e2level0_row8\" class=\"row_heading level0 row8\" >26243</th>\n",
       "                        <td id=\"T_0a1893bb_04e0_11ec_8d6e_9828a60a01e2row8_col0\" class=\"data row8 col0\" >1.20</td>\n",
       "                        <td id=\"T_0a1893bb_04e0_11ec_8d6e_9828a60a01e2row8_col1\" class=\"data row8 col1\" >Premium</td>\n",
       "                        <td id=\"T_0a1893bb_04e0_11ec_8d6e_9828a60a01e2row8_col2\" class=\"data row8 col2\" >D</td>\n",
       "                        <td id=\"T_0a1893bb_04e0_11ec_8d6e_9828a60a01e2row8_col3\" class=\"data row8 col3\" >VVS1</td>\n",
       "                        <td id=\"T_0a1893bb_04e0_11ec_8d6e_9828a60a01e2row8_col4\" class=\"data row8 col4\" >62.1</td>\n",
       "                        <td id=\"T_0a1893bb_04e0_11ec_8d6e_9828a60a01e2row8_col5\" class=\"data row8 col5\" >59.0</td>\n",
       "                        <td id=\"T_0a1893bb_04e0_11ec_8d6e_9828a60a01e2row8_col6\" class=\"data row8 col6\" >15686</td>\n",
       "                        <td id=\"T_0a1893bb_04e0_11ec_8d6e_9828a60a01e2row8_col7\" class=\"data row8 col7\" >6.78</td>\n",
       "                        <td id=\"T_0a1893bb_04e0_11ec_8d6e_9828a60a01e2row8_col8\" class=\"data row8 col8\" >6.79</td>\n",
       "                        <td id=\"T_0a1893bb_04e0_11ec_8d6e_9828a60a01e2row8_col9\" class=\"data row8 col9\" >4.21</td>\n",
       "            </tr>\n",
       "            <tr>\n",
       "                        <th id=\"T_0a1893bb_04e0_11ec_8d6e_9828a60a01e2level0_row9\" class=\"row_heading level0 row9\" >13601</th>\n",
       "                        <td id=\"T_0a1893bb_04e0_11ec_8d6e_9828a60a01e2row9_col0\" class=\"data row9 col0\" >1.15</td>\n",
       "                        <td id=\"T_0a1893bb_04e0_11ec_8d6e_9828a60a01e2row9_col1\" class=\"data row9 col1\" >Ideal</td>\n",
       "                        <td id=\"T_0a1893bb_04e0_11ec_8d6e_9828a60a01e2row9_col2\" class=\"data row9 col2\" >G</td>\n",
       "                        <td id=\"T_0a1893bb_04e0_11ec_8d6e_9828a60a01e2row9_col3\" class=\"data row9 col3\" >VS2</td>\n",
       "                        <td id=\"T_0a1893bb_04e0_11ec_8d6e_9828a60a01e2row9_col4\" class=\"data row9 col4\" >59.2</td>\n",
       "                        <td id=\"T_0a1893bb_04e0_11ec_8d6e_9828a60a01e2row9_col5\" class=\"data row9 col5\" >56.0</td>\n",
       "                        <td id=\"T_0a1893bb_04e0_11ec_8d6e_9828a60a01e2row9_col6\" class=\"data row9 col6\" >5564</td>\n",
       "                        <td id=\"T_0a1893bb_04e0_11ec_8d6e_9828a60a01e2row9_col7\" class=\"data row9 col7\" >6.88</td>\n",
       "                        <td id=\"T_0a1893bb_04e0_11ec_8d6e_9828a60a01e2row9_col8\" class=\"data row9 col8\" >6.83</td>\n",
       "                        <td id=\"T_0a1893bb_04e0_11ec_8d6e_9828a60a01e2row9_col9\" class=\"data row9 col9\" >4.16</td>\n",
       "            </tr>\n",
       "            <tr>\n",
       "                        <th id=\"T_0a1893bb_04e0_11ec_8d6e_9828a60a01e2level0_row10\" class=\"row_heading level0 row10\" >15951</th>\n",
       "                        <td id=\"T_0a1893bb_04e0_11ec_8d6e_9828a60a01e2row10_col0\" class=\"data row10 col0\" >1.14</td>\n",
       "                        <td id=\"T_0a1893bb_04e0_11ec_8d6e_9828a60a01e2row10_col1\" class=\"data row10 col1\" >Fair</td>\n",
       "                        <td id=\"T_0a1893bb_04e0_11ec_8d6e_9828a60a01e2row10_col2\" class=\"data row10 col2\" >G</td>\n",
       "                        <td id=\"T_0a1893bb_04e0_11ec_8d6e_9828a60a01e2row10_col3\" class=\"data row10 col3\" >VS1</td>\n",
       "                        <td id=\"T_0a1893bb_04e0_11ec_8d6e_9828a60a01e2row10_col4\" class=\"data row10 col4\" >57.5</td>\n",
       "                        <td id=\"T_0a1893bb_04e0_11ec_8d6e_9828a60a01e2row10_col5\" class=\"data row10 col5\" >67.0</td>\n",
       "                        <td id=\"T_0a1893bb_04e0_11ec_8d6e_9828a60a01e2row10_col6\" class=\"data row10 col6\" >6381</td>\n",
       "                        <td id=\"T_0a1893bb_04e0_11ec_8d6e_9828a60a01e2row10_col7\" class=\"data row10 col7\" >6.71</td>\n",
       "                        <td id=\"T_0a1893bb_04e0_11ec_8d6e_9828a60a01e2row10_col8\" class=\"data row10 col8\" >6.72</td>\n",
       "                        <td id=\"T_0a1893bb_04e0_11ec_8d6e_9828a60a01e2row10_col9\" class=\"data row10 col9\" >4.14</td>\n",
       "            </tr>\n",
       "            <tr>\n",
       "                        <th id=\"T_0a1893bb_04e0_11ec_8d6e_9828a60a01e2level0_row11\" class=\"row_heading level0 row11\" >51506</th>\n",
       "                        <td id=\"T_0a1893bb_04e0_11ec_8d6e_9828a60a01e2row11_col0\" class=\"data row11 col0\" >1.12</td>\n",
       "                        <td id=\"T_0a1893bb_04e0_11ec_8d6e_9828a60a01e2row11_col1\" class=\"data row11 col1\" >Premium</td>\n",
       "                        <td id=\"T_0a1893bb_04e0_11ec_8d6e_9828a60a01e2row11_col2\" class=\"data row11 col2\" >G</td>\n",
       "                        <td id=\"T_0a1893bb_04e0_11ec_8d6e_9828a60a01e2row11_col3\" class=\"data row11 col3\" >I1</td>\n",
       "                        <td id=\"T_0a1893bb_04e0_11ec_8d6e_9828a60a01e2row11_col4\" class=\"data row11 col4\" >60.4</td>\n",
       "                        <td id=\"T_0a1893bb_04e0_11ec_8d6e_9828a60a01e2row11_col5\" class=\"data row11 col5\" >59.0</td>\n",
       "                        <td id=\"T_0a1893bb_04e0_11ec_8d6e_9828a60a01e2row11_col6\" class=\"data row11 col6\" >2383</td>\n",
       "                        <td id=\"T_0a1893bb_04e0_11ec_8d6e_9828a60a01e2row11_col7\" class=\"data row11 col7\" >6.71</td>\n",
       "                        <td id=\"T_0a1893bb_04e0_11ec_8d6e_9828a60a01e2row11_col8\" class=\"data row11 col8\" >6.67</td>\n",
       "                        <td id=\"T_0a1893bb_04e0_11ec_8d6e_9828a60a01e2row11_col9\" class=\"data row11 col9\" >4.11</td>\n",
       "            </tr>\n",
       "            <tr>\n",
       "                        <th id=\"T_0a1893bb_04e0_11ec_8d6e_9828a60a01e2level0_row12\" class=\"row_heading level0 row12\" >4791</th>\n",
       "                        <td id=\"T_0a1893bb_04e0_11ec_8d6e_9828a60a01e2row12_col0\" class=\"data row12 col0\" >1.10</td>\n",
       "                        <td id=\"T_0a1893bb_04e0_11ec_8d6e_9828a60a01e2row12_col1\" class=\"data row12 col1\" >Premium</td>\n",
       "                        <td id=\"T_0a1893bb_04e0_11ec_8d6e_9828a60a01e2row12_col2\" class=\"data row12 col2\" >G</td>\n",
       "                        <td id=\"T_0a1893bb_04e0_11ec_8d6e_9828a60a01e2row12_col3\" class=\"data row12 col3\" >SI2</td>\n",
       "                        <td id=\"T_0a1893bb_04e0_11ec_8d6e_9828a60a01e2row12_col4\" class=\"data row12 col4\" >63.0</td>\n",
       "                        <td id=\"T_0a1893bb_04e0_11ec_8d6e_9828a60a01e2row12_col5\" class=\"data row12 col5\" >59.0</td>\n",
       "                        <td id=\"T_0a1893bb_04e0_11ec_8d6e_9828a60a01e2row12_col6\" class=\"data row12 col6\" >3696</td>\n",
       "                        <td id=\"T_0a1893bb_04e0_11ec_8d6e_9828a60a01e2row12_col7\" class=\"data row12 col7\" >6.50</td>\n",
       "                        <td id=\"T_0a1893bb_04e0_11ec_8d6e_9828a60a01e2row12_col8\" class=\"data row12 col8\" >6.47</td>\n",
       "                        <td id=\"T_0a1893bb_04e0_11ec_8d6e_9828a60a01e2row12_col9\" class=\"data row12 col9\" >4.09</td>\n",
       "            </tr>\n",
       "            <tr>\n",
       "                        <th id=\"T_0a1893bb_04e0_11ec_8d6e_9828a60a01e2level0_row13\" class=\"row_heading level0 row13\" >11182</th>\n",
       "                        <td id=\"T_0a1893bb_04e0_11ec_8d6e_9828a60a01e2row13_col0\" class=\"data row13 col0\" >1.07</td>\n",
       "                        <td id=\"T_0a1893bb_04e0_11ec_8d6e_9828a60a01e2row13_col1\" class=\"data row13 col1\" >Ideal</td>\n",
       "                        <td id=\"T_0a1893bb_04e0_11ec_8d6e_9828a60a01e2row13_col2\" class=\"data row13 col2\" >F</td>\n",
       "                        <td id=\"T_0a1893bb_04e0_11ec_8d6e_9828a60a01e2row13_col3\" class=\"data row13 col3\" >SI2</td>\n",
       "                        <td id=\"T_0a1893bb_04e0_11ec_8d6e_9828a60a01e2row13_col4\" class=\"data row13 col4\" >61.6</td>\n",
       "                        <td id=\"T_0a1893bb_04e0_11ec_8d6e_9828a60a01e2row13_col5\" class=\"data row13 col5\" >56.0</td>\n",
       "                        <td id=\"T_0a1893bb_04e0_11ec_8d6e_9828a60a01e2row13_col6\" class=\"data row13 col6\" >4954</td>\n",
       "                        <td id=\"T_0a1893bb_04e0_11ec_8d6e_9828a60a01e2row13_col7\" class=\"data row13 col7\" >6.57</td>\n",
       "                        <td id=\"T_0a1893bb_04e0_11ec_8d6e_9828a60a01e2row13_col8\" class=\"data row13 col8\" >6.62</td>\n",
       "                        <td id=\"T_0a1893bb_04e0_11ec_8d6e_9828a60a01e2row13_col9\" class=\"data row13 col9\" >4.05</td>\n",
       "            </tr>\n",
       "            <tr>\n",
       "                        <th id=\"T_0a1893bb_04e0_11ec_8d6e_9828a60a01e2level0_row14\" class=\"row_heading level0 row14\" >2314</th>\n",
       "                        <td id=\"T_0a1893bb_04e0_11ec_8d6e_9828a60a01e2row14_col0\" class=\"data row14 col0\" >1.01</td>\n",
       "                        <td id=\"T_0a1893bb_04e0_11ec_8d6e_9828a60a01e2row14_col1\" class=\"data row14 col1\" >Premium</td>\n",
       "                        <td id=\"T_0a1893bb_04e0_11ec_8d6e_9828a60a01e2row14_col2\" class=\"data row14 col2\" >H</td>\n",
       "                        <td id=\"T_0a1893bb_04e0_11ec_8d6e_9828a60a01e2row14_col3\" class=\"data row14 col3\" >I1</td>\n",
       "                        <td id=\"T_0a1893bb_04e0_11ec_8d6e_9828a60a01e2row14_col4\" class=\"data row14 col4\" >58.1</td>\n",
       "                        <td id=\"T_0a1893bb_04e0_11ec_8d6e_9828a60a01e2row14_col5\" class=\"data row14 col5\" >59.0</td>\n",
       "                        <td id=\"T_0a1893bb_04e0_11ec_8d6e_9828a60a01e2row14_col6\" class=\"data row14 col6\" >3167</td>\n",
       "                        <td id=\"T_0a1893bb_04e0_11ec_8d6e_9828a60a01e2row14_col7\" class=\"data row14 col7\" >6.66</td>\n",
       "                        <td id=\"T_0a1893bb_04e0_11ec_8d6e_9828a60a01e2row14_col8\" class=\"data row14 col8\" >6.60</td>\n",
       "                        <td id=\"T_0a1893bb_04e0_11ec_8d6e_9828a60a01e2row14_col9\" class=\"data row14 col9\" >3.98</td>\n",
       "            </tr>\n",
       "            <tr>\n",
       "                        <th id=\"T_0a1893bb_04e0_11ec_8d6e_9828a60a01e2level0_row15\" class=\"row_heading level0 row15\" >5471</th>\n",
       "                        <td id=\"T_0a1893bb_04e0_11ec_8d6e_9828a60a01e2row15_col0\" class=\"data row15 col0\" >1.01</td>\n",
       "                        <td id=\"T_0a1893bb_04e0_11ec_8d6e_9828a60a01e2row15_col1\" class=\"data row15 col1\" >Premium</td>\n",
       "                        <td id=\"T_0a1893bb_04e0_11ec_8d6e_9828a60a01e2row15_col2\" class=\"data row15 col2\" >F</td>\n",
       "                        <td id=\"T_0a1893bb_04e0_11ec_8d6e_9828a60a01e2row15_col3\" class=\"data row15 col3\" >SI2</td>\n",
       "                        <td id=\"T_0a1893bb_04e0_11ec_8d6e_9828a60a01e2row15_col4\" class=\"data row15 col4\" >59.2</td>\n",
       "                        <td id=\"T_0a1893bb_04e0_11ec_8d6e_9828a60a01e2row15_col5\" class=\"data row15 col5\" >58.0</td>\n",
       "                        <td id=\"T_0a1893bb_04e0_11ec_8d6e_9828a60a01e2row15_col6\" class=\"data row15 col6\" >3837</td>\n",
       "                        <td id=\"T_0a1893bb_04e0_11ec_8d6e_9828a60a01e2row15_col7\" class=\"data row15 col7\" >6.50</td>\n",
       "                        <td id=\"T_0a1893bb_04e0_11ec_8d6e_9828a60a01e2row15_col8\" class=\"data row15 col8\" >6.47</td>\n",
       "                        <td id=\"T_0a1893bb_04e0_11ec_8d6e_9828a60a01e2row15_col9\" class=\"data row15 col9\" >3.98</td>\n",
       "            </tr>\n",
       "            <tr>\n",
       "                        <th id=\"T_0a1893bb_04e0_11ec_8d6e_9828a60a01e2level0_row16\" class=\"row_heading level0 row16\" >11963</th>\n",
       "                        <td id=\"T_0a1893bb_04e0_11ec_8d6e_9828a60a01e2row16_col0\" class=\"data row16 col0\" >1.00</td>\n",
       "                        <td id=\"T_0a1893bb_04e0_11ec_8d6e_9828a60a01e2row16_col1\" class=\"data row16 col1\" >Very Good</td>\n",
       "                        <td id=\"T_0a1893bb_04e0_11ec_8d6e_9828a60a01e2row16_col2\" class=\"data row16 col2\" >H</td>\n",
       "                        <td id=\"T_0a1893bb_04e0_11ec_8d6e_9828a60a01e2row16_col3\" class=\"data row16 col3\" >VS2</td>\n",
       "                        <td id=\"T_0a1893bb_04e0_11ec_8d6e_9828a60a01e2row16_col4\" class=\"data row16 col4\" >63.3</td>\n",
       "                        <td id=\"T_0a1893bb_04e0_11ec_8d6e_9828a60a01e2row16_col5\" class=\"data row16 col5\" >53.0</td>\n",
       "                        <td id=\"T_0a1893bb_04e0_11ec_8d6e_9828a60a01e2row16_col6\" class=\"data row16 col6\" >5139</td>\n",
       "                        <td id=\"T_0a1893bb_04e0_11ec_8d6e_9828a60a01e2row16_col7\" class=\"data row16 col7\" >6.38</td>\n",
       "                        <td id=\"T_0a1893bb_04e0_11ec_8d6e_9828a60a01e2row16_col8\" class=\"data row16 col8\" >6.38</td>\n",
       "                        <td id=\"T_0a1893bb_04e0_11ec_8d6e_9828a60a01e2row16_col9\" class=\"data row16 col9\" >3.96</td>\n",
       "            </tr>\n",
       "            <tr>\n",
       "                        <th id=\"T_0a1893bb_04e0_11ec_8d6e_9828a60a01e2level0_row17\" class=\"row_heading level0 row17\" >2207</th>\n",
       "                        <td id=\"T_0a1893bb_04e0_11ec_8d6e_9828a60a01e2row17_col0\" class=\"data row17 col0\" >1.00</td>\n",
       "                        <td id=\"T_0a1893bb_04e0_11ec_8d6e_9828a60a01e2row17_col1\" class=\"data row17 col1\" >Premium</td>\n",
       "                        <td id=\"T_0a1893bb_04e0_11ec_8d6e_9828a60a01e2row17_col2\" class=\"data row17 col2\" >G</td>\n",
       "                        <td id=\"T_0a1893bb_04e0_11ec_8d6e_9828a60a01e2row17_col3\" class=\"data row17 col3\" >SI2</td>\n",
       "                        <td id=\"T_0a1893bb_04e0_11ec_8d6e_9828a60a01e2row17_col4\" class=\"data row17 col4\" >59.1</td>\n",
       "                        <td id=\"T_0a1893bb_04e0_11ec_8d6e_9828a60a01e2row17_col5\" class=\"data row17 col5\" >59.0</td>\n",
       "                        <td id=\"T_0a1893bb_04e0_11ec_8d6e_9828a60a01e2row17_col6\" class=\"data row17 col6\" >3142</td>\n",
       "                        <td id=\"T_0a1893bb_04e0_11ec_8d6e_9828a60a01e2row17_col7\" class=\"data row17 col7\" >6.55</td>\n",
       "                        <td id=\"T_0a1893bb_04e0_11ec_8d6e_9828a60a01e2row17_col8\" class=\"data row17 col8\" >6.48</td>\n",
       "                        <td id=\"T_0a1893bb_04e0_11ec_8d6e_9828a60a01e2row17_col9\" class=\"data row17 col9\" >3.96</td>\n",
       "            </tr>\n",
       "            <tr>\n",
       "                        <th id=\"T_0a1893bb_04e0_11ec_8d6e_9828a60a01e2level0_row18\" class=\"row_heading level0 row18\" >49556</th>\n",
       "                        <td id=\"T_0a1893bb_04e0_11ec_8d6e_9828a60a01e2row18_col0\" class=\"data row18 col0\" >0.71</td>\n",
       "                        <td id=\"T_0a1893bb_04e0_11ec_8d6e_9828a60a01e2row18_col1\" class=\"data row18 col1\" >Good</td>\n",
       "                        <td id=\"T_0a1893bb_04e0_11ec_8d6e_9828a60a01e2row18_col2\" class=\"data row18 col2\" >F</td>\n",
       "                        <td id=\"T_0a1893bb_04e0_11ec_8d6e_9828a60a01e2row18_col3\" class=\"data row18 col3\" >SI2</td>\n",
       "                        <td id=\"T_0a1893bb_04e0_11ec_8d6e_9828a60a01e2row18_col4\" class=\"data row18 col4\" >64.1</td>\n",
       "                        <td id=\"T_0a1893bb_04e0_11ec_8d6e_9828a60a01e2row18_col5\" class=\"data row18 col5\" >60.0</td>\n",
       "                        <td id=\"T_0a1893bb_04e0_11ec_8d6e_9828a60a01e2row18_col6\" class=\"data row18 col6\" >2130</td>\n",
       "                        <td id=\"T_0a1893bb_04e0_11ec_8d6e_9828a60a01e2row18_col7\" class=\"data row18 col7\" >5.72</td>\n",
       "                        <td id=\"T_0a1893bb_04e0_11ec_8d6e_9828a60a01e2row18_col8\" class=\"data row18 col8\" >5.73</td>\n",
       "                        <td id=\"T_0a1893bb_04e0_11ec_8d6e_9828a60a01e2row18_col9\" class=\"data row18 col9\" >3.54</td>\n",
       "            </tr>\n",
       "            <tr>\n",
       "                        <th id=\"T_0a1893bb_04e0_11ec_8d6e_9828a60a01e2level0_row19\" class=\"row_heading level0 row19\" >49557</th>\n",
       "                        <td id=\"T_0a1893bb_04e0_11ec_8d6e_9828a60a01e2row19_col0\" class=\"data row19 col0\" >0.71</td>\n",
       "                        <td id=\"T_0a1893bb_04e0_11ec_8d6e_9828a60a01e2row19_col1\" class=\"data row19 col1\" >Good</td>\n",
       "                        <td id=\"T_0a1893bb_04e0_11ec_8d6e_9828a60a01e2row19_col2\" class=\"data row19 col2\" >F</td>\n",
       "                        <td id=\"T_0a1893bb_04e0_11ec_8d6e_9828a60a01e2row19_col3\" class=\"data row19 col3\" >SI2</td>\n",
       "                        <td id=\"T_0a1893bb_04e0_11ec_8d6e_9828a60a01e2row19_col4\" class=\"data row19 col4\" >64.1</td>\n",
       "                        <td id=\"T_0a1893bb_04e0_11ec_8d6e_9828a60a01e2row19_col5\" class=\"data row19 col5\" >60.0</td>\n",
       "                        <td id=\"T_0a1893bb_04e0_11ec_8d6e_9828a60a01e2row19_col6\" class=\"data row19 col6\" >2130</td>\n",
       "                        <td id=\"T_0a1893bb_04e0_11ec_8d6e_9828a60a01e2row19_col7\" class=\"data row19 col7\" >5.72</td>\n",
       "                        <td id=\"T_0a1893bb_04e0_11ec_8d6e_9828a60a01e2row19_col8\" class=\"data row19 col8\" >5.73</td>\n",
       "                        <td id=\"T_0a1893bb_04e0_11ec_8d6e_9828a60a01e2row19_col9\" class=\"data row19 col9\" >3.54</td>\n",
       "            </tr>\n",
       "    </tbody></table>"
      ],
      "text/plain": [
       "<pandas.io.formats.style.Styler at 0x1dc7d27f040>"
      ]
     },
     "execution_count": 23,
     "metadata": {},
     "output_type": "execute_result"
    }
   ],
   "source": [
    "missing_values_imputation(\"z\")"
   ]
  },
  {
   "cell_type": "code",
   "execution_count": 24,
   "metadata": {},
   "outputs": [
    {
     "name": "stderr",
     "output_type": "stream",
     "text": [
      "E:\\anaconda\\lib\\site-packages\\seaborn\\_decorators.py:36: FutureWarning: Pass the following variable as a keyword arg: x. From version 0.12, the only valid positional argument will be `data`, and passing other arguments without an explicit keyword will result in an error or misinterpretation.\n",
      "  warnings.warn(\n"
     ]
    },
    {
     "data": {
      "image/png": "[encoded data removed]",
      "text/plain": [
       "<Figure size 720x360 with 1 Axes>"
      ]
     },
     "metadata": {
      "needs_background": "light"
     },
     "output_type": "display_data"
    },
    {
     "name": "stderr",
     "output_type": "stream",
     "text": [
      "E:\\anaconda\\lib\\site-packages\\seaborn\\_decorators.py:36: FutureWarning: Pass the following variable as a keyword arg: x. From version 0.12, the only valid positional argument will be `data`, and passing other arguments without an explicit keyword will result in an error or misinterpretation.\n",
      "  warnings.warn(\n"
     ]
    },
    {
     "data": {
      "image/png": "[encoded data removed]",
      "text/plain": [
       "<Figure size 720x360 with 1 Axes>"
      ]
     },
     "metadata": {
      "needs_background": "light"
     },
     "output_type": "display_data"
    },
    {
     "name": "stderr",
     "output_type": "stream",
     "text": [
      "E:\\anaconda\\lib\\site-packages\\seaborn\\_decorators.py:36: FutureWarning: Pass the following variable as a keyword arg: x. From version 0.12, the only valid positional argument will be `data`, and passing other arguments without an explicit keyword will result in an error or misinterpretation.\n",
      "  warnings.warn(\n"
     ]
    },
    {
     "data": {
      "image/png": "[encoded data removed]",
      "text/plain": [
       "<Figure size 720x360 with 1 Axes>"
      ]
     },
     "metadata": {
      "needs_background": "light"
     },
     "output_type": "display_data"
    },
    {
     "name": "stderr",
     "output_type": "stream",
     "text": [
      "E:\\anaconda\\lib\\site-packages\\seaborn\\_decorators.py:36: FutureWarning: Pass the following variable as a keyword arg: x. From version 0.12, the only valid positional argument will be `data`, and passing other arguments without an explicit keyword will result in an error or misinterpretation.\n",
      "  warnings.warn(\n"
     ]
    },
    {
     "data": {
      "image/png": "[encoded data removed]",
      "text/plain": [
       "<Figure size 720x360 with 1 Axes>"
      ]
     },
     "metadata": {
      "needs_background": "light"
     },
     "output_type": "display_data"
    },
    {
     "name": "stderr",
     "output_type": "stream",
     "text": [
      "E:\\anaconda\\lib\\site-packages\\seaborn\\_decorators.py:36: FutureWarning: Pass the following variable as a keyword arg: x. From version 0.12, the only valid positional argument will be `data`, and passing other arguments without an explicit keyword will result in an error or misinterpretation.\n",
      "  warnings.warn(\n"
     ]
    },
    {
     "data": {
      "image/png": "[encoded data removed]",
      "text/plain": [
       "<Figure size 720x360 with 1 Axes>"
      ]
     },
     "metadata": {
      "needs_background": "light"
     },
     "output_type": "display_data"
    },
    {
     "name": "stderr",
     "output_type": "stream",
     "text": [
      "E:\\anaconda\\lib\\site-packages\\seaborn\\_decorators.py:36: FutureWarning: Pass the following variable as a keyword arg: x. From version 0.12, the only valid positional argument will be `data`, and passing other arguments without an explicit keyword will result in an error or misinterpretation.\n",
      "  warnings.warn(\n"
     ]
    },
    {
     "data": {
      "image/png": "[encoded data removed]",
      "text/plain": [
       "<Figure size 720x360 with 1 Axes>"
      ]
     },
     "metadata": {
      "needs_background": "light"
     },
     "output_type": "display_data"
    },
    {
     "name": "stderr",
     "output_type": "stream",
     "text": [
      "E:\\anaconda\\lib\\site-packages\\seaborn\\_decorators.py:36: FutureWarning: Pass the following variable as a keyword arg: x. From version 0.12, the only valid positional argument will be `data`, and passing other arguments without an explicit keyword will result in an error or misinterpretation.\n",
      "  warnings.warn(\n"
     ]
    },
    {
     "data": {
      "image/png": "[encoded data removed]",
      "text/plain": [
       "<Figure size 720x360 with 1 Axes>"
      ]
     },
     "metadata": {
      "needs_background": "light"
     },
     "output_type": "display_data"
    }
   ],
   "source": [
    "for c in ['carat', 'depth', 'table', 'price', 'x', 'y', 'z']:\n",
    "    plt.figure(figsize=(10, 5))\n",
    "    sns.boxplot(df[c])\n",
    "    plt.title(c, fontsize=20)\n",
    "    plt.show()"
   ]
  },
  {
   "cell_type": "markdown",
   "metadata": {},
   "source": [
    "### Plotting Regression Fit with respect to target variable to visualize and find outliers "
   ]
  },
  {
   "cell_type": "code",
   "execution_count": 25,
   "metadata": {},
   "outputs": [
    {
     "data": {
      "image/png": "[encoded data removed]",
      "text/plain": [
       "<Figure size 864x1296 with 6 Axes>"
      ]
     },
     "metadata": {},
     "output_type": "display_data"
    }
   ],
   "source": [
    "sns.set_style(\"whitegrid\")\n",
    "c = \"darkturquoise\"\n",
    "#c = \"lightsalmon\"\n",
    "#c = \"crimson\"\n",
    "\n",
    "plt.figure(figsize = (12, 18))\n",
    "plt.subplot(3, 2, 1)\n",
    "plt.title(\"price X carat\")\n",
    "sns.regplot(data = df, x = \"price\", y = \"carat\", color = c, line_kws = {\"color\" : \"black\"})\n",
    "plt.subplot(3, 2, 2)\n",
    "plt.title(\"price X depth\")\n",
    "sns.regplot(data = df, x = \"price\", y = \"depth\", color = c, line_kws = {\"color\" : \"black\"})\n",
    "plt.subplot(3, 2, 3)\n",
    "plt.title(\"price X table\")\n",
    "sns.regplot(data = df, x = \"price\", y = \"table\", color = c, line_kws = {\"color\" : \"black\"})\n",
    "plt.subplot(3, 2, 4)\n",
    "plt.title(\"price X x\")\n",
    "sns.regplot(data = df, x = \"price\", y = \"x\", color = c, line_kws = {\"color\" : \"black\"})\n",
    "plt.subplot(3, 2, 5)\n",
    "plt.title(\"price X y\")\n",
    "sns.regplot(data = df, x = \"price\", y = \"y\", color = c, line_kws = {\"color\" : \"black\"})\n",
    "plt.subplot(3, 2, 6)\n",
    "plt.title(\"price X z\")\n",
    "sns.regplot(data = df, x = \"price\", y = \"z\", color = c, line_kws = {\"color\" : \"black\"})\n",
    "plt.show()"
   ]
  },
  {
   "cell_type": "markdown",
   "metadata": {},
   "source": [
    "From the above interpretation we see that Outliers exist in \n",
    "* **Price vs y**\n",
    "* **Price vs z**"
   ]
  },
  {
   "cell_type": "code",
   "execution_count": 26,
   "metadata": {},
   "outputs": [],
   "source": [
    "def highlight_outliers(outliers, col):\n",
    "    outliers_index = outliers.index\n",
    "    i = pd.IndexSlice[outliers_index, col]\n",
    "    return outliers.style.applymap(lambda x: \"background-color: red\", subset = i).format(format_dict)"
   ]
  },
  {
   "cell_type": "markdown",
   "metadata": {},
   "source": [
    "* **Price vs y** "
   ]
  },
  {
   "cell_type": "code",
   "execution_count": 27,
   "metadata": {},
   "outputs": [
    {
     "data": {
      "text/html": [
       "<style  type=\"text/css\" >\n",
       "#T_55b959b9_04e0_11ec_9a56_9828a60a01e2row0_col8,#T_55b959b9_04e0_11ec_9a56_9828a60a01e2row1_col8{\n",
       "            background-color:  red;\n",
       "        }</style><table id=\"T_55b959b9_04e0_11ec_9a56_9828a60a01e2\" ><thead>    <tr>        <th class=\"blank level0\" ></th>        <th class=\"col_heading level0 col0\" >carat</th>        <th class=\"col_heading level0 col1\" >cut</th>        <th class=\"col_heading level0 col2\" >color</th>        <th class=\"col_heading level0 col3\" >clarity</th>        <th class=\"col_heading level0 col4\" >depth</th>        <th class=\"col_heading level0 col5\" >table</th>        <th class=\"col_heading level0 col6\" >price</th>        <th class=\"col_heading level0 col7\" >x</th>        <th class=\"col_heading level0 col8\" >y</th>        <th class=\"col_heading level0 col9\" >z</th>    </tr></thead><tbody>\n",
       "                <tr>\n",
       "                        <th id=\"T_55b959b9_04e0_11ec_9a56_9828a60a01e2level0_row0\" class=\"row_heading level0 row0\" >24067</th>\n",
       "                        <td id=\"T_55b959b9_04e0_11ec_9a56_9828a60a01e2row0_col0\" class=\"data row0 col0\" >2.00</td>\n",
       "                        <td id=\"T_55b959b9_04e0_11ec_9a56_9828a60a01e2row0_col1\" class=\"data row0 col1\" >Premium</td>\n",
       "                        <td id=\"T_55b959b9_04e0_11ec_9a56_9828a60a01e2row0_col2\" class=\"data row0 col2\" >H</td>\n",
       "                        <td id=\"T_55b959b9_04e0_11ec_9a56_9828a60a01e2row0_col3\" class=\"data row0 col3\" >SI2</td>\n",
       "                        <td id=\"T_55b959b9_04e0_11ec_9a56_9828a60a01e2row0_col4\" class=\"data row0 col4\" >58.9</td>\n",
       "                        <td id=\"T_55b959b9_04e0_11ec_9a56_9828a60a01e2row0_col5\" class=\"data row0 col5\" >57.0</td>\n",
       "                        <td id=\"T_55b959b9_04e0_11ec_9a56_9828a60a01e2row0_col6\" class=\"data row0 col6\" >12210</td>\n",
       "                        <td id=\"T_55b959b9_04e0_11ec_9a56_9828a60a01e2row0_col7\" class=\"data row0 col7\" >8.09</td>\n",
       "                        <td id=\"T_55b959b9_04e0_11ec_9a56_9828a60a01e2row0_col8\" class=\"data row0 col8\" >58.90</td>\n",
       "                        <td id=\"T_55b959b9_04e0_11ec_9a56_9828a60a01e2row0_col9\" class=\"data row0 col9\" >8.06</td>\n",
       "            </tr>\n",
       "            <tr>\n",
       "                        <th id=\"T_55b959b9_04e0_11ec_9a56_9828a60a01e2level0_row1\" class=\"row_heading level0 row1\" >49189</th>\n",
       "                        <td id=\"T_55b959b9_04e0_11ec_9a56_9828a60a01e2row1_col0\" class=\"data row1 col0\" >0.51</td>\n",
       "                        <td id=\"T_55b959b9_04e0_11ec_9a56_9828a60a01e2row1_col1\" class=\"data row1 col1\" >Ideal</td>\n",
       "                        <td id=\"T_55b959b9_04e0_11ec_9a56_9828a60a01e2row1_col2\" class=\"data row1 col2\" >E</td>\n",
       "                        <td id=\"T_55b959b9_04e0_11ec_9a56_9828a60a01e2row1_col3\" class=\"data row1 col3\" >VS1</td>\n",
       "                        <td id=\"T_55b959b9_04e0_11ec_9a56_9828a60a01e2row1_col4\" class=\"data row1 col4\" >61.8</td>\n",
       "                        <td id=\"T_55b959b9_04e0_11ec_9a56_9828a60a01e2row1_col5\" class=\"data row1 col5\" >55.0</td>\n",
       "                        <td id=\"T_55b959b9_04e0_11ec_9a56_9828a60a01e2row1_col6\" class=\"data row1 col6\" >2075</td>\n",
       "                        <td id=\"T_55b959b9_04e0_11ec_9a56_9828a60a01e2row1_col7\" class=\"data row1 col7\" >5.15</td>\n",
       "                        <td id=\"T_55b959b9_04e0_11ec_9a56_9828a60a01e2row1_col8\" class=\"data row1 col8\" >31.80</td>\n",
       "                        <td id=\"T_55b959b9_04e0_11ec_9a56_9828a60a01e2row1_col9\" class=\"data row1 col9\" >5.12</td>\n",
       "            </tr>\n",
       "    </tbody></table>"
      ],
      "text/plain": [
       "<pandas.io.formats.style.Styler at 0x1dc7e6bf8e0>"
      ]
     },
     "execution_count": 27,
     "metadata": {},
     "output_type": "execute_result"
    }
   ],
   "source": [
    "df_outliers = df.loc[df[\"y\"] > 30].copy()\n",
    "highlight_outliers(df_outliers, \"y\")"
   ]
  },
  {
   "cell_type": "markdown",
   "metadata": {},
   "source": [
    "* **Price vs z** "
   ]
  },
  {
   "cell_type": "code",
   "execution_count": 28,
   "metadata": {},
   "outputs": [
    {
     "data": {
      "text/html": [
       "<style  type=\"text/css\" >\n",
       "#T_66b588bf_04e0_11ec_834e_9828a60a01e2row0_col9{\n",
       "            background-color:  red;\n",
       "        }</style><table id=\"T_66b588bf_04e0_11ec_834e_9828a60a01e2\" ><thead>    <tr>        <th class=\"blank level0\" ></th>        <th class=\"col_heading level0 col0\" >carat</th>        <th class=\"col_heading level0 col1\" >cut</th>        <th class=\"col_heading level0 col2\" >color</th>        <th class=\"col_heading level0 col3\" >clarity</th>        <th class=\"col_heading level0 col4\" >depth</th>        <th class=\"col_heading level0 col5\" >table</th>        <th class=\"col_heading level0 col6\" >price</th>        <th class=\"col_heading level0 col7\" >x</th>        <th class=\"col_heading level0 col8\" >y</th>        <th class=\"col_heading level0 col9\" >z</th>    </tr></thead><tbody>\n",
       "                <tr>\n",
       "                        <th id=\"T_66b588bf_04e0_11ec_834e_9828a60a01e2level0_row0\" class=\"row_heading level0 row0\" >48410</th>\n",
       "                        <td id=\"T_66b588bf_04e0_11ec_834e_9828a60a01e2row0_col0\" class=\"data row0 col0\" >0.51</td>\n",
       "                        <td id=\"T_66b588bf_04e0_11ec_834e_9828a60a01e2row0_col1\" class=\"data row0 col1\" >Very Good</td>\n",
       "                        <td id=\"T_66b588bf_04e0_11ec_834e_9828a60a01e2row0_col2\" class=\"data row0 col2\" >E</td>\n",
       "                        <td id=\"T_66b588bf_04e0_11ec_834e_9828a60a01e2row0_col3\" class=\"data row0 col3\" >VS1</td>\n",
       "                        <td id=\"T_66b588bf_04e0_11ec_834e_9828a60a01e2row0_col4\" class=\"data row0 col4\" >61.8</td>\n",
       "                        <td id=\"T_66b588bf_04e0_11ec_834e_9828a60a01e2row0_col5\" class=\"data row0 col5\" >54.7</td>\n",
       "                        <td id=\"T_66b588bf_04e0_11ec_834e_9828a60a01e2row0_col6\" class=\"data row0 col6\" >1970</td>\n",
       "                        <td id=\"T_66b588bf_04e0_11ec_834e_9828a60a01e2row0_col7\" class=\"data row0 col7\" >5.12</td>\n",
       "                        <td id=\"T_66b588bf_04e0_11ec_834e_9828a60a01e2row0_col8\" class=\"data row0 col8\" >5.15</td>\n",
       "                        <td id=\"T_66b588bf_04e0_11ec_834e_9828a60a01e2row0_col9\" class=\"data row0 col9\" >31.80</td>\n",
       "            </tr>\n",
       "    </tbody></table>"
      ],
      "text/plain": [
       "<pandas.io.formats.style.Styler at 0x1dc76d48790>"
      ]
     },
     "execution_count": 28,
     "metadata": {},
     "output_type": "execute_result"
    }
   ],
   "source": [
    "df_outliers = df.loc[df[\"z\"] > 30].copy()\n",
    "highlight_outliers(df_outliers, \"z\")"
   ]
  },
  {
   "cell_type": "code",
   "execution_count": 29,
   "metadata": {},
   "outputs": [],
   "source": [
    "# Transforming them into NaN values\n",
    "df.loc[df[\"y\"] > 30, \"y\"] = np.nan\n",
    "df.loc[df[\"z\"] > 30, \"z\"] = np.nan"
   ]
  },
  {
   "cell_type": "markdown",
   "metadata": {},
   "source": [
    "### Let us impute these outliers"
   ]
  },
  {
   "cell_type": "code",
   "execution_count": 30,
   "metadata": {},
   "outputs": [
    {
     "name": "stdout",
     "output_type": "stream",
     "text": [
      "carat: 2.0 / median y value: 8.01\n",
      "carat: 0.51 / median y value: 5.14\n"
     ]
    },
    {
     "data": {
      "text/html": [
       "<style  type=\"text/css\" >\n",
       "#T_7e6d65c6_04e0_11ec_b6ed_9828a60a01e2row0_col8,#T_7e6d65c6_04e0_11ec_b6ed_9828a60a01e2row1_col8{\n",
       "            background-color:  limegreen;\n",
       "        }</style><table id=\"T_7e6d65c6_04e0_11ec_b6ed_9828a60a01e2\" ><thead>    <tr>        <th class=\"blank level0\" ></th>        <th class=\"col_heading level0 col0\" >carat</th>        <th class=\"col_heading level0 col1\" >cut</th>        <th class=\"col_heading level0 col2\" >color</th>        <th class=\"col_heading level0 col3\" >clarity</th>        <th class=\"col_heading level0 col4\" >depth</th>        <th class=\"col_heading level0 col5\" >table</th>        <th class=\"col_heading level0 col6\" >price</th>        <th class=\"col_heading level0 col7\" >x</th>        <th class=\"col_heading level0 col8\" >y</th>        <th class=\"col_heading level0 col9\" >z</th>    </tr></thead><tbody>\n",
       "                <tr>\n",
       "                        <th id=\"T_7e6d65c6_04e0_11ec_b6ed_9828a60a01e2level0_row0\" class=\"row_heading level0 row0\" >24067</th>\n",
       "                        <td id=\"T_7e6d65c6_04e0_11ec_b6ed_9828a60a01e2row0_col0\" class=\"data row0 col0\" >2.00</td>\n",
       "                        <td id=\"T_7e6d65c6_04e0_11ec_b6ed_9828a60a01e2row0_col1\" class=\"data row0 col1\" >Premium</td>\n",
       "                        <td id=\"T_7e6d65c6_04e0_11ec_b6ed_9828a60a01e2row0_col2\" class=\"data row0 col2\" >H</td>\n",
       "                        <td id=\"T_7e6d65c6_04e0_11ec_b6ed_9828a60a01e2row0_col3\" class=\"data row0 col3\" >SI2</td>\n",
       "                        <td id=\"T_7e6d65c6_04e0_11ec_b6ed_9828a60a01e2row0_col4\" class=\"data row0 col4\" >58.9</td>\n",
       "                        <td id=\"T_7e6d65c6_04e0_11ec_b6ed_9828a60a01e2row0_col5\" class=\"data row0 col5\" >57.0</td>\n",
       "                        <td id=\"T_7e6d65c6_04e0_11ec_b6ed_9828a60a01e2row0_col6\" class=\"data row0 col6\" >12210</td>\n",
       "                        <td id=\"T_7e6d65c6_04e0_11ec_b6ed_9828a60a01e2row0_col7\" class=\"data row0 col7\" >8.09</td>\n",
       "                        <td id=\"T_7e6d65c6_04e0_11ec_b6ed_9828a60a01e2row0_col8\" class=\"data row0 col8\" >8.01</td>\n",
       "                        <td id=\"T_7e6d65c6_04e0_11ec_b6ed_9828a60a01e2row0_col9\" class=\"data row0 col9\" >8.06</td>\n",
       "            </tr>\n",
       "            <tr>\n",
       "                        <th id=\"T_7e6d65c6_04e0_11ec_b6ed_9828a60a01e2level0_row1\" class=\"row_heading level0 row1\" >49189</th>\n",
       "                        <td id=\"T_7e6d65c6_04e0_11ec_b6ed_9828a60a01e2row1_col0\" class=\"data row1 col0\" >0.51</td>\n",
       "                        <td id=\"T_7e6d65c6_04e0_11ec_b6ed_9828a60a01e2row1_col1\" class=\"data row1 col1\" >Ideal</td>\n",
       "                        <td id=\"T_7e6d65c6_04e0_11ec_b6ed_9828a60a01e2row1_col2\" class=\"data row1 col2\" >E</td>\n",
       "                        <td id=\"T_7e6d65c6_04e0_11ec_b6ed_9828a60a01e2row1_col3\" class=\"data row1 col3\" >VS1</td>\n",
       "                        <td id=\"T_7e6d65c6_04e0_11ec_b6ed_9828a60a01e2row1_col4\" class=\"data row1 col4\" >61.8</td>\n",
       "                        <td id=\"T_7e6d65c6_04e0_11ec_b6ed_9828a60a01e2row1_col5\" class=\"data row1 col5\" >55.0</td>\n",
       "                        <td id=\"T_7e6d65c6_04e0_11ec_b6ed_9828a60a01e2row1_col6\" class=\"data row1 col6\" >2075</td>\n",
       "                        <td id=\"T_7e6d65c6_04e0_11ec_b6ed_9828a60a01e2row1_col7\" class=\"data row1 col7\" >5.15</td>\n",
       "                        <td id=\"T_7e6d65c6_04e0_11ec_b6ed_9828a60a01e2row1_col8\" class=\"data row1 col8\" >5.14</td>\n",
       "                        <td id=\"T_7e6d65c6_04e0_11ec_b6ed_9828a60a01e2row1_col9\" class=\"data row1 col9\" >5.12</td>\n",
       "            </tr>\n",
       "    </tbody></table>"
      ],
      "text/plain": [
       "<pandas.io.formats.style.Styler at 0x1dc7c4398e0>"
      ]
     },
     "execution_count": 30,
     "metadata": {},
     "output_type": "execute_result"
    }
   ],
   "source": [
    "missing_values_imputation(\"y\")"
   ]
  },
  {
   "cell_type": "code",
   "execution_count": 31,
   "metadata": {},
   "outputs": [
    {
     "name": "stdout",
     "output_type": "stream",
     "text": [
      "carat: 0.51 / median z value: 3.17\n"
     ]
    },
    {
     "data": {
      "text/html": [
       "<style  type=\"text/css\" >\n",
       "#T_8331c4d1_04e0_11ec_87c8_9828a60a01e2row0_col9{\n",
       "            background-color:  limegreen;\n",
       "        }</style><table id=\"T_8331c4d1_04e0_11ec_87c8_9828a60a01e2\" ><thead>    <tr>        <th class=\"blank level0\" ></th>        <th class=\"col_heading level0 col0\" >carat</th>        <th class=\"col_heading level0 col1\" >cut</th>        <th class=\"col_heading level0 col2\" >color</th>        <th class=\"col_heading level0 col3\" >clarity</th>        <th class=\"col_heading level0 col4\" >depth</th>        <th class=\"col_heading level0 col5\" >table</th>        <th class=\"col_heading level0 col6\" >price</th>        <th class=\"col_heading level0 col7\" >x</th>        <th class=\"col_heading level0 col8\" >y</th>        <th class=\"col_heading level0 col9\" >z</th>    </tr></thead><tbody>\n",
       "                <tr>\n",
       "                        <th id=\"T_8331c4d1_04e0_11ec_87c8_9828a60a01e2level0_row0\" class=\"row_heading level0 row0\" >48410</th>\n",
       "                        <td id=\"T_8331c4d1_04e0_11ec_87c8_9828a60a01e2row0_col0\" class=\"data row0 col0\" >0.51</td>\n",
       "                        <td id=\"T_8331c4d1_04e0_11ec_87c8_9828a60a01e2row0_col1\" class=\"data row0 col1\" >Very Good</td>\n",
       "                        <td id=\"T_8331c4d1_04e0_11ec_87c8_9828a60a01e2row0_col2\" class=\"data row0 col2\" >E</td>\n",
       "                        <td id=\"T_8331c4d1_04e0_11ec_87c8_9828a60a01e2row0_col3\" class=\"data row0 col3\" >VS1</td>\n",
       "                        <td id=\"T_8331c4d1_04e0_11ec_87c8_9828a60a01e2row0_col4\" class=\"data row0 col4\" >61.8</td>\n",
       "                        <td id=\"T_8331c4d1_04e0_11ec_87c8_9828a60a01e2row0_col5\" class=\"data row0 col5\" >54.7</td>\n",
       "                        <td id=\"T_8331c4d1_04e0_11ec_87c8_9828a60a01e2row0_col6\" class=\"data row0 col6\" >1970</td>\n",
       "                        <td id=\"T_8331c4d1_04e0_11ec_87c8_9828a60a01e2row0_col7\" class=\"data row0 col7\" >5.12</td>\n",
       "                        <td id=\"T_8331c4d1_04e0_11ec_87c8_9828a60a01e2row0_col8\" class=\"data row0 col8\" >5.15</td>\n",
       "                        <td id=\"T_8331c4d1_04e0_11ec_87c8_9828a60a01e2row0_col9\" class=\"data row0 col9\" >3.17</td>\n",
       "            </tr>\n",
       "    </tbody></table>"
      ],
      "text/plain": [
       "<pandas.io.formats.style.Styler at 0x1dc7d27fcd0>"
      ]
     },
     "execution_count": 31,
     "metadata": {},
     "output_type": "execute_result"
    }
   ],
   "source": [
    "missing_values_imputation(\"z\")"
   ]
  },
  {
   "cell_type": "markdown",
   "metadata": {},
   "source": [
    "### Checking for other outliers"
   ]
  },
  {
   "cell_type": "markdown",
   "metadata": {},
   "source": [
    "* **price vs depth**"
   ]
  },
  {
   "cell_type": "code",
   "execution_count": 32,
   "metadata": {},
   "outputs": [
    {
     "data": {
      "text/html": [
       "<style  type=\"text/css\" >\n",
       "#T_9e41d9b7_04e0_11ec_8708_9828a60a01e2row0_col4,#T_9e41d9b7_04e0_11ec_8708_9828a60a01e2row1_col4,#T_9e41d9b7_04e0_11ec_8708_9828a60a01e2row2_col4,#T_9e41d9b7_04e0_11ec_8708_9828a60a01e2row3_col4,#T_9e41d9b7_04e0_11ec_8708_9828a60a01e2row4_col4,#T_9e41d9b7_04e0_11ec_8708_9828a60a01e2row5_col4{\n",
       "            background-color:  red;\n",
       "        }</style><table id=\"T_9e41d9b7_04e0_11ec_8708_9828a60a01e2\" ><thead>    <tr>        <th class=\"blank level0\" ></th>        <th class=\"col_heading level0 col0\" >carat</th>        <th class=\"col_heading level0 col1\" >cut</th>        <th class=\"col_heading level0 col2\" >color</th>        <th class=\"col_heading level0 col3\" >clarity</th>        <th class=\"col_heading level0 col4\" >depth</th>        <th class=\"col_heading level0 col5\" >table</th>        <th class=\"col_heading level0 col6\" >price</th>        <th class=\"col_heading level0 col7\" >x</th>        <th class=\"col_heading level0 col8\" >y</th>        <th class=\"col_heading level0 col9\" >z</th>    </tr></thead><tbody>\n",
       "                <tr>\n",
       "                        <th id=\"T_9e41d9b7_04e0_11ec_8708_9828a60a01e2level0_row0\" class=\"row_heading level0 row0\" >4518</th>\n",
       "                        <td id=\"T_9e41d9b7_04e0_11ec_8708_9828a60a01e2row0_col0\" class=\"data row0 col0\" >1.00</td>\n",
       "                        <td id=\"T_9e41d9b7_04e0_11ec_8708_9828a60a01e2row0_col1\" class=\"data row0 col1\" >Fair</td>\n",
       "                        <td id=\"T_9e41d9b7_04e0_11ec_8708_9828a60a01e2row0_col2\" class=\"data row0 col2\" >G</td>\n",
       "                        <td id=\"T_9e41d9b7_04e0_11ec_8708_9828a60a01e2row0_col3\" class=\"data row0 col3\" >SI1</td>\n",
       "                        <td id=\"T_9e41d9b7_04e0_11ec_8708_9828a60a01e2row0_col4\" class=\"data row0 col4\" >43.0</td>\n",
       "                        <td id=\"T_9e41d9b7_04e0_11ec_8708_9828a60a01e2row0_col5\" class=\"data row0 col5\" >59.0</td>\n",
       "                        <td id=\"T_9e41d9b7_04e0_11ec_8708_9828a60a01e2row0_col6\" class=\"data row0 col6\" >3634</td>\n",
       "                        <td id=\"T_9e41d9b7_04e0_11ec_8708_9828a60a01e2row0_col7\" class=\"data row0 col7\" >6.32</td>\n",
       "                        <td id=\"T_9e41d9b7_04e0_11ec_8708_9828a60a01e2row0_col8\" class=\"data row0 col8\" >6.27</td>\n",
       "                        <td id=\"T_9e41d9b7_04e0_11ec_8708_9828a60a01e2row0_col9\" class=\"data row0 col9\" >3.97</td>\n",
       "            </tr>\n",
       "            <tr>\n",
       "                        <th id=\"T_9e41d9b7_04e0_11ec_8708_9828a60a01e2level0_row1\" class=\"row_heading level0 row1\" >6341</th>\n",
       "                        <td id=\"T_9e41d9b7_04e0_11ec_8708_9828a60a01e2row1_col0\" class=\"data row1 col0\" >1.00</td>\n",
       "                        <td id=\"T_9e41d9b7_04e0_11ec_8708_9828a60a01e2row1_col1\" class=\"data row1 col1\" >Fair</td>\n",
       "                        <td id=\"T_9e41d9b7_04e0_11ec_8708_9828a60a01e2row1_col2\" class=\"data row1 col2\" >G</td>\n",
       "                        <td id=\"T_9e41d9b7_04e0_11ec_8708_9828a60a01e2row1_col3\" class=\"data row1 col3\" >VS2</td>\n",
       "                        <td id=\"T_9e41d9b7_04e0_11ec_8708_9828a60a01e2row1_col4\" class=\"data row1 col4\" >44.0</td>\n",
       "                        <td id=\"T_9e41d9b7_04e0_11ec_8708_9828a60a01e2row1_col5\" class=\"data row1 col5\" >53.0</td>\n",
       "                        <td id=\"T_9e41d9b7_04e0_11ec_8708_9828a60a01e2row1_col6\" class=\"data row1 col6\" >4032</td>\n",
       "                        <td id=\"T_9e41d9b7_04e0_11ec_8708_9828a60a01e2row1_col7\" class=\"data row1 col7\" >6.31</td>\n",
       "                        <td id=\"T_9e41d9b7_04e0_11ec_8708_9828a60a01e2row1_col8\" class=\"data row1 col8\" >6.24</td>\n",
       "                        <td id=\"T_9e41d9b7_04e0_11ec_8708_9828a60a01e2row1_col9\" class=\"data row1 col9\" >4.12</td>\n",
       "            </tr>\n",
       "            <tr>\n",
       "                        <th id=\"T_9e41d9b7_04e0_11ec_8708_9828a60a01e2level0_row2\" class=\"row_heading level0 row2\" >10377</th>\n",
       "                        <td id=\"T_9e41d9b7_04e0_11ec_8708_9828a60a01e2row2_col0\" class=\"data row2 col0\" >1.09</td>\n",
       "                        <td id=\"T_9e41d9b7_04e0_11ec_8708_9828a60a01e2row2_col1\" class=\"data row2 col1\" >Ideal</td>\n",
       "                        <td id=\"T_9e41d9b7_04e0_11ec_8708_9828a60a01e2row2_col2\" class=\"data row2 col2\" >J</td>\n",
       "                        <td id=\"T_9e41d9b7_04e0_11ec_8708_9828a60a01e2row2_col3\" class=\"data row2 col3\" >VS2</td>\n",
       "                        <td id=\"T_9e41d9b7_04e0_11ec_8708_9828a60a01e2row2_col4\" class=\"data row2 col4\" >43.0</td>\n",
       "                        <td id=\"T_9e41d9b7_04e0_11ec_8708_9828a60a01e2row2_col5\" class=\"data row2 col5\" >54.0</td>\n",
       "                        <td id=\"T_9e41d9b7_04e0_11ec_8708_9828a60a01e2row2_col6\" class=\"data row2 col6\" >4778</td>\n",
       "                        <td id=\"T_9e41d9b7_04e0_11ec_8708_9828a60a01e2row2_col7\" class=\"data row2 col7\" >6.53</td>\n",
       "                        <td id=\"T_9e41d9b7_04e0_11ec_8708_9828a60a01e2row2_col8\" class=\"data row2 col8\" >6.55</td>\n",
       "                        <td id=\"T_9e41d9b7_04e0_11ec_8708_9828a60a01e2row2_col9\" class=\"data row2 col9\" >4.12</td>\n",
       "            </tr>\n",
       "            <tr>\n",
       "                        <th id=\"T_9e41d9b7_04e0_11ec_8708_9828a60a01e2level0_row3\" class=\"row_heading level0 row3\" >41918</th>\n",
       "                        <td id=\"T_9e41d9b7_04e0_11ec_8708_9828a60a01e2row3_col0\" class=\"data row3 col0\" >1.03</td>\n",
       "                        <td id=\"T_9e41d9b7_04e0_11ec_8708_9828a60a01e2row3_col1\" class=\"data row3 col1\" >Fair</td>\n",
       "                        <td id=\"T_9e41d9b7_04e0_11ec_8708_9828a60a01e2row3_col2\" class=\"data row3 col2\" >E</td>\n",
       "                        <td id=\"T_9e41d9b7_04e0_11ec_8708_9828a60a01e2row3_col3\" class=\"data row3 col3\" >I1</td>\n",
       "                        <td id=\"T_9e41d9b7_04e0_11ec_8708_9828a60a01e2row3_col4\" class=\"data row3 col4\" >78.2</td>\n",
       "                        <td id=\"T_9e41d9b7_04e0_11ec_8708_9828a60a01e2row3_col5\" class=\"data row3 col5\" >54.0</td>\n",
       "                        <td id=\"T_9e41d9b7_04e0_11ec_8708_9828a60a01e2row3_col6\" class=\"data row3 col6\" >1262</td>\n",
       "                        <td id=\"T_9e41d9b7_04e0_11ec_8708_9828a60a01e2row3_col7\" class=\"data row3 col7\" >5.72</td>\n",
       "                        <td id=\"T_9e41d9b7_04e0_11ec_8708_9828a60a01e2row3_col8\" class=\"data row3 col8\" >5.59</td>\n",
       "                        <td id=\"T_9e41d9b7_04e0_11ec_8708_9828a60a01e2row3_col9\" class=\"data row3 col9\" >4.42</td>\n",
       "            </tr>\n",
       "            <tr>\n",
       "                        <th id=\"T_9e41d9b7_04e0_11ec_8708_9828a60a01e2level0_row4\" class=\"row_heading level0 row4\" >52860</th>\n",
       "                        <td id=\"T_9e41d9b7_04e0_11ec_8708_9828a60a01e2row4_col0\" class=\"data row4 col0\" >0.50</td>\n",
       "                        <td id=\"T_9e41d9b7_04e0_11ec_8708_9828a60a01e2row4_col1\" class=\"data row4 col1\" >Fair</td>\n",
       "                        <td id=\"T_9e41d9b7_04e0_11ec_8708_9828a60a01e2row4_col2\" class=\"data row4 col2\" >E</td>\n",
       "                        <td id=\"T_9e41d9b7_04e0_11ec_8708_9828a60a01e2row4_col3\" class=\"data row4 col3\" >VS2</td>\n",
       "                        <td id=\"T_9e41d9b7_04e0_11ec_8708_9828a60a01e2row4_col4\" class=\"data row4 col4\" >79.0</td>\n",
       "                        <td id=\"T_9e41d9b7_04e0_11ec_8708_9828a60a01e2row4_col5\" class=\"data row4 col5\" >73.0</td>\n",
       "                        <td id=\"T_9e41d9b7_04e0_11ec_8708_9828a60a01e2row4_col6\" class=\"data row4 col6\" >2579</td>\n",
       "                        <td id=\"T_9e41d9b7_04e0_11ec_8708_9828a60a01e2row4_col7\" class=\"data row4 col7\" >5.21</td>\n",
       "                        <td id=\"T_9e41d9b7_04e0_11ec_8708_9828a60a01e2row4_col8\" class=\"data row4 col8\" >5.18</td>\n",
       "                        <td id=\"T_9e41d9b7_04e0_11ec_8708_9828a60a01e2row4_col9\" class=\"data row4 col9\" >4.09</td>\n",
       "            </tr>\n",
       "            <tr>\n",
       "                        <th id=\"T_9e41d9b7_04e0_11ec_8708_9828a60a01e2level0_row5\" class=\"row_heading level0 row5\" >52861</th>\n",
       "                        <td id=\"T_9e41d9b7_04e0_11ec_8708_9828a60a01e2row5_col0\" class=\"data row5 col0\" >0.50</td>\n",
       "                        <td id=\"T_9e41d9b7_04e0_11ec_8708_9828a60a01e2row5_col1\" class=\"data row5 col1\" >Fair</td>\n",
       "                        <td id=\"T_9e41d9b7_04e0_11ec_8708_9828a60a01e2row5_col2\" class=\"data row5 col2\" >E</td>\n",
       "                        <td id=\"T_9e41d9b7_04e0_11ec_8708_9828a60a01e2row5_col3\" class=\"data row5 col3\" >VS2</td>\n",
       "                        <td id=\"T_9e41d9b7_04e0_11ec_8708_9828a60a01e2row5_col4\" class=\"data row5 col4\" >79.0</td>\n",
       "                        <td id=\"T_9e41d9b7_04e0_11ec_8708_9828a60a01e2row5_col5\" class=\"data row5 col5\" >73.0</td>\n",
       "                        <td id=\"T_9e41d9b7_04e0_11ec_8708_9828a60a01e2row5_col6\" class=\"data row5 col6\" >2579</td>\n",
       "                        <td id=\"T_9e41d9b7_04e0_11ec_8708_9828a60a01e2row5_col7\" class=\"data row5 col7\" >5.21</td>\n",
       "                        <td id=\"T_9e41d9b7_04e0_11ec_8708_9828a60a01e2row5_col8\" class=\"data row5 col8\" >5.18</td>\n",
       "                        <td id=\"T_9e41d9b7_04e0_11ec_8708_9828a60a01e2row5_col9\" class=\"data row5 col9\" >4.09</td>\n",
       "            </tr>\n",
       "    </tbody></table>"
      ],
      "text/plain": [
       "<pandas.io.formats.style.Styler at 0x1dc7d634760>"
      ]
     },
     "execution_count": 32,
     "metadata": {},
     "output_type": "execute_result"
    }
   ],
   "source": [
    "df_outliers = df.loc[(df[\"depth\"] > 75) | (df[\"depth\"] < 45)].copy()\n",
    "highlight_outliers(df_outliers, \"depth\")"
   ]
  },
  {
   "cell_type": "markdown",
   "metadata": {},
   "source": [
    "They are not absurd values ,so let us not impute them and keep actual values for analysis"
   ]
  },
  {
   "cell_type": "markdown",
   "metadata": {},
   "source": [
    "* **price vs table**"
   ]
  },
  {
   "cell_type": "code",
   "execution_count": 33,
   "metadata": {},
   "outputs": [
    {
     "data": {
      "text/html": [
       "<style  type=\"text/css\" >\n",
       "#T_bc08096f_04e0_11ec_bc13_9828a60a01e2row0_col5,#T_bc08096f_04e0_11ec_bc13_9828a60a01e2row1_col5,#T_bc08096f_04e0_11ec_bc13_9828a60a01e2row2_col5{\n",
       "            background-color:  red;\n",
       "        }</style><table id=\"T_bc08096f_04e0_11ec_bc13_9828a60a01e2\" ><thead>    <tr>        <th class=\"blank level0\" ></th>        <th class=\"col_heading level0 col0\" >carat</th>        <th class=\"col_heading level0 col1\" >cut</th>        <th class=\"col_heading level0 col2\" >color</th>        <th class=\"col_heading level0 col3\" >clarity</th>        <th class=\"col_heading level0 col4\" >depth</th>        <th class=\"col_heading level0 col5\" >table</th>        <th class=\"col_heading level0 col6\" >price</th>        <th class=\"col_heading level0 col7\" >x</th>        <th class=\"col_heading level0 col8\" >y</th>        <th class=\"col_heading level0 col9\" >z</th>    </tr></thead><tbody>\n",
       "                <tr>\n",
       "                        <th id=\"T_bc08096f_04e0_11ec_bc13_9828a60a01e2level0_row0\" class=\"row_heading level0 row0\" >11368</th>\n",
       "                        <td id=\"T_bc08096f_04e0_11ec_bc13_9828a60a01e2row0_col0\" class=\"data row0 col0\" >1.04</td>\n",
       "                        <td id=\"T_bc08096f_04e0_11ec_bc13_9828a60a01e2row0_col1\" class=\"data row0 col1\" >Ideal</td>\n",
       "                        <td id=\"T_bc08096f_04e0_11ec_bc13_9828a60a01e2row0_col2\" class=\"data row0 col2\" >I</td>\n",
       "                        <td id=\"T_bc08096f_04e0_11ec_bc13_9828a60a01e2row0_col3\" class=\"data row0 col3\" >VS1</td>\n",
       "                        <td id=\"T_bc08096f_04e0_11ec_bc13_9828a60a01e2row0_col4\" class=\"data row0 col4\" >62.9</td>\n",
       "                        <td id=\"T_bc08096f_04e0_11ec_bc13_9828a60a01e2row0_col5\" class=\"data row0 col5\" >43.0</td>\n",
       "                        <td id=\"T_bc08096f_04e0_11ec_bc13_9828a60a01e2row0_col6\" class=\"data row0 col6\" >4997</td>\n",
       "                        <td id=\"T_bc08096f_04e0_11ec_bc13_9828a60a01e2row0_col7\" class=\"data row0 col7\" >6.45</td>\n",
       "                        <td id=\"T_bc08096f_04e0_11ec_bc13_9828a60a01e2row0_col8\" class=\"data row0 col8\" >6.41</td>\n",
       "                        <td id=\"T_bc08096f_04e0_11ec_bc13_9828a60a01e2row0_col9\" class=\"data row0 col9\" >4.04</td>\n",
       "            </tr>\n",
       "            <tr>\n",
       "                        <th id=\"T_bc08096f_04e0_11ec_bc13_9828a60a01e2level0_row1\" class=\"row_heading level0 row1\" >24932</th>\n",
       "                        <td id=\"T_bc08096f_04e0_11ec_bc13_9828a60a01e2row1_col0\" class=\"data row1 col0\" >2.01</td>\n",
       "                        <td id=\"T_bc08096f_04e0_11ec_bc13_9828a60a01e2row1_col1\" class=\"data row1 col1\" >Fair</td>\n",
       "                        <td id=\"T_bc08096f_04e0_11ec_bc13_9828a60a01e2row1_col2\" class=\"data row1 col2\" >F</td>\n",
       "                        <td id=\"T_bc08096f_04e0_11ec_bc13_9828a60a01e2row1_col3\" class=\"data row1 col3\" >SI1</td>\n",
       "                        <td id=\"T_bc08096f_04e0_11ec_bc13_9828a60a01e2row1_col4\" class=\"data row1 col4\" >58.6</td>\n",
       "                        <td id=\"T_bc08096f_04e0_11ec_bc13_9828a60a01e2row1_col5\" class=\"data row1 col5\" >95.0</td>\n",
       "                        <td id=\"T_bc08096f_04e0_11ec_bc13_9828a60a01e2row1_col6\" class=\"data row1 col6\" >13387</td>\n",
       "                        <td id=\"T_bc08096f_04e0_11ec_bc13_9828a60a01e2row1_col7\" class=\"data row1 col7\" >8.32</td>\n",
       "                        <td id=\"T_bc08096f_04e0_11ec_bc13_9828a60a01e2row1_col8\" class=\"data row1 col8\" >8.31</td>\n",
       "                        <td id=\"T_bc08096f_04e0_11ec_bc13_9828a60a01e2row1_col9\" class=\"data row1 col9\" >4.87</td>\n",
       "            </tr>\n",
       "            <tr>\n",
       "                        <th id=\"T_bc08096f_04e0_11ec_bc13_9828a60a01e2level0_row2\" class=\"row_heading level0 row2\" >35633</th>\n",
       "                        <td id=\"T_bc08096f_04e0_11ec_bc13_9828a60a01e2row2_col0\" class=\"data row2 col0\" >0.29</td>\n",
       "                        <td id=\"T_bc08096f_04e0_11ec_bc13_9828a60a01e2row2_col1\" class=\"data row2 col1\" >Very Good</td>\n",
       "                        <td id=\"T_bc08096f_04e0_11ec_bc13_9828a60a01e2row2_col2\" class=\"data row2 col2\" >E</td>\n",
       "                        <td id=\"T_bc08096f_04e0_11ec_bc13_9828a60a01e2row2_col3\" class=\"data row2 col3\" >VS1</td>\n",
       "                        <td id=\"T_bc08096f_04e0_11ec_bc13_9828a60a01e2row2_col4\" class=\"data row2 col4\" >62.8</td>\n",
       "                        <td id=\"T_bc08096f_04e0_11ec_bc13_9828a60a01e2row2_col5\" class=\"data row2 col5\" >44.0</td>\n",
       "                        <td id=\"T_bc08096f_04e0_11ec_bc13_9828a60a01e2row2_col6\" class=\"data row2 col6\" >474</td>\n",
       "                        <td id=\"T_bc08096f_04e0_11ec_bc13_9828a60a01e2row2_col7\" class=\"data row2 col7\" >4.20</td>\n",
       "                        <td id=\"T_bc08096f_04e0_11ec_bc13_9828a60a01e2row2_col8\" class=\"data row2 col8\" >4.24</td>\n",
       "                        <td id=\"T_bc08096f_04e0_11ec_bc13_9828a60a01e2row2_col9\" class=\"data row2 col9\" >2.65</td>\n",
       "            </tr>\n",
       "    </tbody></table>"
      ],
      "text/plain": [
       "<pandas.io.formats.style.Styler at 0x1dc7d221ca0>"
      ]
     },
     "execution_count": 33,
     "metadata": {},
     "output_type": "execute_result"
    }
   ],
   "source": [
    "df_outliers = df.loc[(df[\"table\"] > 90) | (df[\"table\"] < 45)].copy()\n",
    "highlight_outliers(df_outliers, \"table\")"
   ]
  },
  {
   "cell_type": "markdown",
   "metadata": {},
   "source": [
    "We see it to be similar with depth,therefore let's keep it actual. "
   ]
  },
  {
   "cell_type": "markdown",
   "metadata": {},
   "source": [
    "* **Price vs z** "
   ]
  },
  {
   "cell_type": "code",
   "execution_count": 34,
   "metadata": {},
   "outputs": [
    {
     "data": {
      "text/html": [
       "<style  type=\"text/css\" >\n",
       "#T_e888fc3a_04e0_11ec_9fa4_9828a60a01e2row0_col9,#T_e888fc3a_04e0_11ec_9fa4_9828a60a01e2row1_col9,#T_e888fc3a_04e0_11ec_9fa4_9828a60a01e2row2_col9{\n",
       "            background-color:  red;\n",
       "        }</style><table id=\"T_e888fc3a_04e0_11ec_9fa4_9828a60a01e2\" ><thead>    <tr>        <th class=\"blank level0\" ></th>        <th class=\"col_heading level0 col0\" >carat</th>        <th class=\"col_heading level0 col1\" >cut</th>        <th class=\"col_heading level0 col2\" >color</th>        <th class=\"col_heading level0 col3\" >clarity</th>        <th class=\"col_heading level0 col4\" >depth</th>        <th class=\"col_heading level0 col5\" >table</th>        <th class=\"col_heading level0 col6\" >price</th>        <th class=\"col_heading level0 col7\" >x</th>        <th class=\"col_heading level0 col8\" >y</th>        <th class=\"col_heading level0 col9\" >z</th>    </tr></thead><tbody>\n",
       "                <tr>\n",
       "                        <th id=\"T_e888fc3a_04e0_11ec_9fa4_9828a60a01e2level0_row0\" class=\"row_heading level0 row0\" >14635</th>\n",
       "                        <td id=\"T_e888fc3a_04e0_11ec_9fa4_9828a60a01e2row0_col0\" class=\"data row0 col0\" >1.07</td>\n",
       "                        <td id=\"T_e888fc3a_04e0_11ec_9fa4_9828a60a01e2row0_col1\" class=\"data row0 col1\" >Ideal</td>\n",
       "                        <td id=\"T_e888fc3a_04e0_11ec_9fa4_9828a60a01e2row0_col2\" class=\"data row0 col2\" >F</td>\n",
       "                        <td id=\"T_e888fc3a_04e0_11ec_9fa4_9828a60a01e2row0_col3\" class=\"data row0 col3\" >SI1</td>\n",
       "                        <td id=\"T_e888fc3a_04e0_11ec_9fa4_9828a60a01e2row0_col4\" class=\"data row0 col4\" >60.6</td>\n",
       "                        <td id=\"T_e888fc3a_04e0_11ec_9fa4_9828a60a01e2row0_col5\" class=\"data row0 col5\" >57.0</td>\n",
       "                        <td id=\"T_e888fc3a_04e0_11ec_9fa4_9828a60a01e2row0_col6\" class=\"data row0 col6\" >5909</td>\n",
       "                        <td id=\"T_e888fc3a_04e0_11ec_9fa4_9828a60a01e2row0_col7\" class=\"data row0 col7\" >6.62</td>\n",
       "                        <td id=\"T_e888fc3a_04e0_11ec_9fa4_9828a60a01e2row0_col8\" class=\"data row0 col8\" >6.67</td>\n",
       "                        <td id=\"T_e888fc3a_04e0_11ec_9fa4_9828a60a01e2row0_col9\" class=\"data row0 col9\" >1.07</td>\n",
       "            </tr>\n",
       "            <tr>\n",
       "                        <th id=\"T_e888fc3a_04e0_11ec_9fa4_9828a60a01e2level0_row1\" class=\"row_heading level0 row1\" >20694</th>\n",
       "                        <td id=\"T_e888fc3a_04e0_11ec_9fa4_9828a60a01e2row1_col0\" class=\"data row1 col0\" >1.53</td>\n",
       "                        <td id=\"T_e888fc3a_04e0_11ec_9fa4_9828a60a01e2row1_col1\" class=\"data row1 col1\" >Ideal</td>\n",
       "                        <td id=\"T_e888fc3a_04e0_11ec_9fa4_9828a60a01e2row1_col2\" class=\"data row1 col2\" >I</td>\n",
       "                        <td id=\"T_e888fc3a_04e0_11ec_9fa4_9828a60a01e2row1_col3\" class=\"data row1 col3\" >SI1</td>\n",
       "                        <td id=\"T_e888fc3a_04e0_11ec_9fa4_9828a60a01e2row1_col4\" class=\"data row1 col4\" >61.9</td>\n",
       "                        <td id=\"T_e888fc3a_04e0_11ec_9fa4_9828a60a01e2row1_col5\" class=\"data row1 col5\" >54.0</td>\n",
       "                        <td id=\"T_e888fc3a_04e0_11ec_9fa4_9828a60a01e2row1_col6\" class=\"data row1 col6\" >8971</td>\n",
       "                        <td id=\"T_e888fc3a_04e0_11ec_9fa4_9828a60a01e2row1_col7\" class=\"data row1 col7\" >7.43</td>\n",
       "                        <td id=\"T_e888fc3a_04e0_11ec_9fa4_9828a60a01e2row1_col8\" class=\"data row1 col8\" >7.50</td>\n",
       "                        <td id=\"T_e888fc3a_04e0_11ec_9fa4_9828a60a01e2row1_col9\" class=\"data row1 col9\" >1.53</td>\n",
       "            </tr>\n",
       "            <tr>\n",
       "                        <th id=\"T_e888fc3a_04e0_11ec_9fa4_9828a60a01e2level0_row2\" class=\"row_heading level0 row2\" >21654</th>\n",
       "                        <td id=\"T_e888fc3a_04e0_11ec_9fa4_9828a60a01e2row2_col0\" class=\"data row2 col0\" >1.41</td>\n",
       "                        <td id=\"T_e888fc3a_04e0_11ec_9fa4_9828a60a01e2row2_col1\" class=\"data row2 col1\" >Ideal</td>\n",
       "                        <td id=\"T_e888fc3a_04e0_11ec_9fa4_9828a60a01e2row2_col2\" class=\"data row2 col2\" >H</td>\n",
       "                        <td id=\"T_e888fc3a_04e0_11ec_9fa4_9828a60a01e2row2_col3\" class=\"data row2 col3\" >VS1</td>\n",
       "                        <td id=\"T_e888fc3a_04e0_11ec_9fa4_9828a60a01e2row2_col4\" class=\"data row2 col4\" >60.7</td>\n",
       "                        <td id=\"T_e888fc3a_04e0_11ec_9fa4_9828a60a01e2row2_col5\" class=\"data row2 col5\" >56.0</td>\n",
       "                        <td id=\"T_e888fc3a_04e0_11ec_9fa4_9828a60a01e2row2_col6\" class=\"data row2 col6\" >9752</td>\n",
       "                        <td id=\"T_e888fc3a_04e0_11ec_9fa4_9828a60a01e2row2_col7\" class=\"data row2 col7\" >7.31</td>\n",
       "                        <td id=\"T_e888fc3a_04e0_11ec_9fa4_9828a60a01e2row2_col8\" class=\"data row2 col8\" >7.22</td>\n",
       "                        <td id=\"T_e888fc3a_04e0_11ec_9fa4_9828a60a01e2row2_col9\" class=\"data row2 col9\" >1.41</td>\n",
       "            </tr>\n",
       "    </tbody></table>"
      ],
      "text/plain": [
       "<pandas.io.formats.style.Styler at 0x1dc7e6ea460>"
      ]
     },
     "execution_count": 34,
     "metadata": {},
     "output_type": "execute_result"
    }
   ],
   "source": [
    "df_outliers = df.loc[df[\"z\"] < 2].copy()\n",
    "highlight_outliers(df_outliers, \"z\")"
   ]
  },
  {
   "cell_type": "markdown",
   "metadata": {},
   "source": [
    "We see that there are few values same as carat,which is not right,so let us impute them"
   ]
  },
  {
   "cell_type": "code",
   "execution_count": 36,
   "metadata": {},
   "outputs": [
    {
     "data": {
      "text/html": [
       "<div>\n",
       "<style scoped>\n",
       "    .dataframe tbody tr th:only-of-type {\n",
       "        vertical-align: middle;\n",
       "    }\n",
       "\n",
       "    .dataframe tbody tr th {\n",
       "        vertical-align: top;\n",
       "    }\n",
       "\n",
       "    .dataframe thead th {\n",
       "        text-align: right;\n",
       "    }\n",
       "</style>\n",
       "<table border=\"1\" class=\"dataframe\">\n",
       "  <thead>\n",
       "    <tr style=\"text-align: right;\">\n",
       "      <th></th>\n",
       "      <th>carat</th>\n",
       "      <th>z</th>\n",
       "    </tr>\n",
       "  </thead>\n",
       "  <tbody>\n",
       "    <tr>\n",
       "      <th>14635</th>\n",
       "      <td>1.07</td>\n",
       "      <td>1.07</td>\n",
       "    </tr>\n",
       "    <tr>\n",
       "      <th>20694</th>\n",
       "      <td>1.53</td>\n",
       "      <td>1.53</td>\n",
       "    </tr>\n",
       "    <tr>\n",
       "      <th>21654</th>\n",
       "      <td>1.41</td>\n",
       "      <td>1.41</td>\n",
       "    </tr>\n",
       "  </tbody>\n",
       "</table>\n",
       "</div>"
      ],
      "text/plain": [
       "       carat     z\n",
       "14635   1.07  1.07\n",
       "20694   1.53  1.53\n",
       "21654   1.41  1.41"
      ]
     },
     "execution_count": 36,
     "metadata": {},
     "output_type": "execute_result"
    }
   ],
   "source": [
    "df.loc[df[\"carat\"] == df[\"z\"], [\"carat\", \"z\"]]"
   ]
  },
  {
   "cell_type": "code",
   "execution_count": 37,
   "metadata": {},
   "outputs": [],
   "source": [
    "# Transforming them into NaN values\n",
    "df.loc[df[\"z\"] < 2, \"z\"] = np.nan"
   ]
  },
  {
   "cell_type": "code",
   "execution_count": 38,
   "metadata": {},
   "outputs": [
    {
     "name": "stdout",
     "output_type": "stream",
     "text": [
      "carat: 1.53 / median z value: 4.56\n",
      "carat: 1.41 / median z value: 4.44\n",
      "carat: 1.07 / median z value: 4.05\n"
     ]
    },
    {
     "data": {
      "text/html": [
       "<style  type=\"text/css\" >\n",
       "#T_113248f1_04e1_11ec_9e74_9828a60a01e2row0_col9,#T_113248f1_04e1_11ec_9e74_9828a60a01e2row1_col9,#T_113248f1_04e1_11ec_9e74_9828a60a01e2row2_col9{\n",
       "            background-color:  limegreen;\n",
       "        }</style><table id=\"T_113248f1_04e1_11ec_9e74_9828a60a01e2\" ><thead>    <tr>        <th class=\"blank level0\" ></th>        <th class=\"col_heading level0 col0\" >carat</th>        <th class=\"col_heading level0 col1\" >cut</th>        <th class=\"col_heading level0 col2\" >color</th>        <th class=\"col_heading level0 col3\" >clarity</th>        <th class=\"col_heading level0 col4\" >depth</th>        <th class=\"col_heading level0 col5\" >table</th>        <th class=\"col_heading level0 col6\" >price</th>        <th class=\"col_heading level0 col7\" >x</th>        <th class=\"col_heading level0 col8\" >y</th>        <th class=\"col_heading level0 col9\" >z</th>    </tr></thead><tbody>\n",
       "                <tr>\n",
       "                        <th id=\"T_113248f1_04e1_11ec_9e74_9828a60a01e2level0_row0\" class=\"row_heading level0 row0\" >20694</th>\n",
       "                        <td id=\"T_113248f1_04e1_11ec_9e74_9828a60a01e2row0_col0\" class=\"data row0 col0\" >1.53</td>\n",
       "                        <td id=\"T_113248f1_04e1_11ec_9e74_9828a60a01e2row0_col1\" class=\"data row0 col1\" >Ideal</td>\n",
       "                        <td id=\"T_113248f1_04e1_11ec_9e74_9828a60a01e2row0_col2\" class=\"data row0 col2\" >I</td>\n",
       "                        <td id=\"T_113248f1_04e1_11ec_9e74_9828a60a01e2row0_col3\" class=\"data row0 col3\" >SI1</td>\n",
       "                        <td id=\"T_113248f1_04e1_11ec_9e74_9828a60a01e2row0_col4\" class=\"data row0 col4\" >61.9</td>\n",
       "                        <td id=\"T_113248f1_04e1_11ec_9e74_9828a60a01e2row0_col5\" class=\"data row0 col5\" >54.0</td>\n",
       "                        <td id=\"T_113248f1_04e1_11ec_9e74_9828a60a01e2row0_col6\" class=\"data row0 col6\" >8971</td>\n",
       "                        <td id=\"T_113248f1_04e1_11ec_9e74_9828a60a01e2row0_col7\" class=\"data row0 col7\" >7.43</td>\n",
       "                        <td id=\"T_113248f1_04e1_11ec_9e74_9828a60a01e2row0_col8\" class=\"data row0 col8\" >7.50</td>\n",
       "                        <td id=\"T_113248f1_04e1_11ec_9e74_9828a60a01e2row0_col9\" class=\"data row0 col9\" >4.56</td>\n",
       "            </tr>\n",
       "            <tr>\n",
       "                        <th id=\"T_113248f1_04e1_11ec_9e74_9828a60a01e2level0_row1\" class=\"row_heading level0 row1\" >21654</th>\n",
       "                        <td id=\"T_113248f1_04e1_11ec_9e74_9828a60a01e2row1_col0\" class=\"data row1 col0\" >1.41</td>\n",
       "                        <td id=\"T_113248f1_04e1_11ec_9e74_9828a60a01e2row1_col1\" class=\"data row1 col1\" >Ideal</td>\n",
       "                        <td id=\"T_113248f1_04e1_11ec_9e74_9828a60a01e2row1_col2\" class=\"data row1 col2\" >H</td>\n",
       "                        <td id=\"T_113248f1_04e1_11ec_9e74_9828a60a01e2row1_col3\" class=\"data row1 col3\" >VS1</td>\n",
       "                        <td id=\"T_113248f1_04e1_11ec_9e74_9828a60a01e2row1_col4\" class=\"data row1 col4\" >60.7</td>\n",
       "                        <td id=\"T_113248f1_04e1_11ec_9e74_9828a60a01e2row1_col5\" class=\"data row1 col5\" >56.0</td>\n",
       "                        <td id=\"T_113248f1_04e1_11ec_9e74_9828a60a01e2row1_col6\" class=\"data row1 col6\" >9752</td>\n",
       "                        <td id=\"T_113248f1_04e1_11ec_9e74_9828a60a01e2row1_col7\" class=\"data row1 col7\" >7.31</td>\n",
       "                        <td id=\"T_113248f1_04e1_11ec_9e74_9828a60a01e2row1_col8\" class=\"data row1 col8\" >7.22</td>\n",
       "                        <td id=\"T_113248f1_04e1_11ec_9e74_9828a60a01e2row1_col9\" class=\"data row1 col9\" >4.44</td>\n",
       "            </tr>\n",
       "            <tr>\n",
       "                        <th id=\"T_113248f1_04e1_11ec_9e74_9828a60a01e2level0_row2\" class=\"row_heading level0 row2\" >14635</th>\n",
       "                        <td id=\"T_113248f1_04e1_11ec_9e74_9828a60a01e2row2_col0\" class=\"data row2 col0\" >1.07</td>\n",
       "                        <td id=\"T_113248f1_04e1_11ec_9e74_9828a60a01e2row2_col1\" class=\"data row2 col1\" >Ideal</td>\n",
       "                        <td id=\"T_113248f1_04e1_11ec_9e74_9828a60a01e2row2_col2\" class=\"data row2 col2\" >F</td>\n",
       "                        <td id=\"T_113248f1_04e1_11ec_9e74_9828a60a01e2row2_col3\" class=\"data row2 col3\" >SI1</td>\n",
       "                        <td id=\"T_113248f1_04e1_11ec_9e74_9828a60a01e2row2_col4\" class=\"data row2 col4\" >60.6</td>\n",
       "                        <td id=\"T_113248f1_04e1_11ec_9e74_9828a60a01e2row2_col5\" class=\"data row2 col5\" >57.0</td>\n",
       "                        <td id=\"T_113248f1_04e1_11ec_9e74_9828a60a01e2row2_col6\" class=\"data row2 col6\" >5909</td>\n",
       "                        <td id=\"T_113248f1_04e1_11ec_9e74_9828a60a01e2row2_col7\" class=\"data row2 col7\" >6.62</td>\n",
       "                        <td id=\"T_113248f1_04e1_11ec_9e74_9828a60a01e2row2_col8\" class=\"data row2 col8\" >6.67</td>\n",
       "                        <td id=\"T_113248f1_04e1_11ec_9e74_9828a60a01e2row2_col9\" class=\"data row2 col9\" >4.05</td>\n",
       "            </tr>\n",
       "    </tbody></table>"
      ],
      "text/plain": [
       "<pandas.io.formats.style.Styler at 0x1dc7d595100>"
      ]
     },
     "execution_count": 38,
     "metadata": {},
     "output_type": "execute_result"
    }
   ],
   "source": [
    "missing_values_imputation(\"z\")"
   ]
  },
  {
   "cell_type": "markdown",
   "metadata": {},
   "source": [
    "### Data Visualization"
   ]
  },
  {
   "cell_type": "markdown",
   "metadata": {},
   "source": [
    "### Bar Plot between cut and price"
   ]
  },
  {
   "cell_type": "code",
   "execution_count": 39,
   "metadata": {},
   "outputs": [
    {
     "data": {
      "image/png": "[encoded data removed]",
      "text/plain": [
       "<Figure size 720x360 with 1 Axes>"
      ]
     },
     "metadata": {},
     "output_type": "display_data"
    }
   ],
   "source": [
    "plt.figure(figsize=(10, 5))\n",
    "sns.barplot(x='cut', y='price', data=df)\n",
    "plt.title('Relation b/w cut and price', fontsize=20);\n",
    "plt.xlabel('cut', fontsize=15)\n",
    "plt.ylabel('price', fontsize=15);"
   ]
  },
  {
   "cell_type": "code",
   "execution_count": 40,
   "metadata": {},
   "outputs": [
    {
     "data": {
      "text/plain": [
       "carat    0.921591\n",
       "y        0.888800\n",
       "x        0.887206\n",
       "z        0.882368\n",
       "table    0.127134\n",
       "depth   -0.010647\n",
       "Name: price, dtype: float64"
      ]
     },
     "execution_count": 40,
     "metadata": {},
     "output_type": "execute_result"
    }
   ],
   "source": [
    "df.corr()['price'].sort_values(ascending=False)[1:]"
   ]
  },
  {
   "cell_type": "code",
   "execution_count": 41,
   "metadata": {},
   "outputs": [
    {
     "name": "stderr",
     "output_type": "stream",
     "text": [
      "E:\\anaconda\\lib\\site-packages\\seaborn\\_decorators.py:36: FutureWarning: Pass the following variables as keyword args: x, y. From version 0.12, the only valid positional argument will be `data`, and passing other arguments without an explicit keyword will result in an error or misinterpretation.\n",
      "  warnings.warn(\n"
     ]
    },
    {
     "data": {
      "image/png": "[encoded data removed]",
      "text/plain": [
       "<Figure size 720x360 with 1 Axes>"
      ]
     },
     "metadata": {},
     "output_type": "display_data"
    }
   ],
   "source": [
    "''' color category '''\n",
    "color_label = df.color.value_counts()\n",
    "plt.figure(figsize=(10, 5))\n",
    "sns.barplot(color_label.index, color_label);\n",
    "plt.ylabel('count', fontsize=15)\n",
    "plt.xlabel('color', fontsize=15);"
   ]
  },
  {
   "cell_type": "markdown",
   "metadata": {},
   "source": [
    "### Bar Plot between clarity and price"
   ]
  },
  {
   "cell_type": "code",
   "execution_count": 42,
   "metadata": {},
   "outputs": [
    {
     "data": {
      "image/png": "[encoded data removed]",
      "text/plain": [
       "<Figure size 720x360 with 1 Axes>"
      ]
     },
     "metadata": {},
     "output_type": "display_data"
    }
   ],
   "source": [
    "plt.figure(figsize=(10, 5))\n",
    "sns.barplot(x='clarity', y='price', data=df);\n",
    "plt.title('Relation b/w clarity and price', fontsize=20)\n",
    "plt.xlabel('clarity', fontsize=15)\n",
    "plt.ylabel('price', fontsize=15);"
   ]
  },
  {
   "cell_type": "code",
   "execution_count": 44,
   "metadata": {},
   "outputs": [],
   "source": [
    "cut_palette = [\"darkturquoise\", \"lightskyblue\", \"paleturquoise\", \"lightcyan\", \"azure\"]\n",
    "color_palette = [\"cadetblue\", \"deepskyblue\", \"darkturquoise\", \"lightskyblue\", \"paleturquoise\", \"lightcyan\", \"azure\"]\n",
    "clarity_palette = [\"cadetblue\", \"deepskyblue\", \"darkturquoise\", \"lightskyblue\", \"paleturquoise\", \"lightcyan\", \"azure\", \"ghostwhite\"]\n",
    "\n",
    "df[\"cut\"] = pd.Categorical(df[\"cut\"], categories = [\"Ideal\", \"Premium\", \"Very Good\", \"Good\", \"Fair\"], ordered = True)\n",
    "df[\"color\"] = pd.Categorical(df[\"color\"], categories = [\"D\", \"E\", \"F\", \"G\", \"H\", \"I\", \"J\"], ordered = True)\n",
    "df[\"clarity\"] = pd.Categorical(df[\"clarity\"], categories = [\"IF\", \"VVS1\", \"VVS2\", \"VS1\", \"VS2\", \"SI1\", \"SI2\", \"I1\"], ordered = True)"
   ]
  },
  {
   "cell_type": "code",
   "execution_count": 45,
   "metadata": {},
   "outputs": [
    {
     "data": {
      "image/png": "[encoded data removed]",
      "text/plain": [
       "<Figure size 504x504 with 1 Axes>"
      ]
     },
     "metadata": {},
     "output_type": "display_data"
    }
   ],
   "source": [
    "df_cut = df[\"cut\"].value_counts()\n",
    "\n",
    "plt.figure(figsize = (7,7))\n",
    "plt.pie(data = df_cut, x = df_cut.values, labels = df_cut.index, autopct = \"%.2f%%\", pctdistance = 0.8, colors = cut_palette )\n",
    "circle = plt.Circle(xy = (0, 0), radius = 0.5, facecolor = 'white')\n",
    "plt.gca().add_artist(circle)\n",
    "plt.title(\"% of each Diamond Cut Quality\", size = 16)\n",
    "plt.show()"
   ]
  },
  {
   "cell_type": "markdown",
   "metadata": {},
   "source": [
    "Ideal>Premium>VeryGood>Good>Fair  "
   ]
  },
  {
   "cell_type": "code",
   "execution_count": 46,
   "metadata": {},
   "outputs": [
    {
     "name": "stdout",
     "output_type": "stream",
     "text": [
      "Ideal quality cuts: 21551\n",
      "Premium quality cuts: 13791\n",
      "Very Good quality cuts: 12082\n",
      "Good quality cuts: 4906\n",
      "Fair quality cuts: 1610\n"
     ]
    }
   ],
   "source": [
    "position = 0\n",
    "for cut in df_cut:\n",
    "    print(\"{0} quality cuts: {1}\".format(df_cut.index[position], df_cut.values[position]))\n",
    "    position += 1"
   ]
  },
  {
   "cell_type": "markdown",
   "metadata": {},
   "source": [
    "We can come to a conclusion that there are more number of high and well cut diamonds."
   ]
  },
  {
   "cell_type": "markdown",
   "metadata": {},
   "source": [
    "**Checking cut with regards to price**"
   ]
  },
  {
   "cell_type": "code",
   "execution_count": 47,
   "metadata": {},
   "outputs": [
    {
     "data": {
      "image/png": "[encoded data removed]",
      "text/plain": [
       "<Figure size 648x432 with 1 Axes>"
      ]
     },
     "metadata": {},
     "output_type": "display_data"
    }
   ],
   "source": [
    "plt.figure(figsize = (9, 6))\n",
    "sns.barplot(data = df, x = \"cut\", y = \"price\", color = c)\n",
    "plt.title(\"Relation between Cut and Price\", size = 16)\n",
    "plt.show()"
   ]
  },
  {
   "cell_type": "markdown",
   "metadata": {},
   "source": [
    "Here we see a unusual interpretation,let us check the correlation"
   ]
  },
  {
   "cell_type": "code",
   "execution_count": 48,
   "metadata": {},
   "outputs": [
    {
     "data": {
      "text/plain": [
       "price    1.000000\n",
       "carat    0.921591\n",
       "y        0.888800\n",
       "x        0.887206\n",
       "z        0.882368\n",
       "table    0.127134\n",
       "depth   -0.010647\n",
       "dtype: float64"
      ]
     },
     "execution_count": 48,
     "metadata": {},
     "output_type": "execute_result"
    }
   ],
   "source": [
    "get_corr(\"price\")"
   ]
  },
  {
   "cell_type": "markdown",
   "metadata": {},
   "source": [
    "**carat is the most important thing with regards to price,diamonds with ideal cuts should have lower carat value** "
   ]
  },
  {
   "cell_type": "code",
   "execution_count": 49,
   "metadata": {},
   "outputs": [
    {
     "data": {
      "text/plain": [
       "cut\n",
       "Ideal        0.702837\n",
       "Premium      0.891955\n",
       "Very Good    0.806381\n",
       "Good         0.849185\n",
       "Fair         1.046137\n",
       "Name: carat, dtype: float64"
      ]
     },
     "execution_count": 49,
     "metadata": {},
     "output_type": "execute_result"
    }
   ],
   "source": [
    "df.groupby([\"cut\"])[\"carat\"].mean()"
   ]
  },
  {
   "cell_type": "markdown",
   "metadata": {},
   "source": [
    "Here we see the mean of Ideal cuts is very low compared to others,therefore the affect in graph."
   ]
  },
  {
   "cell_type": "code",
   "execution_count": 50,
   "metadata": {},
   "outputs": [
    {
     "data": {
      "image/png": "[encoded data removed]",
      "text/plain": [
       "<Figure size 504x504 with 1 Axes>"
      ]
     },
     "metadata": {},
     "output_type": "display_data"
    }
   ],
   "source": [
    "df_color = df[\"color\"].value_counts()\n",
    "\n",
    "plt.figure(figsize = (7,7))\n",
    "plt.pie(data = df_color, x = df_color.values, labels = df_color.index, autopct = \"%.2f%%\", pctdistance = 0.8, startangle = 40, colors = color_palette)\n",
    "circle = plt.Circle(xy = (0, 0), radius = 0.5, facecolor = 'white')\n",
    "plt.gca().add_artist(circle)\n",
    "plt.title(\"% of each Diamond Color\", size = 16)\n",
    "plt.show()"
   ]
  },
  {
   "cell_type": "markdown",
   "metadata": {},
   "source": [
    "D>E>F>G>H>I>J "
   ]
  },
  {
   "cell_type": "code",
   "execution_count": 51,
   "metadata": {},
   "outputs": [
    {
     "name": "stdout",
     "output_type": "stream",
     "text": [
      "G color diamonds: 11292\n",
      "E color diamonds: 9797\n",
      "F color diamonds: 9542\n",
      "H color diamonds: 8304\n",
      "D color diamonds: 6775\n",
      "I color diamonds: 5422\n",
      "J color diamonds: 2808\n"
     ]
    }
   ],
   "source": [
    "position = 0\n",
    "for color in df_color:\n",
    "    print(\"{0} color diamonds: {1}\".format(df_color.index[position], df_color.values[position]))\n",
    "    position += 1"
   ]
  },
  {
   "cell_type": "code",
   "execution_count": 52,
   "metadata": {},
   "outputs": [
    {
     "data": {
      "image/png": "[encoded data removed]",
      "text/plain": [
       "<Figure size 648x432 with 1 Axes>"
      ]
     },
     "metadata": {},
     "output_type": "display_data"
    }
   ],
   "source": [
    "plt.figure(figsize = (9, 6))\n",
    "sns.barplot(data = df, x = \"color\", y = \"price\", color = c)\n",
    "plt.title(\"Relation between Diamond Color and Price\", size = 16)\n",
    "plt.show()"
   ]
  },
  {
   "cell_type": "markdown",
   "metadata": {},
   "source": [
    "Again, the mean price of diamonds with better colors are lower than all other diamonds with worst colors. "
   ]
  },
  {
   "cell_type": "code",
   "execution_count": 53,
   "metadata": {},
   "outputs": [
    {
     "data": {
      "text/plain": [
       "color\n",
       "D    0.657795\n",
       "E    0.657867\n",
       "F    0.736538\n",
       "G    0.771190\n",
       "H    0.911799\n",
       "I    1.026927\n",
       "J    1.162137\n",
       "Name: carat, dtype: float64"
      ]
     },
     "execution_count": 53,
     "metadata": {},
     "output_type": "execute_result"
    }
   ],
   "source": [
    "df.groupby([\"color\"])[\"carat\"].mean()"
   ]
  },
  {
   "cell_type": "markdown",
   "metadata": {},
   "source": [
    "We observe the same here,D has the lowest mean value"
   ]
  },
  {
   "cell_type": "code",
   "execution_count": 54,
   "metadata": {},
   "outputs": [
    {
     "data": {
      "image/png": "[encoded data removed]",
      "text/plain": [
       "<Figure size 504x504 with 1 Axes>"
      ]
     },
     "metadata": {},
     "output_type": "display_data"
    }
   ],
   "source": [
    "df_clarity = df[\"clarity\"].value_counts()\n",
    "\n",
    "plt.figure(figsize = (7,7))\n",
    "plt.pie(data = df_clarity, x = df_clarity.values, labels = df_clarity.index, autopct = \"%.2f%%\", pctdistance = 0.8, colors = clarity_palette)\n",
    "circle = plt.Circle(xy = (0, 0), radius = 0.5, facecolor = 'white')\n",
    "plt.gca().add_artist(circle)\n",
    "plt.title(\"% of each Diamond Clarity\", size = 16)\n",
    "plt.show()"
   ]
  },
  {
   "cell_type": "markdown",
   "metadata": {},
   "source": [
    "IF > VVS1 > VVS2 > VS1 > VS2 > SI1 > SI2 > I1"
   ]
  },
  {
   "cell_type": "code",
   "execution_count": 55,
   "metadata": {},
   "outputs": [
    {
     "name": "stdout",
     "output_type": "stream",
     "text": [
      "SI1 clarity diamonds: 13065\n",
      "VS2 clarity diamonds: 12258\n",
      "SI2 clarity diamonds: 9194\n",
      "VS1 clarity diamonds: 8171\n",
      "VVS2 clarity diamonds: 5066\n",
      "VVS1 clarity diamonds: 3655\n",
      "IF clarity diamonds: 1790\n",
      "I1 clarity diamonds: 741\n"
     ]
    }
   ],
   "source": [
    "position = 0\n",
    "for color in df_clarity:\n",
    "    print(\"{0} clarity diamonds: {1}\".format(df_clarity.index[position], df_clarity.values[position]))\n",
    "    position += 1 "
   ]
  },
  {
   "cell_type": "code",
   "execution_count": 56,
   "metadata": {},
   "outputs": [
    {
     "data": {
      "image/png": "[encoded data removed]",
      "text/plain": [
       "<Figure size 648x432 with 1 Axes>"
      ]
     },
     "metadata": {},
     "output_type": "display_data"
    }
   ],
   "source": [
    "plt.figure(figsize = (9, 6))\n",
    "sns.barplot(data = df, x = \"clarity\", y = \"price\", color = c)\n",
    "plt.title(\"Relation between Diamond Clarity and Price\", size = 16)\n",
    "plt.show()"
   ]
  },
  {
   "cell_type": "code",
   "execution_count": 57,
   "metadata": {},
   "outputs": [
    {
     "data": {
      "text/plain": [
       "clarity\n",
       "IF      0.505123\n",
       "VVS1    0.503321\n",
       "VVS2    0.596202\n",
       "VS1     0.727158\n",
       "VS2     0.763935\n",
       "SI1     0.850482\n",
       "SI2     1.077648\n",
       "I1      1.283846\n",
       "Name: carat, dtype: float64"
      ]
     },
     "execution_count": 57,
     "metadata": {},
     "output_type": "execute_result"
    }
   ],
   "source": [
    "df.groupby([\"clarity\"])[\"carat\"].mean()"
   ]
  },
  {
   "cell_type": "markdown",
   "metadata": {},
   "source": [
    "We observe the same again,VVS1 has the lowest mean."
   ]
  },
  {
   "cell_type": "markdown",
   "metadata": {},
   "source": [
    "### DATA PREPROCESSING TO IMPLEMENT VARIOUS MODELS"
   ]
  },
  {
   "cell_type": "code",
   "execution_count": 59,
   "metadata": {},
   "outputs": [],
   "source": [
    "label_cut = LabelEncoder()\n",
    "label_color = LabelEncoder()\n",
    "label_clarity = LabelEncoder()\n",
    "\n",
    "\n",
    "df['cut'] = label_cut.fit_transform(df['cut'])\n",
    "df['color'] = label_color.fit_transform(df['color'])\n",
    "df['clarity'] = label_clarity.fit_transform(df['clarity'])"
   ]
  },
  {
   "cell_type": "code",
   "execution_count": 60,
   "metadata": {},
   "outputs": [
    {
     "data": {
      "text/html": [
       "<div>\n",
       "<style scoped>\n",
       "    .dataframe tbody tr th:only-of-type {\n",
       "        vertical-align: middle;\n",
       "    }\n",
       "\n",
       "    .dataframe tbody tr th {\n",
       "        vertical-align: top;\n",
       "    }\n",
       "\n",
       "    .dataframe thead th {\n",
       "        text-align: right;\n",
       "    }\n",
       "</style>\n",
       "<table border=\"1\" class=\"dataframe\">\n",
       "  <thead>\n",
       "    <tr style=\"text-align: right;\">\n",
       "      <th></th>\n",
       "      <th>carat</th>\n",
       "      <th>cut</th>\n",
       "      <th>color</th>\n",
       "      <th>clarity</th>\n",
       "      <th>depth</th>\n",
       "      <th>table</th>\n",
       "      <th>price</th>\n",
       "      <th>x</th>\n",
       "      <th>y</th>\n",
       "      <th>z</th>\n",
       "    </tr>\n",
       "  </thead>\n",
       "  <tbody>\n",
       "    <tr>\n",
       "      <th>0</th>\n",
       "      <td>0.23</td>\n",
       "      <td>2</td>\n",
       "      <td>1</td>\n",
       "      <td>3</td>\n",
       "      <td>61.5</td>\n",
       "      <td>55.0</td>\n",
       "      <td>326</td>\n",
       "      <td>3.95</td>\n",
       "      <td>3.98</td>\n",
       "      <td>2.43</td>\n",
       "    </tr>\n",
       "    <tr>\n",
       "      <th>1</th>\n",
       "      <td>0.21</td>\n",
       "      <td>3</td>\n",
       "      <td>1</td>\n",
       "      <td>2</td>\n",
       "      <td>59.8</td>\n",
       "      <td>61.0</td>\n",
       "      <td>326</td>\n",
       "      <td>3.89</td>\n",
       "      <td>3.84</td>\n",
       "      <td>2.31</td>\n",
       "    </tr>\n",
       "    <tr>\n",
       "      <th>2</th>\n",
       "      <td>0.23</td>\n",
       "      <td>1</td>\n",
       "      <td>1</td>\n",
       "      <td>4</td>\n",
       "      <td>56.9</td>\n",
       "      <td>65.0</td>\n",
       "      <td>327</td>\n",
       "      <td>4.05</td>\n",
       "      <td>4.07</td>\n",
       "      <td>2.31</td>\n",
       "    </tr>\n",
       "    <tr>\n",
       "      <th>3</th>\n",
       "      <td>0.29</td>\n",
       "      <td>3</td>\n",
       "      <td>5</td>\n",
       "      <td>5</td>\n",
       "      <td>62.4</td>\n",
       "      <td>58.0</td>\n",
       "      <td>334</td>\n",
       "      <td>4.20</td>\n",
       "      <td>4.23</td>\n",
       "      <td>2.63</td>\n",
       "    </tr>\n",
       "    <tr>\n",
       "      <th>4</th>\n",
       "      <td>0.31</td>\n",
       "      <td>1</td>\n",
       "      <td>6</td>\n",
       "      <td>3</td>\n",
       "      <td>63.3</td>\n",
       "      <td>58.0</td>\n",
       "      <td>335</td>\n",
       "      <td>4.34</td>\n",
       "      <td>4.35</td>\n",
       "      <td>2.75</td>\n",
       "    </tr>\n",
       "  </tbody>\n",
       "</table>\n",
       "</div>"
      ],
      "text/plain": [
       "   carat  cut  color  clarity  depth  table  price     x     y     z\n",
       "0   0.23    2      1        3   61.5   55.0    326  3.95  3.98  2.43\n",
       "1   0.21    3      1        2   59.8   61.0    326  3.89  3.84  2.31\n",
       "2   0.23    1      1        4   56.9   65.0    327  4.05  4.07  2.31\n",
       "3   0.29    3      5        5   62.4   58.0    334  4.20  4.23  2.63\n",
       "4   0.31    1      6        3   63.3   58.0    335  4.34  4.35  2.75"
      ]
     },
     "execution_count": 60,
     "metadata": {},
     "output_type": "execute_result"
    }
   ],
   "source": [
    "df.head()"
   ]
  },
  {
   "cell_type": "code",
   "execution_count": 61,
   "metadata": {},
   "outputs": [],
   "source": [
    "X = df.drop([\"price\"], axis = 1).copy()\n",
    "y = df[\"price\"].copy()"
   ]
  },
  {
   "cell_type": "code",
   "execution_count": 62,
   "metadata": {},
   "outputs": [],
   "source": [
    "X_train, X_test, y_train, y_test = train_test_split(X,y,test_size=0.1, random_state=40)"
   ]
  },
  {
   "cell_type": "markdown",
   "metadata": {},
   "source": [
    "### Linear Regression"
   ]
  },
  {
   "cell_type": "code",
   "execution_count": 70,
   "metadata": {},
   "outputs": [
    {
     "name": "stdout",
     "output_type": "stream",
     "text": [
      "RMSE value is = 1376.6250458046643\n",
      "R-squared value is 0.8841897788553627\n"
     ]
    }
   ],
   "source": [
    "regressor = LinearRegression()\n",
    "regressor.fit(X_train, y_train)\n",
    "prediction = regressor.predict(X_test)\n",
    "rmse_Lreg = np.sqrt(mean_squared_error(y_test, prediction))\n",
    "print('RMSE value is = {}'.format(rmse_Lreg))\n",
    "r2_Lreg = r2_score(y_test, prediction)\n",
    "print('R-squared value is {}'.format(r2_Lreg))"
   ]
  },
  {
   "cell_type": "markdown",
   "metadata": {},
   "source": [
    "### Random Forest Regressor"
   ]
  },
  {
   "cell_type": "code",
   "execution_count": 71,
   "metadata": {},
   "outputs": [
    {
     "name": "stdout",
     "output_type": "stream",
     "text": [
      "RMSE value is = 522.9692644787389\n",
      "R-squared value is 0.9832864814086221\n"
     ]
    }
   ],
   "source": [
    "RFreg_model = RandomForestRegressor()\n",
    "RFreg_model.fit(X_train,y_train)\n",
    "prediction2 = RFreg_model.predict(X_test)\n",
    "rmse_RFreg = np.sqrt(mean_squared_error(y_test, prediction2))\n",
    "print('RMSE value is = {}'.format(rmse_RFreg))\n",
    "r2_RFreg = r2_score(y_test, prediction2)\n",
    "print('R-squared value is {}'.format(r2_RFreg))"
   ]
  },
  {
   "cell_type": "markdown",
   "metadata": {},
   "source": [
    "### Polynomial Regressor"
   ]
  },
  {
   "cell_type": "code",
   "execution_count": 72,
   "metadata": {},
   "outputs": [
    {
     "name": "stdout",
     "output_type": "stream",
     "text": [
      "RMSE value is = 977.721538221508\n",
      "R-squared value is 0.9415821025119236\n"
     ]
    }
   ],
   "source": [
    "from sklearn.preprocessing import PolynomialFeatures\n",
    "from sklearn.linear_model import LinearRegression\n",
    "poly_reg = PolynomialFeatures(degree = 4)\n",
    "X_poly = poly_reg.fit_transform(X_train)\n",
    "regressor = LinearRegression()\n",
    "regressor.fit(X_poly, y_train)\n",
    "prediction3 = regressor.predict(poly_reg.transform(X_test))\n",
    "\n",
    "ploy_reg = np.sqrt(mean_squared_error(y_test, prediction3))\n",
    "print('RMSE value is = {}'.format(ploy_reg))\n",
    "r2_poly_reg = r2_score(y_test, prediction3)\n",
    "print('R-squared value is {}'.format(r2_poly_reg))"
   ]
  },
  {
   "cell_type": "markdown",
   "metadata": {},
   "source": [
    "### Decision Tree Regressor "
   ]
  },
  {
   "cell_type": "code",
   "execution_count": 73,
   "metadata": {},
   "outputs": [
    {
     "name": "stdout",
     "output_type": "stream",
     "text": [
      "RMSE value is = 746.5701536975055\n",
      "R-squared value is 0.9659390462125902\n"
     ]
    }
   ],
   "source": [
    "regressor1 = DecisionTreeRegressor(random_state = 0)\n",
    "regressor1.fit(X_train, y_train)\n",
    "prediction4 = regressor1.predict(X_test)\n",
    "dt_reg = np.sqrt(mean_squared_error(y_test, prediction4))\n",
    "print('RMSE value is = {}'.format(dt_reg))\n",
    "r2_dt_reg = r2_score(y_test, prediction4)\n",
    "print('R-squared value is {}'.format(r2_dt_reg))"
   ]
  },
  {
   "cell_type": "markdown",
   "metadata": {},
   "source": [
    "### XGB Regressor"
   ]
  },
  {
   "cell_type": "code",
   "execution_count": 82,
   "metadata": {},
   "outputs": [
    {
     "name": "stdout",
     "output_type": "stream",
     "text": [
      "RMSE value is = 7878.687711787642\n",
      "R-squared value is -2.7933536281218787\n"
     ]
    }
   ],
   "source": [
    "xgbr = XGBRegressor(learning_rate = 0.1, n_estimators = 200, random_state = SEED)\n",
    "xgbr.fit(X_train,y_train)\n",
    "prediction5 = xgbr.predict(X_test)\n",
    "xgbr_reg = np.sqrt(mean_squared_error(y_test, prediction5))\n",
    "print('RMSE value is = {}'.format(xgbr_reg))\n",
    "r2_xgbr_reg = r2_score(y_test, prediction5)\n",
    "print('R-squared value is {}'.format(r2_xgbr_reg))"
   ]
  },
  {
   "cell_type": "code",
   "execution_count": 86,
   "metadata": {},
   "outputs": [
    {
     "data": {
      "text/html": [
       "<div>\n",
       "<style scoped>\n",
       "    .dataframe tbody tr th:only-of-type {\n",
       "        vertical-align: middle;\n",
       "    }\n",
       "\n",
       "    .dataframe tbody tr th {\n",
       "        vertical-align: top;\n",
       "    }\n",
       "\n",
       "    .dataframe thead th {\n",
       "        text-align: right;\n",
       "    }\n",
       "</style>\n",
       "<table border=\"1\" class=\"dataframe\">\n",
       "  <thead>\n",
       "    <tr style=\"text-align: right;\">\n",
       "      <th></th>\n",
       "      <th>Actual Price</th>\n",
       "      <th>Predicted Price By LinearRegression</th>\n",
       "      <th>Predicted Price By RandomForest</th>\n",
       "      <th>Predicted Price By PolynomialRegressor</th>\n",
       "      <th>Predicted Price By DecisionTreeRegressor</th>\n",
       "      <th>Predicted Price By XgbRegressor</th>\n",
       "    </tr>\n",
       "  </thead>\n",
       "  <tbody>\n",
       "    <tr>\n",
       "      <th>38807</th>\n",
       "      <td>1046</td>\n",
       "      <td>593.816379</td>\n",
       "      <td>964.320000</td>\n",
       "      <td>1024.250603</td>\n",
       "      <td>945.0</td>\n",
       "      <td>7827.296875</td>\n",
       "    </tr>\n",
       "    <tr>\n",
       "      <th>36031</th>\n",
       "      <td>923</td>\n",
       "      <td>44.287825</td>\n",
       "      <td>897.290000</td>\n",
       "      <td>1165.927381</td>\n",
       "      <td>876.0</td>\n",
       "      <td>7684.290039</td>\n",
       "    </tr>\n",
       "    <tr>\n",
       "      <th>28575</th>\n",
       "      <td>675</td>\n",
       "      <td>-217.498219</td>\n",
       "      <td>639.380000</td>\n",
       "      <td>472.529553</td>\n",
       "      <td>675.0</td>\n",
       "      <td>7827.296875</td>\n",
       "    </tr>\n",
       "    <tr>\n",
       "      <th>51189</th>\n",
       "      <td>2348</td>\n",
       "      <td>2156.030710</td>\n",
       "      <td>2403.400000</td>\n",
       "      <td>2470.500218</td>\n",
       "      <td>2268.0</td>\n",
       "      <td>11018.016602</td>\n",
       "    </tr>\n",
       "    <tr>\n",
       "      <th>10962</th>\n",
       "      <td>4903</td>\n",
       "      <td>5894.883014</td>\n",
       "      <td>4565.410000</td>\n",
       "      <td>5233.516574</td>\n",
       "      <td>3961.0</td>\n",
       "      <td>14496.418945</td>\n",
       "    </tr>\n",
       "    <tr>\n",
       "      <th>...</th>\n",
       "      <td>...</td>\n",
       "      <td>...</td>\n",
       "      <td>...</td>\n",
       "      <td>...</td>\n",
       "      <td>...</td>\n",
       "      <td>...</td>\n",
       "    </tr>\n",
       "    <tr>\n",
       "      <th>22076</th>\n",
       "      <td>10096</td>\n",
       "      <td>8031.807571</td>\n",
       "      <td>9773.700000</td>\n",
       "      <td>8380.688853</td>\n",
       "      <td>10359.0</td>\n",
       "      <td>11961.643555</td>\n",
       "    </tr>\n",
       "    <tr>\n",
       "      <th>5647</th>\n",
       "      <td>3880</td>\n",
       "      <td>4506.737377</td>\n",
       "      <td>4034.660000</td>\n",
       "      <td>4018.571097</td>\n",
       "      <td>3846.0</td>\n",
       "      <td>11931.986328</td>\n",
       "    </tr>\n",
       "    <tr>\n",
       "      <th>29488</th>\n",
       "      <td>702</td>\n",
       "      <td>930.971486</td>\n",
       "      <td>760.520000</td>\n",
       "      <td>804.506712</td>\n",
       "      <td>702.0</td>\n",
       "      <td>10041.122070</td>\n",
       "    </tr>\n",
       "    <tr>\n",
       "      <th>33900</th>\n",
       "      <td>844</td>\n",
       "      <td>928.001216</td>\n",
       "      <td>868.680000</td>\n",
       "      <td>726.699063</td>\n",
       "      <td>911.0</td>\n",
       "      <td>9573.125977</td>\n",
       "    </tr>\n",
       "    <tr>\n",
       "      <th>12966</th>\n",
       "      <td>5390</td>\n",
       "      <td>5896.288496</td>\n",
       "      <td>5775.486667</td>\n",
       "      <td>5757.349361</td>\n",
       "      <td>5102.0</td>\n",
       "      <td>11321.826172</td>\n",
       "    </tr>\n",
       "  </tbody>\n",
       "</table>\n",
       "<p>5394 rows × 6 columns</p>\n",
       "</div>"
      ],
      "text/plain": [
       "       Actual Price  Predicted Price By LinearRegression  \\\n",
       "38807          1046                           593.816379   \n",
       "36031           923                            44.287825   \n",
       "28575           675                          -217.498219   \n",
       "51189          2348                          2156.030710   \n",
       "10962          4903                          5894.883014   \n",
       "...             ...                                  ...   \n",
       "22076         10096                          8031.807571   \n",
       "5647           3880                          4506.737377   \n",
       "29488           702                           930.971486   \n",
       "33900           844                           928.001216   \n",
       "12966          5390                          5896.288496   \n",
       "\n",
       "       Predicted Price By RandomForest  \\\n",
       "38807                       964.320000   \n",
       "36031                       897.290000   \n",
       "28575                       639.380000   \n",
       "51189                      2403.400000   \n",
       "10962                      4565.410000   \n",
       "...                                ...   \n",
       "22076                      9773.700000   \n",
       "5647                       4034.660000   \n",
       "29488                       760.520000   \n",
       "33900                       868.680000   \n",
       "12966                      5775.486667   \n",
       "\n",
       "       Predicted Price By PolynomialRegressor  \\\n",
       "38807                             1024.250603   \n",
       "36031                             1165.927381   \n",
       "28575                              472.529553   \n",
       "51189                             2470.500218   \n",
       "10962                             5233.516574   \n",
       "...                                       ...   \n",
       "22076                             8380.688853   \n",
       "5647                              4018.571097   \n",
       "29488                              804.506712   \n",
       "33900                              726.699063   \n",
       "12966                             5757.349361   \n",
       "\n",
       "       Predicted Price By DecisionTreeRegressor  \\\n",
       "38807                                     945.0   \n",
       "36031                                     876.0   \n",
       "28575                                     675.0   \n",
       "51189                                    2268.0   \n",
       "10962                                    3961.0   \n",
       "...                                         ...   \n",
       "22076                                   10359.0   \n",
       "5647                                     3846.0   \n",
       "29488                                     702.0   \n",
       "33900                                     911.0   \n",
       "12966                                    5102.0   \n",
       "\n",
       "       Predicted Price By XgbRegressor  \n",
       "38807                      7827.296875  \n",
       "36031                      7684.290039  \n",
       "28575                      7827.296875  \n",
       "51189                     11018.016602  \n",
       "10962                     14496.418945  \n",
       "...                                ...  \n",
       "22076                     11961.643555  \n",
       "5647                      11931.986328  \n",
       "29488                     10041.122070  \n",
       "33900                      9573.125977  \n",
       "12966                     11321.826172  \n",
       "\n",
       "[5394 rows x 6 columns]"
      ]
     },
     "execution_count": 86,
     "metadata": {},
     "output_type": "execute_result"
    }
   ],
   "source": [
    "Result= pd.DataFrame({'Actual Price':y_test,'Predicted Price By LinearRegression':prediction,'Predicted Price By RandomForest':prediction2,'Predicted Price By PolynomialRegressor':prediction3,'Predicted Price By DecisionTreeRegressor':prediction4,'Predicted Price By XgbRegressor':prediction5})\n",
    "Result"
   ]
  },
  {
   "cell_type": "code",
   "execution_count": 87,
   "metadata": {},
   "outputs": [
    {
     "data": {
      "text/html": [
       "<div>\n",
       "<style scoped>\n",
       "    .dataframe tbody tr th:only-of-type {\n",
       "        vertical-align: middle;\n",
       "    }\n",
       "\n",
       "    .dataframe tbody tr th {\n",
       "        vertical-align: top;\n",
       "    }\n",
       "\n",
       "    .dataframe thead th {\n",
       "        text-align: right;\n",
       "    }\n",
       "</style>\n",
       "<table border=\"1\" class=\"dataframe\">\n",
       "  <thead>\n",
       "    <tr style=\"text-align: right;\">\n",
       "      <th></th>\n",
       "      <th>Actual Price</th>\n",
       "      <th>Predicted Price By LinearRegression</th>\n",
       "      <th>Predicted Price By RandomForest</th>\n",
       "      <th>Predicted Price By PolynomialRegressor</th>\n",
       "      <th>Predicted Price By DecisionTreeRegressor</th>\n",
       "      <th>Predicted Price By XgbRegressor</th>\n",
       "    </tr>\n",
       "  </thead>\n",
       "  <tbody>\n",
       "    <tr>\n",
       "      <th>38807</th>\n",
       "      <td>1046</td>\n",
       "      <td>593.816379</td>\n",
       "      <td>964.32</td>\n",
       "      <td>1024.250603</td>\n",
       "      <td>945.0</td>\n",
       "      <td>7827.296875</td>\n",
       "    </tr>\n",
       "    <tr>\n",
       "      <th>36031</th>\n",
       "      <td>923</td>\n",
       "      <td>44.287825</td>\n",
       "      <td>897.29</td>\n",
       "      <td>1165.927381</td>\n",
       "      <td>876.0</td>\n",
       "      <td>7684.290039</td>\n",
       "    </tr>\n",
       "    <tr>\n",
       "      <th>28575</th>\n",
       "      <td>675</td>\n",
       "      <td>-217.498219</td>\n",
       "      <td>639.38</td>\n",
       "      <td>472.529553</td>\n",
       "      <td>675.0</td>\n",
       "      <td>7827.296875</td>\n",
       "    </tr>\n",
       "    <tr>\n",
       "      <th>51189</th>\n",
       "      <td>2348</td>\n",
       "      <td>2156.030710</td>\n",
       "      <td>2403.40</td>\n",
       "      <td>2470.500218</td>\n",
       "      <td>2268.0</td>\n",
       "      <td>11018.016602</td>\n",
       "    </tr>\n",
       "    <tr>\n",
       "      <th>10962</th>\n",
       "      <td>4903</td>\n",
       "      <td>5894.883014</td>\n",
       "      <td>4565.41</td>\n",
       "      <td>5233.516574</td>\n",
       "      <td>3961.0</td>\n",
       "      <td>14496.418945</td>\n",
       "    </tr>\n",
       "  </tbody>\n",
       "</table>\n",
       "</div>"
      ],
      "text/plain": [
       "       Actual Price  Predicted Price By LinearRegression  \\\n",
       "38807          1046                           593.816379   \n",
       "36031           923                            44.287825   \n",
       "28575           675                          -217.498219   \n",
       "51189          2348                          2156.030710   \n",
       "10962          4903                          5894.883014   \n",
       "\n",
       "       Predicted Price By RandomForest  \\\n",
       "38807                           964.32   \n",
       "36031                           897.29   \n",
       "28575                           639.38   \n",
       "51189                          2403.40   \n",
       "10962                          4565.41   \n",
       "\n",
       "       Predicted Price By PolynomialRegressor  \\\n",
       "38807                             1024.250603   \n",
       "36031                             1165.927381   \n",
       "28575                              472.529553   \n",
       "51189                             2470.500218   \n",
       "10962                             5233.516574   \n",
       "\n",
       "       Predicted Price By DecisionTreeRegressor  \\\n",
       "38807                                     945.0   \n",
       "36031                                     876.0   \n",
       "28575                                     675.0   \n",
       "51189                                    2268.0   \n",
       "10962                                    3961.0   \n",
       "\n",
       "       Predicted Price By XgbRegressor  \n",
       "38807                      7827.296875  \n",
       "36031                      7684.290039  \n",
       "28575                      7827.296875  \n",
       "51189                     11018.016602  \n",
       "10962                     14496.418945  "
      ]
     },
     "execution_count": 87,
     "metadata": {},
     "output_type": "execute_result"
    }
   ],
   "source": [
    "Result.head()"
   ]
  }
 ],
 "metadata": {
  "kernelspec": {
   "display_name": "Python 3",
   "language": "python",
   "name": "python3"
  },
  "language_info": {
   "codemirror_mode": {
    "name": "ipython",
    "version": 3
   },
   "file_extension": ".py",
   "mimetype": "text/x-python",
   "name": "python",
   "nbconvert_exporter": "python",
   "pygments_lexer": "ipython3",
   "version": "3.8.5"
  }
 },
 "nbformat": 4,
 "nbformat_minor": 4
}
